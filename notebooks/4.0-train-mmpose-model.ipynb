{
 "cells": [
  {
   "cell_type": "markdown",
   "id": "11ae8ae3",
   "metadata": {},
   "source": [
    "### Train an MMPose Network\n",
    "- note that I am using the conda env at /n/groups/datta/tim_sainburg/conda_envs/openmmlab"
   ]
  },
  {
   "cell_type": "code",
   "execution_count": 1,
   "id": "b7cdeb88",
   "metadata": {},
   "outputs": [],
   "source": [
    "import os\n",
    "os.environ[\"CUDA_DEVICE_ORDER\"]=\"PCI_BUS_ID\"   # see issue #152\n",
    "os.environ[\"CUDA_VISIBLE_DEVICES\"]=\"0\""
   ]
  },
  {
   "cell_type": "code",
   "execution_count": 2,
   "id": "47b6864d",
   "metadata": {},
   "outputs": [],
   "source": [
    "from pathlib import Path\n",
    "import sys\n",
    "from datetime import datetime"
   ]
  },
  {
   "cell_type": "markdown",
   "id": "d973efda-bf01-405b-af49-a56a1be27102",
   "metadata": {},
   "source": [
    "### Download checkpoint for a pretrained model (if desired)\n",
    "Alternatively, use a previous mouse model as a pretrained model"
   ]
  },
  {
   "cell_type": "code",
   "execution_count": 3,
   "id": "512a556e",
   "metadata": {},
   "outputs": [],
   "source": [
    "pretrained_model_directory = Path(\"/n/groups/datta/tim_sainburg/datasets/scratch/pretrained_mm_models\")\n",
    "pretrained_model_directory.mkdir(parents=True, exist_ok=True)"
   ]
  },
  {
   "cell_type": "code",
   "execution_count": 4,
   "id": "75575fcf",
   "metadata": {},
   "outputs": [],
   "source": [
    "# find models here: https://github.com/open-mmlab/mmpose/tree/main/configs\n",
    "pretrain_model = \"rtmpose-m_8xb64-210e_ap10k-256x256\""
   ]
  },
  {
   "cell_type": "code",
   "execution_count": 5,
   "id": "3e9f6f12",
   "metadata": {},
   "outputs": [
    {
     "name": "stdout",
     "output_type": "stream",
     "text": [
      "source activate /n/groups/datta/tim_sainburg/conda_envs/mmdeploy; mim download mmpose --config rtmpose-m_8xb64-210e_ap10k-256x256 --dest /n/groups/datta/tim_sainburg/datasets/scratch/pretrained_mm_models\n"
     ]
    }
   ],
   "source": [
    "command = f\"source activate {Path(sys.executable).parents[1]}; mim download mmpose --config {pretrain_model} --dest {pretrained_model_directory.as_posix()}\"\n",
    "print(command)"
   ]
  },
  {
   "cell_type": "code",
   "execution_count": 6,
   "id": "20e23ff1",
   "metadata": {},
   "outputs": [
    {
     "name": "stdout",
     "output_type": "stream",
     "text": [
      "/bin/bash: activate: No such file or directory\n",
      "processing rtmpose-m_8xb64-210e_ap10k-256x256...\n",
      "\u001b[32mrtmpose-m_simcc-ap10k_pt-aic-coco_210e-256x256-7a041aa1_20230206.pth exists in /n/groups/datta/tim_sainburg/datasets/scratch/pretrained_mm_models\u001b[0m\n",
      "Traceback (most recent call last):\n",
      "  File \"/n/groups/datta/tim_sainburg/conda_envs/mmdeploy/bin/mim\", line 8, in <module>\n",
      "    sys.exit(cli())\n",
      "  File \"/n/groups/datta/tim_sainburg/conda_envs/mmdeploy/lib/python3.10/site-packages/click/core.py\", line 1157, in __call__\n",
      "    return self.main(*args, **kwargs)\n",
      "  File \"/n/groups/datta/tim_sainburg/conda_envs/mmdeploy/lib/python3.10/site-packages/click/core.py\", line 1078, in main\n",
      "    rv = self.invoke(ctx)\n",
      "  File \"/n/groups/datta/tim_sainburg/conda_envs/mmdeploy/lib/python3.10/site-packages/click/core.py\", line 1688, in invoke\n",
      "    return _process_result(sub_ctx.command.invoke(sub_ctx))\n",
      "  File \"/n/groups/datta/tim_sainburg/conda_envs/mmdeploy/lib/python3.10/site-packages/click/core.py\", line 1434, in invoke\n",
      "    return ctx.invoke(self.callback, **ctx.params)\n",
      "  File \"/n/groups/datta/tim_sainburg/conda_envs/mmdeploy/lib/python3.10/site-packages/click/core.py\", line 783, in invoke\n",
      "    return __callback(*args, **kwargs)\n",
      "  File \"/n/groups/datta/tim_sainburg/conda_envs/mmdeploy/lib/python3.10/site-packages/mim/commands/download.py\", line 70, in cli\n",
      "    download(package, configs, dest_root, check_certificate, dataset)\n",
      "  File \"/n/groups/datta/tim_sainburg/conda_envs/mmdeploy/lib/python3.10/site-packages/mim/commands/download.py\", line 107, in download\n",
      "    return _download_configs(package, configs, dest_root,\n",
      "  File \"/n/groups/datta/tim_sainburg/conda_envs/mmdeploy/lib/python3.10/site-packages/mim/commands/download.py\", line 182, in _download_configs\n",
      "    config_obj.dump(saved_config_path)\n",
      "  File \"/n/groups/datta/tim_sainburg/conda_envs/mmdeploy/lib/python3.10/site-packages/mmengine/config/config.py\", line 1568, in dump\n",
      "    with open(file, 'w', encoding='utf-8') as f:\n",
      "PermissionError: [Errno 13] Permission denied: '/n/groups/datta/tim_sainburg/datasets/scratch/pretrained_mm_models/rtmpose-m_8xb64-210e_ap10k-256x256.py'\n"
     ]
    }
   ],
   "source": [
    "!{command}"
   ]
  },
  {
   "cell_type": "code",
   "execution_count": 7,
   "id": "c8bb3a2f",
   "metadata": {},
   "outputs": [
    {
     "name": "stdout",
     "output_type": "stream",
     "text": [
      "rtmdet_s_8xb32-300e_coco_20220905_161602-387a891e.pth\n",
      "rtmdet_s_8xb32-300e_coco.py\n",
      "rtmpose-m_8xb64-210e_ap10k-256x256.py\n",
      "rtmpose-m_simcc-ap10k_pt-aic-coco_210e-256x256-7a041aa1_20230206.pth\n"
     ]
    }
   ],
   "source": [
    "!ls {pretrained_model_directory.as_posix()}"
   ]
  },
  {
   "cell_type": "code",
   "execution_count": 8,
   "id": "177875e9",
   "metadata": {},
   "outputs": [
    {
     "data": {
      "text/plain": [
       "PosixPath('/n/groups/datta/tim_sainburg/datasets/scratch/pretrained_mm_models')"
      ]
     },
     "execution_count": 8,
     "metadata": {},
     "output_type": "execute_result"
    }
   ],
   "source": [
    "pretrained_model_directory"
   ]
  },
  {
   "cell_type": "markdown",
   "id": "1bd52711-da6b-44bc-be9a-b7bc206aae85",
   "metadata": {},
   "source": [
    "### Parameters and dataset"
   ]
  },
  {
   "cell_type": "code",
   "execution_count": 9,
   "id": "7e12fd6c",
   "metadata": {},
   "outputs": [],
   "source": [
    "model_name = 'rat_6cam'\n",
    "\n",
    "# Where the COCO format dataset is located (created in the previous notebook)\n",
    "dataset_directory = Path(\"/n/groups/datta/jlove/data/rat_seq/6cam/detection_training/08-26-24-rat_6cam_alldata\")\n",
    "\n",
    "# which config to use (this is what we base the config off of). Should be in the mmpose repo. \n",
    "config_loc = Path('/n/groups/datta/tim_sainburg/projects/mmpose/configs/animal_2d_keypoint/rtmpose/ap10k/rtmpose-m_8xb64-210e_ap10k-256x256.py')\n",
    "\n",
    "# which pretrained model to use (point to .pth file). Pretrained model should be the same model architecture. \n",
    "#pretrained_model = pretrained_model_directory / \"rtmpose-m_simcc-ap10k_pt-aic-coco_210e-256x256-7a041aa1_20230206.pth\"\n",
    "pretrained_model = '/n/groups/datta/tim_sainburg/projects/24-01-05-multicamera_keypoints_mm2d/models/rtmpose/rtmpose-m_8xb64-210e_ap10k-256x256_24-01-05-13-46-05_748568/best_PCK_epoch_230.pth'\n",
    "use_pretrained_model = False\n",
    "\n",
    "# working directory (where model output is saved)\n",
    "output_directory = Path(\"/n/groups/datta/jlove/data/rat_seq/6cam/mm_training\")\n",
    "formatted_datetime = datetime.now().strftime(\"%y-%m-%d-%H-%M-%S\")\n",
    "working_directory = (output_directory / 'rtmpose' / f\"{model_name}_{formatted_datetime}\")\n",
    "working_directory.mkdir(parents=True, exist_ok=True)"
   ]
  },
  {
   "cell_type": "code",
   "execution_count": 10,
   "id": "0f2657b7",
   "metadata": {},
   "outputs": [],
   "source": [
    "assert config_loc.exists()\n",
    "assert dataset_directory.exists()"
   ]
  },
  {
   "cell_type": "markdown",
   "id": "aad9a440",
   "metadata": {},
   "source": [
    "# You shouldn't need to change anything below here\n",
    "(unless you are using a different skeleton model)"
   ]
  },
  {
   "cell_type": "markdown",
   "id": "7e08856b-dedf-457d-9f15-25df27dd8c33",
   "metadata": {},
   "source": [
    "### Display compute / environment info (for future reference)"
   ]
  },
  {
   "cell_type": "code",
   "execution_count": 11,
   "id": "2da41e9f-90d0-4433-82a8-6506a8d53eb2",
   "metadata": {},
   "outputs": [
    {
     "name": "stdout",
     "output_type": "stream",
     "text": [
      "nvcc: NVIDIA (R) Cuda compiler driver\n",
      "Copyright (c) 2005-2023 NVIDIA Corporation\n",
      "Built on Mon_Apr__3_17:16:06_PDT_2023\n",
      "Cuda compilation tools, release 12.1, V12.1.105\n",
      "Build cuda_12.1.r12.1/compiler.32688072_0\n",
      "gcc (GCC) 4.8.5 20150623 (Red Hat 4.8.5-44)\n",
      "Copyright (C) 2015 Free Software Foundation, Inc.\n",
      "This is free software; see the source for copying conditions.  There is NO\n",
      "warranty; not even for MERCHANTABILITY or FITNESS FOR A PARTICULAR PURPOSE.\n",
      "\n"
     ]
    }
   ],
   "source": [
    "# Check nvcc version\n",
    "!nvcc -V\n",
    "# Check GCC version\n",
    "!gcc --version"
   ]
  },
  {
   "cell_type": "code",
   "execution_count": 12,
   "id": "e1f5ff4f-9f73-4788-a770-a57d813a25b0",
   "metadata": {},
   "outputs": [
    {
     "name": "stdout",
     "output_type": "stream",
     "text": [
      "Environment: /n/groups/datta/tim_sainburg/conda_envs/mmdeploy/bin/python3\n",
      "sys.platform: linux\n",
      "Python: 3.10.13 (main, Sep 11 2023, 13:44:35) [GCC 11.2.0]\n",
      "CUDA available: True\n",
      "numpy_random_seed: 2147483648\n",
      "GPU 0: Quadro RTX 6000\n",
      "CUDA_HOME: /n/groups/datta/tim_sainburg/conda_envs/mmdeploy\n",
      "NVCC: Cuda compilation tools, release 12.1, V12.1.105\n",
      "GCC: gcc (GCC) 4.8.5 20150623 (Red Hat 4.8.5-44)\n",
      "PyTorch: 2.1.1\n",
      "PyTorch compiling details: PyTorch built with:\n",
      "  - GCC 9.3\n",
      "  - C++ Version: 201703\n",
      "  - Intel(R) oneAPI Math Kernel Library Version 2023.1-Product Build 20230303 for Intel(R) 64 architecture applications\n",
      "  - Intel(R) MKL-DNN v3.1.1 (Git Hash 64f6bcbcbab628e96f33a62c3e975f8535a7bde4)\n",
      "  - OpenMP 201511 (a.k.a. OpenMP 4.5)\n",
      "  - LAPACK is enabled (usually provided by MKL)\n",
      "  - NNPACK is enabled\n",
      "  - CPU capability usage: AVX512\n",
      "  - CUDA Runtime 12.1\n",
      "  - NVCC architecture flags: -gencode;arch=compute_50,code=sm_50;-gencode;arch=compute_60,code=sm_60;-gencode;arch=compute_61,code=sm_61;-gencode;arch=compute_70,code=sm_70;-gencode;arch=compute_75,code=sm_75;-gencode;arch=compute_80,code=sm_80;-gencode;arch=compute_86,code=sm_86;-gencode;arch=compute_90,code=sm_90\n",
      "  - CuDNN 8.9.2\n",
      "  - Magma 2.6.1\n",
      "  - Build settings: BLAS_INFO=mkl, BUILD_TYPE=Release, CUDA_VERSION=12.1, CUDNN_VERSION=8.9.2, CXX_COMPILER=/opt/rh/devtoolset-9/root/usr/bin/c++, CXX_FLAGS= -D_GLIBCXX_USE_CXX11_ABI=0 -fabi-version=11 -fvisibility-inlines-hidden -DUSE_PTHREADPOOL -DNDEBUG -DUSE_KINETO -DLIBKINETO_NOROCTRACER -DUSE_FBGEMM -DUSE_QNNPACK -DUSE_PYTORCH_QNNPACK -DUSE_XNNPACK -DSYMBOLICATE_MOBILE_DEBUG_HANDLE -O2 -fPIC -Wall -Wextra -Werror=return-type -Werror=non-virtual-dtor -Werror=bool-operation -Wnarrowing -Wno-missing-field-initializers -Wno-type-limits -Wno-array-bounds -Wno-unknown-pragmas -Wno-unused-parameter -Wno-unused-function -Wno-unused-result -Wno-strict-overflow -Wno-strict-aliasing -Wno-stringop-overflow -Wno-psabi -Wno-error=pedantic -Wno-error=old-style-cast -Wno-invalid-partial-specialization -Wno-unused-private-field -Wno-aligned-allocation-unavailable -Wno-missing-braces -fdiagnostics-color=always -faligned-new -Wno-unused-but-set-variable -Wno-maybe-uninitialized -fno-math-errno -fno-trapping-math -Werror=format -Werror=cast-function-type -Wno-stringop-overflow, LAPACK_INFO=mkl, PERF_WITH_AVX=1, PERF_WITH_AVX2=1, PERF_WITH_AVX512=1, TORCH_DISABLE_GPU_ASSERTS=ON, TORCH_VERSION=2.1.1, USE_CUDA=ON, USE_CUDNN=ON, USE_EXCEPTION_PTR=1, USE_GFLAGS=OFF, USE_GLOG=OFF, USE_MKL=ON, USE_MKLDNN=ON, USE_MPI=OFF, USE_NCCL=ON, USE_NNPACK=ON, USE_OPENMP=ON, USE_ROCM=OFF, \n",
      "\n",
      "TorchVision: 0.16.1\n",
      "OpenCV: 4.10.0\n",
      "MMEngine: 0.10.1\n",
      "MMDetection: 3.2.0+b6631d1\n",
      "cuda version: 12.1\n",
      "compiler information: GCC 9.3\n",
      "torch version: 2.1.1 True\n",
      "torchvision version: 0.16.1\n",
      "mmpose version: 1.1.0\n"
     ]
    }
   ],
   "source": [
    "from mmengine.utils import get_git_hash\n",
    "from mmengine.utils.dl_utils import collect_env as collect_base_env\n",
    "import sys\n",
    "import mmdet\n",
    "import torch, torchvision\n",
    "import mmpose\n",
    "from mmcv.ops import get_compiling_cuda_version, get_compiler_version\n",
    "\n",
    "def collect_env():\n",
    "    \"\"\"Collect the information of the running environments.\"\"\"\n",
    "    env_info = collect_base_env()\n",
    "    env_info['MMDetection'] = f'{mmdet.__version__}+{get_git_hash()[:7]}'\n",
    "    return env_info\n",
    "\n",
    "print(f\"Environment: {sys.executable}\")\n",
    "for name, val in collect_env().items():\n",
    "    print(f'{name}: {val}')\n",
    "# Check Pytorch installation\n",
    "print('cuda version:', get_compiling_cuda_version())\n",
    "print('compiler information:', get_compiler_version())\n",
    "print('torch version:', torch.__version__, torch.cuda.is_available())\n",
    "print('torchvision version:', torchvision.__version__)\n",
    "print('mmpose version:', mmpose.__version__) "
   ]
  },
  {
   "cell_type": "markdown",
   "id": "093815db",
   "metadata": {},
   "source": [
    "### Register the new dataset"
   ]
  },
  {
   "cell_type": "code",
   "execution_count": 13,
   "id": "1f6397d3",
   "metadata": {},
   "outputs": [],
   "source": [
    "from mmpipeline.paths import PACKAGE_DIR"
   ]
  },
  {
   "cell_type": "code",
   "execution_count": 14,
   "id": "c19592de-43dd-4c78-b9d4-79e64fc61868",
   "metadata": {},
   "outputs": [],
   "source": [
    "from mmpose.registry import DATASETS\n",
    "from mmpose.datasets.datasets.base import BaseCocoStyleDataset"
   ]
  },
  {
   "cell_type": "code",
   "execution_count": 15,
   "id": "208b79a4",
   "metadata": {},
   "outputs": [],
   "source": [
    "# this file contains info about the dataset (keypoints, skeleton, etc) needed for traiing\n",
    "dataset_info_loc =  Path(\"/n/groups/datta/tim_sainburg/projects/multicamera_airflow_pipeline/multicamera_airflow_pipeline/tim_240731/skeletons/sainburg25pt.py\")"
   ]
  },
  {
   "cell_type": "code",
   "execution_count": 16,
   "id": "f530c123",
   "metadata": {},
   "outputs": [],
   "source": [
    "@DATASETS.register_module()\n",
    "class CoCo25pt(BaseCocoStyleDataset):\n",
    "    METAINFO: dict = dict(from_file=dataset_info_loc)"
   ]
  },
  {
   "cell_type": "markdown",
   "id": "f0406df6",
   "metadata": {},
   "source": [
    "### Create config file"
   ]
  },
  {
   "cell_type": "code",
   "execution_count": 17,
   "id": "fb9fc669",
   "metadata": {},
   "outputs": [],
   "source": [
    "from mmengine import Config"
   ]
  },
  {
   "cell_type": "code",
   "execution_count": 18,
   "id": "ae60a35c",
   "metadata": {},
   "outputs": [],
   "source": [
    "cfg = Config.fromfile(config_loc.as_posix())"
   ]
  },
  {
   "cell_type": "code",
   "execution_count": 19,
   "id": "254544aa",
   "metadata": {},
   "outputs": [],
   "source": [
    "# load COCO pre-trained weight\n",
    "if use_pretrained_model:\n",
    "    cfg.load_from = pretrained_model.as_posix()"
   ]
  },
  {
   "cell_type": "code",
   "execution_count": 20,
   "id": "1be2c611",
   "metadata": {},
   "outputs": [],
   "source": [
    "# set the dataset directory\n",
    "cfg.data_root = dataset_directory.as_posix()\n",
    "\n",
    "# set the working directory\n",
    "cfg.work_dir = working_directory.as_posix()\n",
    "cfg.randomness = dict(seed=0)"
   ]
  },
  {
   "cell_type": "code",
   "execution_count": 21,
   "id": "f6684594",
   "metadata": {},
   "outputs": [],
   "source": [
    "# set dataset configs\n",
    "cfg.dataset_type = 'CoCo25pt'\n",
    "cfg.data_mode = 'topdown'\n",
    "\n",
    "# number of keypoints\n",
    "cfg.model.head.out_channels = 25\n",
    "\n",
    "cfg.train_dataloader.dataset.type = cfg.dataset_type\n",
    "cfg.train_dataloader.dataset.ann_file = 'annotations/instances_train.json'\n",
    "cfg.train_dataloader.dataset.data_root = cfg.data_root\n",
    "cfg.train_dataloader.dataset.data_prefix = dict(img='train/')\n",
    "\n",
    "\n",
    "cfg.val_dataloader.dataset.type = cfg.dataset_type\n",
    "cfg.val_dataloader.dataset.bbox_file = None\n",
    "cfg.val_dataloader.dataset.ann_file = 'annotations/instances_val.json'\n",
    "cfg.val_dataloader.dataset.data_root = cfg.data_root\n",
    "cfg.val_dataloader.dataset.data_prefix = dict(img='val/')\n",
    "\n",
    "cfg.test_dataloader.dataset.type = cfg.dataset_type\n",
    "cfg.test_dataloader.dataset.bbox_file = None\n",
    "cfg.test_dataloader.dataset.ann_file = 'annotations/instances_val.json'\n",
    "cfg.test_dataloader.dataset.data_root = cfg.data_root\n",
    "cfg.test_dataloader.dataset.data_prefix = dict(img='val/')\n",
    "\n",
    "# set to custom datset\n",
    "cfg.train_dataloader.dataset.metainfo = dict(from_file=dataset_info_loc.as_posix())\n",
    "cfg.val_dataloader.dataset.metainfo = dict(from_file=dataset_info_loc.as_posix())\n",
    "cfg.test_dataloader.dataset.metainfo = dict(from_file=dataset_info_loc.as_posix())\n",
    "\n",
    "# set evaluator\n",
    "cfg.val_evaluator = dict(type='PCKAccuracy')\n",
    "cfg.test_evaluator = cfg.val_evaluator\n",
    "\n",
    "cfg.default_hooks.checkpoint.save_best = 'PCK'\n",
    "cfg.default_hooks.checkpoint.max_keep_ckpts = 15\n",
    "cfg.default_hooks.checkpoint.interval = 50\n",
    "\n",
    "cfg.max_epochs = 2000\n",
    "cfg.train_cfg.max_epochs = 2000"
   ]
  },
  {
   "cell_type": "code",
   "execution_count": 22,
   "id": "13341f35",
   "metadata": {},
   "outputs": [
    {
     "name": "stdout",
     "output_type": "stream",
     "text": [
      "Config (path: /n/groups/datta/tim_sainburg/projects/mmpose/configs/animal_2d_keypoint/rtmpose/ap10k/rtmpose-m_8xb64-210e_ap10k-256x256.py): {'default_scope': 'mmpose', 'default_hooks': {'timer': {'type': 'IterTimerHook'}, 'logger': {'type': 'LoggerHook', 'interval': 50}, 'param_scheduler': {'type': 'ParamSchedulerHook'}, 'checkpoint': {'type': 'CheckpointHook', 'interval': 50, 'save_best': 'PCK', 'rule': 'greater', 'max_keep_ckpts': 15}, 'sampler_seed': {'type': 'DistSamplerSeedHook'}, 'visualization': {'type': 'PoseVisualizationHook', 'enable': False}, 'badcase': {'type': 'BadCaseAnalysisHook', 'enable': False, 'out_dir': 'badcase', 'metric_type': 'loss', 'badcase_thr': 5}}, 'custom_hooks': [{'type': 'EMAHook', 'ema_type': 'ExpMomentumEMA', 'momentum': 0.0002, 'update_buffers': True, 'priority': 49}, {'type': 'mmdet.PipelineSwitchHook', 'switch_epoch': 180, 'switch_pipeline': [{'type': 'LoadImage', 'backend_args': {'backend': 'local'}}, {'type': 'GetBBoxCenterScale'}, {'type': 'RandomFlip', 'direction': 'horizontal'}, {'type': 'RandomHalfBody'}, {'type': 'RandomBBoxTransform', 'shift_factor': 0.0, 'scale_factor': [0.75, 1.25], 'rotate_factor': 60}, {'type': 'TopdownAffine', 'input_size': (256, 256)}, {'type': 'mmdet.YOLOXHSVRandomAug'}, {'type': 'Albumentation', 'transforms': [{'type': 'Blur', 'p': 0.1}, {'type': 'MedianBlur', 'p': 0.1}, {'type': 'CoarseDropout', 'max_holes': 1, 'max_height': 0.4, 'max_width': 0.4, 'min_holes': 1, 'min_height': 0.2, 'min_width': 0.2, 'p': 0.5}]}, {'type': 'GenerateTarget', 'encoder': {'type': 'SimCCLabel', 'input_size': (256, 256), 'sigma': (5.66, 5.66), 'simcc_split_ratio': 2.0, 'normalize': False, 'use_dark': False}}, {'type': 'PackPoseInputs'}]}], 'env_cfg': {'cudnn_benchmark': False, 'mp_cfg': {'mp_start_method': 'fork', 'opencv_num_threads': 0}, 'dist_cfg': {'backend': 'nccl'}}, 'vis_backends': [{'type': 'LocalVisBackend'}], 'visualizer': {'type': 'PoseLocalVisualizer', 'vis_backends': [{'type': 'LocalVisBackend'}], 'name': 'visualizer'}, 'log_processor': {'type': 'LogProcessor', 'window_size': 50, 'by_epoch': True, 'num_digits': 6}, 'log_level': 'INFO', 'load_from': None, 'resume': False, 'backend_args': {'backend': 'local'}, 'train_cfg': {'by_epoch': True, 'max_epochs': 2000, 'val_interval': 10}, 'val_cfg': {}, 'test_cfg': {}, 'max_epochs': 2000, 'stage2_num_epochs': 30, 'base_lr': 0.004, 'randomness': {'seed': 0}, 'optim_wrapper': {'type': 'OptimWrapper', 'optimizer': {'type': 'AdamW', 'lr': 0.004, 'weight_decay': 0.05}, 'paramwise_cfg': {'norm_decay_mult': 0, 'bias_decay_mult': 0, 'bypass_duplicate': True}}, 'param_scheduler': [{'type': 'LinearLR', 'start_factor': 1e-05, 'by_epoch': False, 'begin': 0, 'end': 1000}, {'type': 'CosineAnnealingLR', 'eta_min': 0.0002, 'begin': 105, 'end': 210, 'T_max': 105, 'by_epoch': True, 'convert_to_iter_based': True}], 'auto_scale_lr': {'base_batch_size': 512}, 'codec': {'type': 'SimCCLabel', 'input_size': (256, 256), 'sigma': (5.66, 5.66), 'simcc_split_ratio': 2.0, 'normalize': False, 'use_dark': False}, 'model': {'type': 'TopdownPoseEstimator', 'data_preprocessor': {'type': 'PoseDataPreprocessor', 'mean': [123.675, 116.28, 103.53], 'std': [58.395, 57.12, 57.375], 'bgr_to_rgb': True}, 'backbone': {'_scope_': 'mmdet', 'type': 'CSPNeXt', 'arch': 'P5', 'expand_ratio': 0.5, 'deepen_factor': 0.67, 'widen_factor': 0.75, 'out_indices': (4,), 'channel_attention': True, 'norm_cfg': {'type': 'SyncBN'}, 'act_cfg': {'type': 'SiLU'}, 'init_cfg': {'type': 'Pretrained', 'prefix': 'backbone.', 'checkpoint': 'https://download.openmmlab.com/mmpose/v1/projects/rtmposev1/cspnext-m_udp-aic-coco_210e-256x192-f2f7d6f6_20230130.pth'}}, 'head': {'type': 'RTMCCHead', 'in_channels': 768, 'out_channels': 25, 'input_size': (256, 256), 'in_featuremap_size': (8, 8), 'simcc_split_ratio': 2.0, 'final_layer_kernel_size': 7, 'gau_cfg': {'hidden_dims': 256, 's': 128, 'expansion_factor': 2, 'dropout_rate': 0.0, 'drop_path': 0.0, 'act_fn': 'SiLU', 'use_rel_bias': False, 'pos_enc': False}, 'loss': {'type': 'KLDiscretLoss', 'use_target_weight': True, 'beta': 10.0, 'label_softmax': True}, 'decoder': {'type': 'SimCCLabel', 'input_size': (256, 256), 'sigma': (5.66, 5.66), 'simcc_split_ratio': 2.0, 'normalize': False, 'use_dark': False}}, 'test_cfg': {'flip_test': True}}, 'dataset_type': 'CoCo25pt', 'data_mode': 'topdown', 'data_root': '/n/groups/datta/jlove/data/rat_seq/6cam/detection_training/08-26-24-rat_6cam_alldata', 'train_pipeline': [{'type': 'LoadImage', 'backend_args': {'backend': 'local'}}, {'type': 'GetBBoxCenterScale'}, {'type': 'RandomFlip', 'direction': 'horizontal'}, {'type': 'RandomHalfBody'}, {'type': 'RandomBBoxTransform', 'scale_factor': [0.6, 1.4], 'rotate_factor': 80}, {'type': 'TopdownAffine', 'input_size': (256, 256)}, {'type': 'mmdet.YOLOXHSVRandomAug'}, {'type': 'Albumentation', 'transforms': [{'type': 'Blur', 'p': 0.1}, {'type': 'MedianBlur', 'p': 0.1}, {'type': 'CoarseDropout', 'max_holes': 1, 'max_height': 0.4, 'max_width': 0.4, 'min_holes': 1, 'min_height': 0.2, 'min_width': 0.2, 'p': 1.0}]}, {'type': 'GenerateTarget', 'encoder': {'type': 'SimCCLabel', 'input_size': (256, 256), 'sigma': (5.66, 5.66), 'simcc_split_ratio': 2.0, 'normalize': False, 'use_dark': False}}, {'type': 'PackPoseInputs'}], 'val_pipeline': [{'type': 'LoadImage', 'backend_args': {'backend': 'local'}}, {'type': 'GetBBoxCenterScale'}, {'type': 'TopdownAffine', 'input_size': (256, 256)}, {'type': 'PackPoseInputs'}], 'train_pipeline_stage2': [{'type': 'LoadImage', 'backend_args': {'backend': 'local'}}, {'type': 'GetBBoxCenterScale'}, {'type': 'RandomFlip', 'direction': 'horizontal'}, {'type': 'RandomHalfBody'}, {'type': 'RandomBBoxTransform', 'shift_factor': 0.0, 'scale_factor': [0.75, 1.25], 'rotate_factor': 60}, {'type': 'TopdownAffine', 'input_size': (256, 256)}, {'type': 'mmdet.YOLOXHSVRandomAug'}, {'type': 'Albumentation', 'transforms': [{'type': 'Blur', 'p': 0.1}, {'type': 'MedianBlur', 'p': 0.1}, {'type': 'CoarseDropout', 'max_holes': 1, 'max_height': 0.4, 'max_width': 0.4, 'min_holes': 1, 'min_height': 0.2, 'min_width': 0.2, 'p': 0.5}]}, {'type': 'GenerateTarget', 'encoder': {'type': 'SimCCLabel', 'input_size': (256, 256), 'sigma': (5.66, 5.66), 'simcc_split_ratio': 2.0, 'normalize': False, 'use_dark': False}}, {'type': 'PackPoseInputs'}], 'train_dataloader': {'batch_size': 64, 'num_workers': 10, 'persistent_workers': True, 'sampler': {'type': 'DefaultSampler', 'shuffle': True}, 'dataset': {'type': 'CoCo25pt', 'data_root': '/n/groups/datta/jlove/data/rat_seq/6cam/detection_training/08-26-24-rat_6cam_alldata', 'data_mode': 'topdown', 'ann_file': 'annotations/instances_train.json', 'data_prefix': {'img': 'train/'}, 'pipeline': [{'type': 'LoadImage', 'backend_args': {'backend': 'local'}}, {'type': 'GetBBoxCenterScale'}, {'type': 'RandomFlip', 'direction': 'horizontal'}, {'type': 'RandomHalfBody'}, {'type': 'RandomBBoxTransform', 'scale_factor': [0.6, 1.4], 'rotate_factor': 80}, {'type': 'TopdownAffine', 'input_size': (256, 256)}, {'type': 'mmdet.YOLOXHSVRandomAug'}, {'type': 'Albumentation', 'transforms': [{'type': 'Blur', 'p': 0.1}, {'type': 'MedianBlur', 'p': 0.1}, {'type': 'CoarseDropout', 'max_holes': 1, 'max_height': 0.4, 'max_width': 0.4, 'min_holes': 1, 'min_height': 0.2, 'min_width': 0.2, 'p': 1.0}]}, {'type': 'GenerateTarget', 'encoder': {'type': 'SimCCLabel', 'input_size': (256, 256), 'sigma': (5.66, 5.66), 'simcc_split_ratio': 2.0, 'normalize': False, 'use_dark': False}}, {'type': 'PackPoseInputs'}], 'metainfo': {'from_file': '/n/groups/datta/tim_sainburg/projects/multicamera_airflow_pipeline/multicamera_airflow_pipeline/tim_240731/skeletons/sainburg25pt.py'}}}, 'val_dataloader': {'batch_size': 32, 'num_workers': 10, 'persistent_workers': True, 'drop_last': False, 'sampler': {'type': 'DefaultSampler', 'shuffle': False, 'round_up': False}, 'dataset': {'type': 'CoCo25pt', 'data_root': '/n/groups/datta/jlove/data/rat_seq/6cam/detection_training/08-26-24-rat_6cam_alldata', 'data_mode': 'topdown', 'ann_file': 'annotations/instances_val.json', 'data_prefix': {'img': 'val/'}, 'test_mode': True, 'pipeline': [{'type': 'LoadImage', 'backend_args': {'backend': 'local'}}, {'type': 'GetBBoxCenterScale'}, {'type': 'TopdownAffine', 'input_size': (256, 256)}, {'type': 'PackPoseInputs'}], 'bbox_file': None, 'metainfo': {'from_file': '/n/groups/datta/tim_sainburg/projects/multicamera_airflow_pipeline/multicamera_airflow_pipeline/tim_240731/skeletons/sainburg25pt.py'}}}, 'test_dataloader': {'batch_size': 32, 'num_workers': 10, 'persistent_workers': True, 'drop_last': False, 'sampler': {'type': 'DefaultSampler', 'shuffle': False, 'round_up': False}, 'dataset': {'type': 'CoCo25pt', 'data_root': '/n/groups/datta/jlove/data/rat_seq/6cam/detection_training/08-26-24-rat_6cam_alldata', 'data_mode': 'topdown', 'ann_file': 'annotations/instances_val.json', 'data_prefix': {'img': 'val/'}, 'test_mode': True, 'pipeline': [{'type': 'LoadImage', 'backend_args': {'backend': 'local'}}, {'type': 'GetBBoxCenterScale'}, {'type': 'TopdownAffine', 'input_size': (256, 256)}, {'type': 'PackPoseInputs'}], 'bbox_file': None, 'metainfo': {'from_file': '/n/groups/datta/tim_sainburg/projects/multicamera_airflow_pipeline/multicamera_airflow_pipeline/tim_240731/skeletons/sainburg25pt.py'}}}, 'val_evaluator': {'type': 'PCKAccuracy'}, 'test_evaluator': {'type': 'PCKAccuracy'}, 'work_dir': '/n/groups/datta/jlove/data/rat_seq/6cam/mm_training/rtmpose/rat_6cam_24-08-26-23-20-03'}\n"
     ]
    }
   ],
   "source": [
    "print(cfg)"
   ]
  },
  {
   "cell_type": "code",
   "execution_count": 23,
   "id": "9057e83c",
   "metadata": {},
   "outputs": [
    {
     "data": {
      "text/plain": [
       "{'type': 'PoseDataPreprocessor',\n",
       " 'mean': [123.675, 116.28, 103.53],\n",
       " 'std': [58.395, 57.12, 57.375],\n",
       " 'bgr_to_rgb': True}"
      ]
     },
     "execution_count": 23,
     "metadata": {},
     "output_type": "execute_result"
    }
   ],
   "source": [
    "# set preprocess configs to model\n",
    "cfg.model.setdefault('data_preprocessor', cfg.get('preprocess_cfg', {}))"
   ]
  },
  {
   "cell_type": "code",
   "execution_count": 24,
   "id": "d40c86c2",
   "metadata": {},
   "outputs": [],
   "source": [
    "# save configuration file for future reference\n",
    "cfg.dump(working_directory / 'config.py')"
   ]
  },
  {
   "cell_type": "markdown",
   "id": "3eaf0bd8",
   "metadata": {},
   "source": [
    "### run network"
   ]
  },
  {
   "cell_type": "code",
   "execution_count": 25,
   "id": "145d23ab",
   "metadata": {},
   "outputs": [],
   "source": [
    "from mmengine.config import Config, DictAction\n",
    "from mmengine.runner import Runner"
   ]
  },
  {
   "cell_type": "code",
   "execution_count": 26,
   "id": "2fbed5a1",
   "metadata": {
    "scrolled": true
   },
   "outputs": [
    {
     "name": "stdout",
     "output_type": "stream",
     "text": [
      "08/26 23:20:21 - mmengine - \u001b[4m\u001b[97mINFO\u001b[0m - \n",
      "------------------------------------------------------------\n",
      "System environment:\n",
      "    sys.platform: linux\n",
      "    Python: 3.10.13 (main, Sep 11 2023, 13:44:35) [GCC 11.2.0]\n",
      "    CUDA available: True\n",
      "    numpy_random_seed: 0\n",
      "    GPU 0: Quadro RTX 6000\n",
      "    CUDA_HOME: /n/groups/datta/tim_sainburg/conda_envs/mmdeploy\n",
      "    NVCC: Cuda compilation tools, release 12.1, V12.1.105\n",
      "    GCC: gcc (GCC) 4.8.5 20150623 (Red Hat 4.8.5-44)\n",
      "    PyTorch: 2.1.1\n",
      "    PyTorch compiling details: PyTorch built with:\n",
      "  - GCC 9.3\n",
      "  - C++ Version: 201703\n",
      "  - Intel(R) oneAPI Math Kernel Library Version 2023.1-Product Build 20230303 for Intel(R) 64 architecture applications\n",
      "  - Intel(R) MKL-DNN v3.1.1 (Git Hash 64f6bcbcbab628e96f33a62c3e975f8535a7bde4)\n",
      "  - OpenMP 201511 (a.k.a. OpenMP 4.5)\n",
      "  - LAPACK is enabled (usually provided by MKL)\n",
      "  - NNPACK is enabled\n",
      "  - CPU capability usage: AVX512\n",
      "  - CUDA Runtime 12.1\n",
      "  - NVCC architecture flags: -gencode;arch=compute_50,code=sm_50;-gencode;arch=compute_60,code=sm_60;-gencode;arch=compute_61,code=sm_61;-gencode;arch=compute_70,code=sm_70;-gencode;arch=compute_75,code=sm_75;-gencode;arch=compute_80,code=sm_80;-gencode;arch=compute_86,code=sm_86;-gencode;arch=compute_90,code=sm_90\n",
      "  - CuDNN 8.9.2\n",
      "  - Magma 2.6.1\n",
      "  - Build settings: BLAS_INFO=mkl, BUILD_TYPE=Release, CUDA_VERSION=12.1, CUDNN_VERSION=8.9.2, CXX_COMPILER=/opt/rh/devtoolset-9/root/usr/bin/c++, CXX_FLAGS= -D_GLIBCXX_USE_CXX11_ABI=0 -fabi-version=11 -fvisibility-inlines-hidden -DUSE_PTHREADPOOL -DNDEBUG -DUSE_KINETO -DLIBKINETO_NOROCTRACER -DUSE_FBGEMM -DUSE_QNNPACK -DUSE_PYTORCH_QNNPACK -DUSE_XNNPACK -DSYMBOLICATE_MOBILE_DEBUG_HANDLE -O2 -fPIC -Wall -Wextra -Werror=return-type -Werror=non-virtual-dtor -Werror=bool-operation -Wnarrowing -Wno-missing-field-initializers -Wno-type-limits -Wno-array-bounds -Wno-unknown-pragmas -Wno-unused-parameter -Wno-unused-function -Wno-unused-result -Wno-strict-overflow -Wno-strict-aliasing -Wno-stringop-overflow -Wno-psabi -Wno-error=pedantic -Wno-error=old-style-cast -Wno-invalid-partial-specialization -Wno-unused-private-field -Wno-aligned-allocation-unavailable -Wno-missing-braces -fdiagnostics-color=always -faligned-new -Wno-unused-but-set-variable -Wno-maybe-uninitialized -fno-math-errno -fno-trapping-math -Werror=format -Werror=cast-function-type -Wno-stringop-overflow, LAPACK_INFO=mkl, PERF_WITH_AVX=1, PERF_WITH_AVX2=1, PERF_WITH_AVX512=1, TORCH_DISABLE_GPU_ASSERTS=ON, TORCH_VERSION=2.1.1, USE_CUDA=ON, USE_CUDNN=ON, USE_EXCEPTION_PTR=1, USE_GFLAGS=OFF, USE_GLOG=OFF, USE_MKL=ON, USE_MKLDNN=ON, USE_MPI=OFF, USE_NCCL=ON, USE_NNPACK=ON, USE_OPENMP=ON, USE_ROCM=OFF, \n",
      "\n",
      "    TorchVision: 0.16.1\n",
      "    OpenCV: 4.10.0\n",
      "    MMEngine: 0.10.1\n",
      "\n",
      "Runtime environment:\n",
      "    cudnn_benchmark: False\n",
      "    mp_cfg: {'mp_start_method': 'fork', 'opencv_num_threads': 0}\n",
      "    dist_cfg: {'backend': 'nccl'}\n",
      "    seed: 0\n",
      "    Distributed launcher: none\n",
      "    Distributed training: False\n",
      "    GPU number: 1\n",
      "------------------------------------------------------------\n",
      "\n",
      "08/26 23:20:23 - mmengine - \u001b[4m\u001b[97mINFO\u001b[0m - Config:\n",
      "auto_scale_lr = dict(base_batch_size=512)\n",
      "backend_args = dict(backend='local')\n",
      "base_lr = 0.004\n",
      "codec = dict(\n",
      "    input_size=(\n",
      "        256,\n",
      "        256,\n",
      "    ),\n",
      "    normalize=False,\n",
      "    sigma=(\n",
      "        5.66,\n",
      "        5.66,\n",
      "    ),\n",
      "    simcc_split_ratio=2.0,\n",
      "    type='SimCCLabel',\n",
      "    use_dark=False)\n",
      "custom_hooks = [\n",
      "    dict(\n",
      "        ema_type='ExpMomentumEMA',\n",
      "        momentum=0.0002,\n",
      "        priority=49,\n",
      "        type='EMAHook',\n",
      "        update_buffers=True),\n",
      "    dict(\n",
      "        switch_epoch=180,\n",
      "        switch_pipeline=[\n",
      "            dict(backend_args=dict(backend='local'), type='LoadImage'),\n",
      "            dict(type='GetBBoxCenterScale'),\n",
      "            dict(direction='horizontal', type='RandomFlip'),\n",
      "            dict(type='RandomHalfBody'),\n",
      "            dict(\n",
      "                rotate_factor=60,\n",
      "                scale_factor=[\n",
      "                    0.75,\n",
      "                    1.25,\n",
      "                ],\n",
      "                shift_factor=0.0,\n",
      "                type='RandomBBoxTransform'),\n",
      "            dict(input_size=(\n",
      "                256,\n",
      "                256,\n",
      "            ), type='TopdownAffine'),\n",
      "            dict(type='mmdet.YOLOXHSVRandomAug'),\n",
      "            dict(\n",
      "                transforms=[\n",
      "                    dict(p=0.1, type='Blur'),\n",
      "                    dict(p=0.1, type='MedianBlur'),\n",
      "                    dict(\n",
      "                        max_height=0.4,\n",
      "                        max_holes=1,\n",
      "                        max_width=0.4,\n",
      "                        min_height=0.2,\n",
      "                        min_holes=1,\n",
      "                        min_width=0.2,\n",
      "                        p=0.5,\n",
      "                        type='CoarseDropout'),\n",
      "                ],\n",
      "                type='Albumentation'),\n",
      "            dict(\n",
      "                encoder=dict(\n",
      "                    input_size=(\n",
      "                        256,\n",
      "                        256,\n",
      "                    ),\n",
      "                    normalize=False,\n",
      "                    sigma=(\n",
      "                        5.66,\n",
      "                        5.66,\n",
      "                    ),\n",
      "                    simcc_split_ratio=2.0,\n",
      "                    type='SimCCLabel',\n",
      "                    use_dark=False),\n",
      "                type='GenerateTarget'),\n",
      "            dict(type='PackPoseInputs'),\n",
      "        ],\n",
      "        type='mmdet.PipelineSwitchHook'),\n",
      "]\n",
      "data_mode = 'topdown'\n",
      "data_root = '/n/groups/datta/jlove/data/rat_seq/6cam/detection_training/08-26-24-rat_6cam_alldata'\n",
      "dataset_type = 'CoCo25pt'\n",
      "default_hooks = dict(\n",
      "    badcase=dict(\n",
      "        badcase_thr=5,\n",
      "        enable=False,\n",
      "        metric_type='loss',\n",
      "        out_dir='badcase',\n",
      "        type='BadCaseAnalysisHook'),\n",
      "    checkpoint=dict(\n",
      "        interval=50,\n",
      "        max_keep_ckpts=15,\n",
      "        rule='greater',\n",
      "        save_best='PCK',\n",
      "        type='CheckpointHook'),\n",
      "    logger=dict(interval=50, type='LoggerHook'),\n",
      "    param_scheduler=dict(type='ParamSchedulerHook'),\n",
      "    sampler_seed=dict(type='DistSamplerSeedHook'),\n",
      "    timer=dict(type='IterTimerHook'),\n",
      "    visualization=dict(enable=False, type='PoseVisualizationHook'))\n",
      "default_scope = 'mmpose'\n",
      "env_cfg = dict(\n",
      "    cudnn_benchmark=False,\n",
      "    dist_cfg=dict(backend='nccl'),\n",
      "    mp_cfg=dict(mp_start_method='fork', opencv_num_threads=0))\n",
      "load_from = None\n",
      "log_level = 'INFO'\n",
      "log_processor = dict(\n",
      "    by_epoch=True, num_digits=6, type='LogProcessor', window_size=50)\n",
      "max_epochs = 2000\n",
      "model = dict(\n",
      "    backbone=dict(\n",
      "        _scope_='mmdet',\n",
      "        act_cfg=dict(type='SiLU'),\n",
      "        arch='P5',\n",
      "        channel_attention=True,\n",
      "        deepen_factor=0.67,\n",
      "        expand_ratio=0.5,\n",
      "        init_cfg=dict(\n",
      "            checkpoint=\n",
      "            'https://download.openmmlab.com/mmpose/v1/projects/rtmposev1/cspnext-m_udp-aic-coco_210e-256x192-f2f7d6f6_20230130.pth',\n",
      "            prefix='backbone.',\n",
      "            type='Pretrained'),\n",
      "        norm_cfg=dict(type='SyncBN'),\n",
      "        out_indices=(4, ),\n",
      "        type='CSPNeXt',\n",
      "        widen_factor=0.75),\n",
      "    data_preprocessor=dict(\n",
      "        bgr_to_rgb=True,\n",
      "        mean=[\n",
      "            123.675,\n",
      "            116.28,\n",
      "            103.53,\n",
      "        ],\n",
      "        std=[\n",
      "            58.395,\n",
      "            57.12,\n",
      "            57.375,\n",
      "        ],\n",
      "        type='PoseDataPreprocessor'),\n",
      "    head=dict(\n",
      "        decoder=dict(\n",
      "            input_size=(\n",
      "                256,\n",
      "                256,\n",
      "            ),\n",
      "            normalize=False,\n",
      "            sigma=(\n",
      "                5.66,\n",
      "                5.66,\n",
      "            ),\n",
      "            simcc_split_ratio=2.0,\n",
      "            type='SimCCLabel',\n",
      "            use_dark=False),\n",
      "        final_layer_kernel_size=7,\n",
      "        gau_cfg=dict(\n",
      "            act_fn='SiLU',\n",
      "            drop_path=0.0,\n",
      "            dropout_rate=0.0,\n",
      "            expansion_factor=2,\n",
      "            hidden_dims=256,\n",
      "            pos_enc=False,\n",
      "            s=128,\n",
      "            use_rel_bias=False),\n",
      "        in_channels=768,\n",
      "        in_featuremap_size=(\n",
      "            8,\n",
      "            8,\n",
      "        ),\n",
      "        input_size=(\n",
      "            256,\n",
      "            256,\n",
      "        ),\n",
      "        loss=dict(\n",
      "            beta=10.0,\n",
      "            label_softmax=True,\n",
      "            type='KLDiscretLoss',\n",
      "            use_target_weight=True),\n",
      "        out_channels=25,\n",
      "        simcc_split_ratio=2.0,\n",
      "        type='RTMCCHead'),\n",
      "    test_cfg=dict(flip_test=True),\n",
      "    type='TopdownPoseEstimator')\n",
      "optim_wrapper = dict(\n",
      "    optimizer=dict(lr=0.004, type='AdamW', weight_decay=0.05),\n",
      "    paramwise_cfg=dict(\n",
      "        bias_decay_mult=0, bypass_duplicate=True, norm_decay_mult=0),\n",
      "    type='OptimWrapper')\n",
      "param_scheduler = [\n",
      "    dict(\n",
      "        begin=0, by_epoch=False, end=1000, start_factor=1e-05,\n",
      "        type='LinearLR'),\n",
      "    dict(\n",
      "        T_max=105,\n",
      "        begin=105,\n",
      "        by_epoch=True,\n",
      "        convert_to_iter_based=True,\n",
      "        end=210,\n",
      "        eta_min=0.0002,\n",
      "        type='CosineAnnealingLR'),\n",
      "]\n",
      "randomness = dict(seed=0)\n",
      "resume = False\n",
      "stage2_num_epochs = 30\n",
      "test_cfg = dict()\n",
      "test_dataloader = dict(\n",
      "    batch_size=32,\n",
      "    dataset=dict(\n",
      "        ann_file='annotations/instances_val.json',\n",
      "        bbox_file=None,\n",
      "        data_mode='topdown',\n",
      "        data_prefix=dict(img='val/'),\n",
      "        data_root=\n",
      "        '/n/groups/datta/jlove/data/rat_seq/6cam/detection_training/08-26-24-rat_6cam_alldata',\n",
      "        metainfo=dict(\n",
      "            from_file=\n",
      "            '/n/groups/datta/tim_sainburg/projects/multicamera_airflow_pipeline/multicamera_airflow_pipeline/tim_240731/skeletons/sainburg25pt.py'\n",
      "        ),\n",
      "        pipeline=[\n",
      "            dict(backend_args=dict(backend='local'), type='LoadImage'),\n",
      "            dict(type='GetBBoxCenterScale'),\n",
      "            dict(input_size=(\n",
      "                256,\n",
      "                256,\n",
      "            ), type='TopdownAffine'),\n",
      "            dict(type='PackPoseInputs'),\n",
      "        ],\n",
      "        test_mode=True,\n",
      "        type='CoCo25pt'),\n",
      "    drop_last=False,\n",
      "    num_workers=10,\n",
      "    persistent_workers=True,\n",
      "    sampler=dict(round_up=False, shuffle=False, type='DefaultSampler'))\n",
      "test_evaluator = dict(type='PCKAccuracy')\n",
      "train_cfg = dict(by_epoch=True, max_epochs=2000, val_interval=10)\n",
      "train_dataloader = dict(\n",
      "    batch_size=64,\n",
      "    dataset=dict(\n",
      "        ann_file='annotations/instances_train.json',\n",
      "        data_mode='topdown',\n",
      "        data_prefix=dict(img='train/'),\n",
      "        data_root=\n",
      "        '/n/groups/datta/jlove/data/rat_seq/6cam/detection_training/08-26-24-rat_6cam_alldata',\n",
      "        metainfo=dict(\n",
      "            from_file=\n",
      "            '/n/groups/datta/tim_sainburg/projects/multicamera_airflow_pipeline/multicamera_airflow_pipeline/tim_240731/skeletons/sainburg25pt.py'\n",
      "        ),\n",
      "        pipeline=[\n",
      "            dict(backend_args=dict(backend='local'), type='LoadImage'),\n",
      "            dict(type='GetBBoxCenterScale'),\n",
      "            dict(direction='horizontal', type='RandomFlip'),\n",
      "            dict(type='RandomHalfBody'),\n",
      "            dict(\n",
      "                rotate_factor=80,\n",
      "                scale_factor=[\n",
      "                    0.6,\n",
      "                    1.4,\n",
      "                ],\n",
      "                type='RandomBBoxTransform'),\n",
      "            dict(input_size=(\n",
      "                256,\n",
      "                256,\n",
      "            ), type='TopdownAffine'),\n",
      "            dict(type='mmdet.YOLOXHSVRandomAug'),\n",
      "            dict(\n",
      "                transforms=[\n",
      "                    dict(p=0.1, type='Blur'),\n",
      "                    dict(p=0.1, type='MedianBlur'),\n",
      "                    dict(\n",
      "                        max_height=0.4,\n",
      "                        max_holes=1,\n",
      "                        max_width=0.4,\n",
      "                        min_height=0.2,\n",
      "                        min_holes=1,\n",
      "                        min_width=0.2,\n",
      "                        p=1.0,\n",
      "                        type='CoarseDropout'),\n",
      "                ],\n",
      "                type='Albumentation'),\n",
      "            dict(\n",
      "                encoder=dict(\n",
      "                    input_size=(\n",
      "                        256,\n",
      "                        256,\n",
      "                    ),\n",
      "                    normalize=False,\n",
      "                    sigma=(\n",
      "                        5.66,\n",
      "                        5.66,\n",
      "                    ),\n",
      "                    simcc_split_ratio=2.0,\n",
      "                    type='SimCCLabel',\n",
      "                    use_dark=False),\n",
      "                type='GenerateTarget'),\n",
      "            dict(type='PackPoseInputs'),\n",
      "        ],\n",
      "        type='CoCo25pt'),\n",
      "    num_workers=10,\n",
      "    persistent_workers=True,\n",
      "    sampler=dict(shuffle=True, type='DefaultSampler'))\n",
      "train_pipeline = [\n",
      "    dict(backend_args=dict(backend='local'), type='LoadImage'),\n",
      "    dict(type='GetBBoxCenterScale'),\n",
      "    dict(direction='horizontal', type='RandomFlip'),\n",
      "    dict(type='RandomHalfBody'),\n",
      "    dict(\n",
      "        rotate_factor=80,\n",
      "        scale_factor=[\n",
      "            0.6,\n",
      "            1.4,\n",
      "        ],\n",
      "        type='RandomBBoxTransform'),\n",
      "    dict(input_size=(\n",
      "        256,\n",
      "        256,\n",
      "    ), type='TopdownAffine'),\n",
      "    dict(type='mmdet.YOLOXHSVRandomAug'),\n",
      "    dict(\n",
      "        transforms=[\n",
      "            dict(p=0.1, type='Blur'),\n",
      "            dict(p=0.1, type='MedianBlur'),\n",
      "            dict(\n",
      "                max_height=0.4,\n",
      "                max_holes=1,\n",
      "                max_width=0.4,\n",
      "                min_height=0.2,\n",
      "                min_holes=1,\n",
      "                min_width=0.2,\n",
      "                p=1.0,\n",
      "                type='CoarseDropout'),\n",
      "        ],\n",
      "        type='Albumentation'),\n",
      "    dict(\n",
      "        encoder=dict(\n",
      "            input_size=(\n",
      "                256,\n",
      "                256,\n",
      "            ),\n",
      "            normalize=False,\n",
      "            sigma=(\n",
      "                5.66,\n",
      "                5.66,\n",
      "            ),\n",
      "            simcc_split_ratio=2.0,\n",
      "            type='SimCCLabel',\n",
      "            use_dark=False),\n",
      "        type='GenerateTarget'),\n",
      "    dict(type='PackPoseInputs'),\n",
      "]\n",
      "train_pipeline_stage2 = [\n",
      "    dict(backend_args=dict(backend='local'), type='LoadImage'),\n",
      "    dict(type='GetBBoxCenterScale'),\n",
      "    dict(direction='horizontal', type='RandomFlip'),\n",
      "    dict(type='RandomHalfBody'),\n",
      "    dict(\n",
      "        rotate_factor=60,\n",
      "        scale_factor=[\n",
      "            0.75,\n",
      "            1.25,\n",
      "        ],\n",
      "        shift_factor=0.0,\n",
      "        type='RandomBBoxTransform'),\n",
      "    dict(input_size=(\n",
      "        256,\n",
      "        256,\n",
      "    ), type='TopdownAffine'),\n",
      "    dict(type='mmdet.YOLOXHSVRandomAug'),\n",
      "    dict(\n",
      "        transforms=[\n",
      "            dict(p=0.1, type='Blur'),\n",
      "            dict(p=0.1, type='MedianBlur'),\n",
      "            dict(\n",
      "                max_height=0.4,\n",
      "                max_holes=1,\n",
      "                max_width=0.4,\n",
      "                min_height=0.2,\n",
      "                min_holes=1,\n",
      "                min_width=0.2,\n",
      "                p=0.5,\n",
      "                type='CoarseDropout'),\n",
      "        ],\n",
      "        type='Albumentation'),\n",
      "    dict(\n",
      "        encoder=dict(\n",
      "            input_size=(\n",
      "                256,\n",
      "                256,\n",
      "            ),\n",
      "            normalize=False,\n",
      "            sigma=(\n",
      "                5.66,\n",
      "                5.66,\n",
      "            ),\n",
      "            simcc_split_ratio=2.0,\n",
      "            type='SimCCLabel',\n",
      "            use_dark=False),\n",
      "        type='GenerateTarget'),\n",
      "    dict(type='PackPoseInputs'),\n",
      "]\n",
      "val_cfg = dict()\n",
      "val_dataloader = dict(\n",
      "    batch_size=32,\n",
      "    dataset=dict(\n",
      "        ann_file='annotations/instances_val.json',\n",
      "        bbox_file=None,\n",
      "        data_mode='topdown',\n",
      "        data_prefix=dict(img='val/'),\n",
      "        data_root=\n",
      "        '/n/groups/datta/jlove/data/rat_seq/6cam/detection_training/08-26-24-rat_6cam_alldata',\n",
      "        metainfo=dict(\n",
      "            from_file=\n",
      "            '/n/groups/datta/tim_sainburg/projects/multicamera_airflow_pipeline/multicamera_airflow_pipeline/tim_240731/skeletons/sainburg25pt.py'\n",
      "        ),\n",
      "        pipeline=[\n",
      "            dict(backend_args=dict(backend='local'), type='LoadImage'),\n",
      "            dict(type='GetBBoxCenterScale'),\n",
      "            dict(input_size=(\n",
      "                256,\n",
      "                256,\n",
      "            ), type='TopdownAffine'),\n",
      "            dict(type='PackPoseInputs'),\n",
      "        ],\n",
      "        test_mode=True,\n",
      "        type='CoCo25pt'),\n",
      "    drop_last=False,\n",
      "    num_workers=10,\n",
      "    persistent_workers=True,\n",
      "    sampler=dict(round_up=False, shuffle=False, type='DefaultSampler'))\n",
      "val_evaluator = dict(type='PCKAccuracy')\n",
      "val_pipeline = [\n",
      "    dict(backend_args=dict(backend='local'), type='LoadImage'),\n",
      "    dict(type='GetBBoxCenterScale'),\n",
      "    dict(input_size=(\n",
      "        256,\n",
      "        256,\n",
      "    ), type='TopdownAffine'),\n",
      "    dict(type='PackPoseInputs'),\n",
      "]\n",
      "vis_backends = [\n",
      "    dict(type='LocalVisBackend'),\n",
      "]\n",
      "visualizer = dict(\n",
      "    name='visualizer',\n",
      "    type='PoseLocalVisualizer',\n",
      "    vis_backends=[\n",
      "        dict(type='LocalVisBackend'),\n",
      "    ])\n",
      "work_dir = '/n/groups/datta/jlove/data/rat_seq/6cam/mm_training/rtmpose/rat_6cam_24-08-26-23-20-03'\n",
      "\n",
      "08/26 23:20:29 - mmengine - \u001b[4m\u001b[97mINFO\u001b[0m - Distributed training is not used, all SyncBatchNorm (SyncBN) layers in the model will be automatically reverted to BatchNormXd layers if they are used.\n"
     ]
    },
    {
     "ename": "KeyError",
     "evalue": "'BadCaseAnalysisHook is not in the mmpose::hook registry. Please check whether the value of `BadCaseAnalysisHook` is correct or it was registered as expected. More details can be found at https://mmengine.readthedocs.io/en/latest/advanced_tutorials/config.html#import-the-custom-module'",
     "output_type": "error",
     "traceback": [
      "\u001b[0;31m---------------------------------------------------------------------------\u001b[0m",
      "\u001b[0;31mKeyError\u001b[0m                                  Traceback (most recent call last)",
      "Cell \u001b[0;32mIn[26], line 2\u001b[0m\n\u001b[1;32m      1\u001b[0m \u001b[38;5;66;03m# build the runner from config\u001b[39;00m\n\u001b[0;32m----> 2\u001b[0m runner \u001b[38;5;241m=\u001b[39m \u001b[43mRunner\u001b[49m\u001b[38;5;241;43m.\u001b[39;49m\u001b[43mfrom_cfg\u001b[49m\u001b[43m(\u001b[49m\u001b[43mcfg\u001b[49m\u001b[43m)\u001b[49m\n",
      "File \u001b[0;32m/n/groups/datta/tim_sainburg/conda_envs/mmdeploy/lib/python3.10/site-packages/mmengine/runner/runner.py:462\u001b[0m, in \u001b[0;36mRunner.from_cfg\u001b[0;34m(cls, cfg)\u001b[0m\n\u001b[1;32m    452\u001b[0m \u001b[38;5;250m\u001b[39m\u001b[38;5;124;03m\"\"\"Build a runner from config.\u001b[39;00m\n\u001b[1;32m    453\u001b[0m \n\u001b[1;32m    454\u001b[0m \u001b[38;5;124;03mArgs:\u001b[39;00m\n\u001b[0;32m   (...)\u001b[0m\n\u001b[1;32m    459\u001b[0m \u001b[38;5;124;03m    Runner: A runner build from ``cfg``.\u001b[39;00m\n\u001b[1;32m    460\u001b[0m \u001b[38;5;124;03m\"\"\"\u001b[39;00m\n\u001b[1;32m    461\u001b[0m cfg \u001b[38;5;241m=\u001b[39m copy\u001b[38;5;241m.\u001b[39mdeepcopy(cfg)\n\u001b[0;32m--> 462\u001b[0m runner \u001b[38;5;241m=\u001b[39m \u001b[38;5;28;43mcls\u001b[39;49m\u001b[43m(\u001b[49m\n\u001b[1;32m    463\u001b[0m \u001b[43m    \u001b[49m\u001b[43mmodel\u001b[49m\u001b[38;5;241;43m=\u001b[39;49m\u001b[43mcfg\u001b[49m\u001b[43m[\u001b[49m\u001b[38;5;124;43m'\u001b[39;49m\u001b[38;5;124;43mmodel\u001b[39;49m\u001b[38;5;124;43m'\u001b[39;49m\u001b[43m]\u001b[49m\u001b[43m,\u001b[49m\n\u001b[1;32m    464\u001b[0m \u001b[43m    \u001b[49m\u001b[43mwork_dir\u001b[49m\u001b[38;5;241;43m=\u001b[39;49m\u001b[43mcfg\u001b[49m\u001b[43m[\u001b[49m\u001b[38;5;124;43m'\u001b[39;49m\u001b[38;5;124;43mwork_dir\u001b[39;49m\u001b[38;5;124;43m'\u001b[39;49m\u001b[43m]\u001b[49m\u001b[43m,\u001b[49m\n\u001b[1;32m    465\u001b[0m \u001b[43m    \u001b[49m\u001b[43mtrain_dataloader\u001b[49m\u001b[38;5;241;43m=\u001b[39;49m\u001b[43mcfg\u001b[49m\u001b[38;5;241;43m.\u001b[39;49m\u001b[43mget\u001b[49m\u001b[43m(\u001b[49m\u001b[38;5;124;43m'\u001b[39;49m\u001b[38;5;124;43mtrain_dataloader\u001b[39;49m\u001b[38;5;124;43m'\u001b[39;49m\u001b[43m)\u001b[49m\u001b[43m,\u001b[49m\n\u001b[1;32m    466\u001b[0m \u001b[43m    \u001b[49m\u001b[43mval_dataloader\u001b[49m\u001b[38;5;241;43m=\u001b[39;49m\u001b[43mcfg\u001b[49m\u001b[38;5;241;43m.\u001b[39;49m\u001b[43mget\u001b[49m\u001b[43m(\u001b[49m\u001b[38;5;124;43m'\u001b[39;49m\u001b[38;5;124;43mval_dataloader\u001b[39;49m\u001b[38;5;124;43m'\u001b[39;49m\u001b[43m)\u001b[49m\u001b[43m,\u001b[49m\n\u001b[1;32m    467\u001b[0m \u001b[43m    \u001b[49m\u001b[43mtest_dataloader\u001b[49m\u001b[38;5;241;43m=\u001b[39;49m\u001b[43mcfg\u001b[49m\u001b[38;5;241;43m.\u001b[39;49m\u001b[43mget\u001b[49m\u001b[43m(\u001b[49m\u001b[38;5;124;43m'\u001b[39;49m\u001b[38;5;124;43mtest_dataloader\u001b[39;49m\u001b[38;5;124;43m'\u001b[39;49m\u001b[43m)\u001b[49m\u001b[43m,\u001b[49m\n\u001b[1;32m    468\u001b[0m \u001b[43m    \u001b[49m\u001b[43mtrain_cfg\u001b[49m\u001b[38;5;241;43m=\u001b[39;49m\u001b[43mcfg\u001b[49m\u001b[38;5;241;43m.\u001b[39;49m\u001b[43mget\u001b[49m\u001b[43m(\u001b[49m\u001b[38;5;124;43m'\u001b[39;49m\u001b[38;5;124;43mtrain_cfg\u001b[39;49m\u001b[38;5;124;43m'\u001b[39;49m\u001b[43m)\u001b[49m\u001b[43m,\u001b[49m\n\u001b[1;32m    469\u001b[0m \u001b[43m    \u001b[49m\u001b[43mval_cfg\u001b[49m\u001b[38;5;241;43m=\u001b[39;49m\u001b[43mcfg\u001b[49m\u001b[38;5;241;43m.\u001b[39;49m\u001b[43mget\u001b[49m\u001b[43m(\u001b[49m\u001b[38;5;124;43m'\u001b[39;49m\u001b[38;5;124;43mval_cfg\u001b[39;49m\u001b[38;5;124;43m'\u001b[39;49m\u001b[43m)\u001b[49m\u001b[43m,\u001b[49m\n\u001b[1;32m    470\u001b[0m \u001b[43m    \u001b[49m\u001b[43mtest_cfg\u001b[49m\u001b[38;5;241;43m=\u001b[39;49m\u001b[43mcfg\u001b[49m\u001b[38;5;241;43m.\u001b[39;49m\u001b[43mget\u001b[49m\u001b[43m(\u001b[49m\u001b[38;5;124;43m'\u001b[39;49m\u001b[38;5;124;43mtest_cfg\u001b[39;49m\u001b[38;5;124;43m'\u001b[39;49m\u001b[43m)\u001b[49m\u001b[43m,\u001b[49m\n\u001b[1;32m    471\u001b[0m \u001b[43m    \u001b[49m\u001b[43mauto_scale_lr\u001b[49m\u001b[38;5;241;43m=\u001b[39;49m\u001b[43mcfg\u001b[49m\u001b[38;5;241;43m.\u001b[39;49m\u001b[43mget\u001b[49m\u001b[43m(\u001b[49m\u001b[38;5;124;43m'\u001b[39;49m\u001b[38;5;124;43mauto_scale_lr\u001b[39;49m\u001b[38;5;124;43m'\u001b[39;49m\u001b[43m)\u001b[49m\u001b[43m,\u001b[49m\n\u001b[1;32m    472\u001b[0m \u001b[43m    \u001b[49m\u001b[43moptim_wrapper\u001b[49m\u001b[38;5;241;43m=\u001b[39;49m\u001b[43mcfg\u001b[49m\u001b[38;5;241;43m.\u001b[39;49m\u001b[43mget\u001b[49m\u001b[43m(\u001b[49m\u001b[38;5;124;43m'\u001b[39;49m\u001b[38;5;124;43moptim_wrapper\u001b[39;49m\u001b[38;5;124;43m'\u001b[39;49m\u001b[43m)\u001b[49m\u001b[43m,\u001b[49m\n\u001b[1;32m    473\u001b[0m \u001b[43m    \u001b[49m\u001b[43mparam_scheduler\u001b[49m\u001b[38;5;241;43m=\u001b[39;49m\u001b[43mcfg\u001b[49m\u001b[38;5;241;43m.\u001b[39;49m\u001b[43mget\u001b[49m\u001b[43m(\u001b[49m\u001b[38;5;124;43m'\u001b[39;49m\u001b[38;5;124;43mparam_scheduler\u001b[39;49m\u001b[38;5;124;43m'\u001b[39;49m\u001b[43m)\u001b[49m\u001b[43m,\u001b[49m\n\u001b[1;32m    474\u001b[0m \u001b[43m    \u001b[49m\u001b[43mval_evaluator\u001b[49m\u001b[38;5;241;43m=\u001b[39;49m\u001b[43mcfg\u001b[49m\u001b[38;5;241;43m.\u001b[39;49m\u001b[43mget\u001b[49m\u001b[43m(\u001b[49m\u001b[38;5;124;43m'\u001b[39;49m\u001b[38;5;124;43mval_evaluator\u001b[39;49m\u001b[38;5;124;43m'\u001b[39;49m\u001b[43m)\u001b[49m\u001b[43m,\u001b[49m\n\u001b[1;32m    475\u001b[0m \u001b[43m    \u001b[49m\u001b[43mtest_evaluator\u001b[49m\u001b[38;5;241;43m=\u001b[39;49m\u001b[43mcfg\u001b[49m\u001b[38;5;241;43m.\u001b[39;49m\u001b[43mget\u001b[49m\u001b[43m(\u001b[49m\u001b[38;5;124;43m'\u001b[39;49m\u001b[38;5;124;43mtest_evaluator\u001b[39;49m\u001b[38;5;124;43m'\u001b[39;49m\u001b[43m)\u001b[49m\u001b[43m,\u001b[49m\n\u001b[1;32m    476\u001b[0m \u001b[43m    \u001b[49m\u001b[43mdefault_hooks\u001b[49m\u001b[38;5;241;43m=\u001b[39;49m\u001b[43mcfg\u001b[49m\u001b[38;5;241;43m.\u001b[39;49m\u001b[43mget\u001b[49m\u001b[43m(\u001b[49m\u001b[38;5;124;43m'\u001b[39;49m\u001b[38;5;124;43mdefault_hooks\u001b[39;49m\u001b[38;5;124;43m'\u001b[39;49m\u001b[43m)\u001b[49m\u001b[43m,\u001b[49m\n\u001b[1;32m    477\u001b[0m \u001b[43m    \u001b[49m\u001b[43mcustom_hooks\u001b[49m\u001b[38;5;241;43m=\u001b[39;49m\u001b[43mcfg\u001b[49m\u001b[38;5;241;43m.\u001b[39;49m\u001b[43mget\u001b[49m\u001b[43m(\u001b[49m\u001b[38;5;124;43m'\u001b[39;49m\u001b[38;5;124;43mcustom_hooks\u001b[39;49m\u001b[38;5;124;43m'\u001b[39;49m\u001b[43m)\u001b[49m\u001b[43m,\u001b[49m\n\u001b[1;32m    478\u001b[0m \u001b[43m    \u001b[49m\u001b[43mdata_preprocessor\u001b[49m\u001b[38;5;241;43m=\u001b[39;49m\u001b[43mcfg\u001b[49m\u001b[38;5;241;43m.\u001b[39;49m\u001b[43mget\u001b[49m\u001b[43m(\u001b[49m\u001b[38;5;124;43m'\u001b[39;49m\u001b[38;5;124;43mdata_preprocessor\u001b[39;49m\u001b[38;5;124;43m'\u001b[39;49m\u001b[43m)\u001b[49m\u001b[43m,\u001b[49m\n\u001b[1;32m    479\u001b[0m \u001b[43m    \u001b[49m\u001b[43mload_from\u001b[49m\u001b[38;5;241;43m=\u001b[39;49m\u001b[43mcfg\u001b[49m\u001b[38;5;241;43m.\u001b[39;49m\u001b[43mget\u001b[49m\u001b[43m(\u001b[49m\u001b[38;5;124;43m'\u001b[39;49m\u001b[38;5;124;43mload_from\u001b[39;49m\u001b[38;5;124;43m'\u001b[39;49m\u001b[43m)\u001b[49m\u001b[43m,\u001b[49m\n\u001b[1;32m    480\u001b[0m \u001b[43m    \u001b[49m\u001b[43mresume\u001b[49m\u001b[38;5;241;43m=\u001b[39;49m\u001b[43mcfg\u001b[49m\u001b[38;5;241;43m.\u001b[39;49m\u001b[43mget\u001b[49m\u001b[43m(\u001b[49m\u001b[38;5;124;43m'\u001b[39;49m\u001b[38;5;124;43mresume\u001b[39;49m\u001b[38;5;124;43m'\u001b[39;49m\u001b[43m,\u001b[49m\u001b[43m \u001b[49m\u001b[38;5;28;43;01mFalse\u001b[39;49;00m\u001b[43m)\u001b[49m\u001b[43m,\u001b[49m\n\u001b[1;32m    481\u001b[0m \u001b[43m    \u001b[49m\u001b[43mlauncher\u001b[49m\u001b[38;5;241;43m=\u001b[39;49m\u001b[43mcfg\u001b[49m\u001b[38;5;241;43m.\u001b[39;49m\u001b[43mget\u001b[49m\u001b[43m(\u001b[49m\u001b[38;5;124;43m'\u001b[39;49m\u001b[38;5;124;43mlauncher\u001b[39;49m\u001b[38;5;124;43m'\u001b[39;49m\u001b[43m,\u001b[49m\u001b[43m \u001b[49m\u001b[38;5;124;43m'\u001b[39;49m\u001b[38;5;124;43mnone\u001b[39;49m\u001b[38;5;124;43m'\u001b[39;49m\u001b[43m)\u001b[49m\u001b[43m,\u001b[49m\n\u001b[1;32m    482\u001b[0m \u001b[43m    \u001b[49m\u001b[43menv_cfg\u001b[49m\u001b[38;5;241;43m=\u001b[39;49m\u001b[43mcfg\u001b[49m\u001b[38;5;241;43m.\u001b[39;49m\u001b[43mget\u001b[49m\u001b[43m(\u001b[49m\u001b[38;5;124;43m'\u001b[39;49m\u001b[38;5;124;43menv_cfg\u001b[39;49m\u001b[38;5;124;43m'\u001b[39;49m\u001b[43m,\u001b[49m\u001b[43m \u001b[49m\u001b[38;5;28;43mdict\u001b[39;49m\u001b[43m(\u001b[49m\u001b[43mdist_cfg\u001b[49m\u001b[38;5;241;43m=\u001b[39;49m\u001b[38;5;28;43mdict\u001b[39;49m\u001b[43m(\u001b[49m\u001b[43mbackend\u001b[49m\u001b[38;5;241;43m=\u001b[39;49m\u001b[38;5;124;43m'\u001b[39;49m\u001b[38;5;124;43mnccl\u001b[39;49m\u001b[38;5;124;43m'\u001b[39;49m\u001b[43m)\u001b[49m\u001b[43m)\u001b[49m\u001b[43m)\u001b[49m\u001b[43m,\u001b[49m\n\u001b[1;32m    483\u001b[0m \u001b[43m    \u001b[49m\u001b[43mlog_processor\u001b[49m\u001b[38;5;241;43m=\u001b[39;49m\u001b[43mcfg\u001b[49m\u001b[38;5;241;43m.\u001b[39;49m\u001b[43mget\u001b[49m\u001b[43m(\u001b[49m\u001b[38;5;124;43m'\u001b[39;49m\u001b[38;5;124;43mlog_processor\u001b[39;49m\u001b[38;5;124;43m'\u001b[39;49m\u001b[43m)\u001b[49m\u001b[43m,\u001b[49m\n\u001b[1;32m    484\u001b[0m \u001b[43m    \u001b[49m\u001b[43mlog_level\u001b[49m\u001b[38;5;241;43m=\u001b[39;49m\u001b[43mcfg\u001b[49m\u001b[38;5;241;43m.\u001b[39;49m\u001b[43mget\u001b[49m\u001b[43m(\u001b[49m\u001b[38;5;124;43m'\u001b[39;49m\u001b[38;5;124;43mlog_level\u001b[39;49m\u001b[38;5;124;43m'\u001b[39;49m\u001b[43m,\u001b[49m\u001b[43m \u001b[49m\u001b[38;5;124;43m'\u001b[39;49m\u001b[38;5;124;43mINFO\u001b[39;49m\u001b[38;5;124;43m'\u001b[39;49m\u001b[43m)\u001b[49m\u001b[43m,\u001b[49m\n\u001b[1;32m    485\u001b[0m \u001b[43m    \u001b[49m\u001b[43mvisualizer\u001b[49m\u001b[38;5;241;43m=\u001b[39;49m\u001b[43mcfg\u001b[49m\u001b[38;5;241;43m.\u001b[39;49m\u001b[43mget\u001b[49m\u001b[43m(\u001b[49m\u001b[38;5;124;43m'\u001b[39;49m\u001b[38;5;124;43mvisualizer\u001b[39;49m\u001b[38;5;124;43m'\u001b[39;49m\u001b[43m)\u001b[49m\u001b[43m,\u001b[49m\n\u001b[1;32m    486\u001b[0m \u001b[43m    \u001b[49m\u001b[43mdefault_scope\u001b[49m\u001b[38;5;241;43m=\u001b[39;49m\u001b[43mcfg\u001b[49m\u001b[38;5;241;43m.\u001b[39;49m\u001b[43mget\u001b[49m\u001b[43m(\u001b[49m\u001b[38;5;124;43m'\u001b[39;49m\u001b[38;5;124;43mdefault_scope\u001b[39;49m\u001b[38;5;124;43m'\u001b[39;49m\u001b[43m,\u001b[49m\u001b[43m \u001b[49m\u001b[38;5;124;43m'\u001b[39;49m\u001b[38;5;124;43mmmengine\u001b[39;49m\u001b[38;5;124;43m'\u001b[39;49m\u001b[43m)\u001b[49m\u001b[43m,\u001b[49m\n\u001b[1;32m    487\u001b[0m \u001b[43m    \u001b[49m\u001b[43mrandomness\u001b[49m\u001b[38;5;241;43m=\u001b[39;49m\u001b[43mcfg\u001b[49m\u001b[38;5;241;43m.\u001b[39;49m\u001b[43mget\u001b[49m\u001b[43m(\u001b[49m\u001b[38;5;124;43m'\u001b[39;49m\u001b[38;5;124;43mrandomness\u001b[39;49m\u001b[38;5;124;43m'\u001b[39;49m\u001b[43m,\u001b[49m\u001b[43m \u001b[49m\u001b[38;5;28;43mdict\u001b[39;49m\u001b[43m(\u001b[49m\u001b[43mseed\u001b[49m\u001b[38;5;241;43m=\u001b[39;49m\u001b[38;5;28;43;01mNone\u001b[39;49;00m\u001b[43m)\u001b[49m\u001b[43m)\u001b[49m\u001b[43m,\u001b[49m\n\u001b[1;32m    488\u001b[0m \u001b[43m    \u001b[49m\u001b[43mexperiment_name\u001b[49m\u001b[38;5;241;43m=\u001b[39;49m\u001b[43mcfg\u001b[49m\u001b[38;5;241;43m.\u001b[39;49m\u001b[43mget\u001b[49m\u001b[43m(\u001b[49m\u001b[38;5;124;43m'\u001b[39;49m\u001b[38;5;124;43mexperiment_name\u001b[39;49m\u001b[38;5;124;43m'\u001b[39;49m\u001b[43m)\u001b[49m\u001b[43m,\u001b[49m\n\u001b[1;32m    489\u001b[0m \u001b[43m    \u001b[49m\u001b[43mcfg\u001b[49m\u001b[38;5;241;43m=\u001b[39;49m\u001b[43mcfg\u001b[49m\u001b[43m,\u001b[49m\n\u001b[1;32m    490\u001b[0m \u001b[43m\u001b[49m\u001b[43m)\u001b[49m\n\u001b[1;32m    492\u001b[0m \u001b[38;5;28;01mreturn\u001b[39;00m runner\n",
      "File \u001b[0;32m/n/groups/datta/tim_sainburg/conda_envs/mmdeploy/lib/python3.10/site-packages/mmengine/runner/runner.py:442\u001b[0m, in \u001b[0;36mRunner.__init__\u001b[0;34m(self, model, work_dir, train_dataloader, val_dataloader, test_dataloader, train_cfg, val_cfg, test_cfg, auto_scale_lr, optim_wrapper, param_scheduler, val_evaluator, test_evaluator, default_hooks, custom_hooks, data_preprocessor, load_from, resume, launcher, env_cfg, log_processor, log_level, visualizer, default_scope, randomness, experiment_name, cfg)\u001b[0m\n\u001b[1;32m    440\u001b[0m \u001b[38;5;28mself\u001b[39m\u001b[38;5;241m.\u001b[39m_hooks: List[Hook] \u001b[38;5;241m=\u001b[39m []\n\u001b[1;32m    441\u001b[0m \u001b[38;5;66;03m# register hooks to `self._hooks`\u001b[39;00m\n\u001b[0;32m--> 442\u001b[0m \u001b[38;5;28;43mself\u001b[39;49m\u001b[38;5;241;43m.\u001b[39;49m\u001b[43mregister_hooks\u001b[49m\u001b[43m(\u001b[49m\u001b[43mdefault_hooks\u001b[49m\u001b[43m,\u001b[49m\u001b[43m \u001b[49m\u001b[43mcustom_hooks\u001b[49m\u001b[43m)\u001b[49m\n\u001b[1;32m    443\u001b[0m \u001b[38;5;66;03m# log hooks information\u001b[39;00m\n\u001b[1;32m    444\u001b[0m \u001b[38;5;28mself\u001b[39m\u001b[38;5;241m.\u001b[39mlogger\u001b[38;5;241m.\u001b[39minfo(\u001b[38;5;124mf\u001b[39m\u001b[38;5;124m'\u001b[39m\u001b[38;5;124mHooks will be executed in the following \u001b[39m\u001b[38;5;124m'\u001b[39m\n\u001b[1;32m    445\u001b[0m                  \u001b[38;5;124mf\u001b[39m\u001b[38;5;124m'\u001b[39m\u001b[38;5;124morder:\u001b[39m\u001b[38;5;130;01m\\n\u001b[39;00m\u001b[38;5;132;01m{\u001b[39;00m\u001b[38;5;28mself\u001b[39m\u001b[38;5;241m.\u001b[39mget_hooks_info()\u001b[38;5;132;01m}\u001b[39;00m\u001b[38;5;124m'\u001b[39m)\n",
      "File \u001b[0;32m/n/groups/datta/tim_sainburg/conda_envs/mmdeploy/lib/python3.10/site-packages/mmengine/runner/runner.py:1992\u001b[0m, in \u001b[0;36mRunner.register_hooks\u001b[0;34m(self, default_hooks, custom_hooks)\u001b[0m\n\u001b[1;32m   1978\u001b[0m \u001b[38;5;28;01mdef\u001b[39;00m \u001b[38;5;21mregister_hooks\u001b[39m(\n\u001b[1;32m   1979\u001b[0m         \u001b[38;5;28mself\u001b[39m,\n\u001b[1;32m   1980\u001b[0m         default_hooks: Optional[Dict[\u001b[38;5;28mstr\u001b[39m, Union[Hook, Dict]]] \u001b[38;5;241m=\u001b[39m \u001b[38;5;28;01mNone\u001b[39;00m,\n\u001b[1;32m   1981\u001b[0m         custom_hooks: Optional[List[Union[Hook, Dict]]] \u001b[38;5;241m=\u001b[39m \u001b[38;5;28;01mNone\u001b[39;00m) \u001b[38;5;241m-\u001b[39m\u001b[38;5;241m>\u001b[39m \u001b[38;5;28;01mNone\u001b[39;00m:\n\u001b[1;32m   1982\u001b[0m \u001b[38;5;250m    \u001b[39m\u001b[38;5;124;03m\"\"\"Register default hooks and custom hooks into hook list.\u001b[39;00m\n\u001b[1;32m   1983\u001b[0m \n\u001b[1;32m   1984\u001b[0m \u001b[38;5;124;03m    Args:\u001b[39;00m\n\u001b[0;32m   (...)\u001b[0m\n\u001b[1;32m   1990\u001b[0m \u001b[38;5;124;03m            Defaults to None.\u001b[39;00m\n\u001b[1;32m   1991\u001b[0m \u001b[38;5;124;03m    \"\"\"\u001b[39;00m\n\u001b[0;32m-> 1992\u001b[0m     \u001b[38;5;28;43mself\u001b[39;49m\u001b[38;5;241;43m.\u001b[39;49m\u001b[43mregister_default_hooks\u001b[49m\u001b[43m(\u001b[49m\u001b[43mdefault_hooks\u001b[49m\u001b[43m)\u001b[49m\n\u001b[1;32m   1994\u001b[0m     \u001b[38;5;28;01mif\u001b[39;00m custom_hooks \u001b[38;5;129;01mis\u001b[39;00m \u001b[38;5;129;01mnot\u001b[39;00m \u001b[38;5;28;01mNone\u001b[39;00m:\n\u001b[1;32m   1995\u001b[0m         \u001b[38;5;28mself\u001b[39m\u001b[38;5;241m.\u001b[39mregister_custom_hooks(custom_hooks)\n",
      "File \u001b[0;32m/n/groups/datta/tim_sainburg/conda_envs/mmdeploy/lib/python3.10/site-packages/mmengine/runner/runner.py:1966\u001b[0m, in \u001b[0;36mRunner.register_default_hooks\u001b[0;34m(self, hooks)\u001b[0m\n\u001b[1;32m   1963\u001b[0m             default_hooks[name] \u001b[38;5;241m=\u001b[39m hook\n\u001b[1;32m   1965\u001b[0m \u001b[38;5;28;01mfor\u001b[39;00m hook \u001b[38;5;129;01min\u001b[39;00m default_hooks\u001b[38;5;241m.\u001b[39mvalues():\n\u001b[0;32m-> 1966\u001b[0m     \u001b[38;5;28;43mself\u001b[39;49m\u001b[38;5;241;43m.\u001b[39;49m\u001b[43mregister_hook\u001b[49m\u001b[43m(\u001b[49m\u001b[43mhook\u001b[49m\u001b[43m)\u001b[49m\n",
      "File \u001b[0;32m/n/groups/datta/tim_sainburg/conda_envs/mmdeploy/lib/python3.10/site-packages/mmengine/runner/runner.py:1877\u001b[0m, in \u001b[0;36mRunner.register_hook\u001b[0;34m(self, hook, priority)\u001b[0m\n\u001b[1;32m   1874\u001b[0m     \u001b[38;5;28;01mif\u001b[39;00m \u001b[38;5;124m'\u001b[39m\u001b[38;5;124mpriority\u001b[39m\u001b[38;5;124m'\u001b[39m \u001b[38;5;129;01min\u001b[39;00m hook:\n\u001b[1;32m   1875\u001b[0m         _priority \u001b[38;5;241m=\u001b[39m hook\u001b[38;5;241m.\u001b[39mpop(\u001b[38;5;124m'\u001b[39m\u001b[38;5;124mpriority\u001b[39m\u001b[38;5;124m'\u001b[39m)\n\u001b[0;32m-> 1877\u001b[0m     hook_obj \u001b[38;5;241m=\u001b[39m \u001b[43mHOOKS\u001b[49m\u001b[38;5;241;43m.\u001b[39;49m\u001b[43mbuild\u001b[49m\u001b[43m(\u001b[49m\u001b[43mhook\u001b[49m\u001b[43m)\u001b[49m\n\u001b[1;32m   1878\u001b[0m \u001b[38;5;28;01melse\u001b[39;00m:\n\u001b[1;32m   1879\u001b[0m     hook_obj \u001b[38;5;241m=\u001b[39m hook\n",
      "File \u001b[0;32m/n/groups/datta/tim_sainburg/conda_envs/mmdeploy/lib/python3.10/site-packages/mmengine/registry/registry.py:570\u001b[0m, in \u001b[0;36mRegistry.build\u001b[0;34m(self, cfg, *args, **kwargs)\u001b[0m\n\u001b[1;32m    548\u001b[0m \u001b[38;5;28;01mdef\u001b[39;00m \u001b[38;5;21mbuild\u001b[39m(\u001b[38;5;28mself\u001b[39m, cfg: \u001b[38;5;28mdict\u001b[39m, \u001b[38;5;241m*\u001b[39margs, \u001b[38;5;241m*\u001b[39m\u001b[38;5;241m*\u001b[39mkwargs) \u001b[38;5;241m-\u001b[39m\u001b[38;5;241m>\u001b[39m Any:\n\u001b[1;32m    549\u001b[0m \u001b[38;5;250m    \u001b[39m\u001b[38;5;124;03m\"\"\"Build an instance.\u001b[39;00m\n\u001b[1;32m    550\u001b[0m \n\u001b[1;32m    551\u001b[0m \u001b[38;5;124;03m    Build an instance by calling :attr:`build_func`.\u001b[39;00m\n\u001b[0;32m   (...)\u001b[0m\n\u001b[1;32m    568\u001b[0m \u001b[38;5;124;03m        >>> model = MODELS.build(cfg)\u001b[39;00m\n\u001b[1;32m    569\u001b[0m \u001b[38;5;124;03m    \"\"\"\u001b[39;00m\n\u001b[0;32m--> 570\u001b[0m     \u001b[38;5;28;01mreturn\u001b[39;00m \u001b[38;5;28;43mself\u001b[39;49m\u001b[38;5;241;43m.\u001b[39;49m\u001b[43mbuild_func\u001b[49m\u001b[43m(\u001b[49m\u001b[43mcfg\u001b[49m\u001b[43m,\u001b[49m\u001b[43m \u001b[49m\u001b[38;5;241;43m*\u001b[39;49m\u001b[43margs\u001b[49m\u001b[43m,\u001b[49m\u001b[43m \u001b[49m\u001b[38;5;241;43m*\u001b[39;49m\u001b[38;5;241;43m*\u001b[39;49m\u001b[43mkwargs\u001b[49m\u001b[43m,\u001b[49m\u001b[43m \u001b[49m\u001b[43mregistry\u001b[49m\u001b[38;5;241;43m=\u001b[39;49m\u001b[38;5;28;43mself\u001b[39;49m\u001b[43m)\u001b[49m\n",
      "File \u001b[0;32m/n/groups/datta/tim_sainburg/conda_envs/mmdeploy/lib/python3.10/site-packages/mmengine/registry/build_functions.py:100\u001b[0m, in \u001b[0;36mbuild_from_cfg\u001b[0;34m(cfg, registry, default_args)\u001b[0m\n\u001b[1;32m     98\u001b[0m     obj_cls \u001b[38;5;241m=\u001b[39m registry\u001b[38;5;241m.\u001b[39mget(obj_type)\n\u001b[1;32m     99\u001b[0m     \u001b[38;5;28;01mif\u001b[39;00m obj_cls \u001b[38;5;129;01mis\u001b[39;00m \u001b[38;5;28;01mNone\u001b[39;00m:\n\u001b[0;32m--> 100\u001b[0m         \u001b[38;5;28;01mraise\u001b[39;00m \u001b[38;5;167;01mKeyError\u001b[39;00m(\n\u001b[1;32m    101\u001b[0m             \u001b[38;5;124mf\u001b[39m\u001b[38;5;124m'\u001b[39m\u001b[38;5;132;01m{\u001b[39;00mobj_type\u001b[38;5;132;01m}\u001b[39;00m\u001b[38;5;124m is not in the \u001b[39m\u001b[38;5;132;01m{\u001b[39;00mregistry\u001b[38;5;241m.\u001b[39mscope\u001b[38;5;132;01m}\u001b[39;00m\u001b[38;5;124m::\u001b[39m\u001b[38;5;132;01m{\u001b[39;00mregistry\u001b[38;5;241m.\u001b[39mname\u001b[38;5;132;01m}\u001b[39;00m\u001b[38;5;124m registry. \u001b[39m\u001b[38;5;124m'\u001b[39m  \u001b[38;5;66;03m# noqa: E501\u001b[39;00m\n\u001b[1;32m    102\u001b[0m             \u001b[38;5;124mf\u001b[39m\u001b[38;5;124m'\u001b[39m\u001b[38;5;124mPlease check whether the value of `\u001b[39m\u001b[38;5;132;01m{\u001b[39;00mobj_type\u001b[38;5;132;01m}\u001b[39;00m\u001b[38;5;124m` is \u001b[39m\u001b[38;5;124m'\u001b[39m\n\u001b[1;32m    103\u001b[0m             \u001b[38;5;124m'\u001b[39m\u001b[38;5;124mcorrect or it was registered as expected. More details \u001b[39m\u001b[38;5;124m'\u001b[39m\n\u001b[1;32m    104\u001b[0m             \u001b[38;5;124m'\u001b[39m\u001b[38;5;124mcan be found at \u001b[39m\u001b[38;5;124m'\u001b[39m\n\u001b[1;32m    105\u001b[0m             \u001b[38;5;124m'\u001b[39m\u001b[38;5;124mhttps://mmengine.readthedocs.io/en/latest/advanced_tutorials/config.html#import-the-custom-module\u001b[39m\u001b[38;5;124m'\u001b[39m  \u001b[38;5;66;03m# noqa: E501\u001b[39;00m\n\u001b[1;32m    106\u001b[0m         )\n\u001b[1;32m    107\u001b[0m \u001b[38;5;66;03m# this will include classes, functions, partial functions and more\u001b[39;00m\n\u001b[1;32m    108\u001b[0m \u001b[38;5;28;01melif\u001b[39;00m \u001b[38;5;28mcallable\u001b[39m(obj_type):\n",
      "\u001b[0;31mKeyError\u001b[0m: 'BadCaseAnalysisHook is not in the mmpose::hook registry. Please check whether the value of `BadCaseAnalysisHook` is correct or it was registered as expected. More details can be found at https://mmengine.readthedocs.io/en/latest/advanced_tutorials/config.html#import-the-custom-module'"
     ]
    }
   ],
   "source": [
    "# build the runner from config\n",
    "runner = Runner.from_cfg(cfg)"
   ]
  },
  {
   "cell_type": "code",
   "execution_count": 27,
   "id": "fed5084b",
   "metadata": {
    "scrolled": true
   },
   "outputs": [
    {
     "ename": "NameError",
     "evalue": "name 'runner' is not defined",
     "output_type": "error",
     "traceback": [
      "\u001b[0;31m---------------------------------------------------------------------------\u001b[0m",
      "\u001b[0;31mNameError\u001b[0m                                 Traceback (most recent call last)",
      "Cell \u001b[0;32mIn[27], line 2\u001b[0m\n\u001b[1;32m      1\u001b[0m \u001b[38;5;66;03m# start training\u001b[39;00m\n\u001b[0;32m----> 2\u001b[0m \u001b[43mrunner\u001b[49m\u001b[38;5;241m.\u001b[39mtrain()\n",
      "\u001b[0;31mNameError\u001b[0m: name 'runner' is not defined"
     ]
    }
   ],
   "source": [
    "# start training\n",
    "runner.train()"
   ]
  },
  {
   "cell_type": "markdown",
   "id": "c7173b67",
   "metadata": {},
   "source": [
    "### The config and path for running inference will be in the working directory"
   ]
  }
 ],
 "metadata": {
  "kernelspec": {
   "display_name": "mmdeploy",
   "language": "python",
   "name": "mmdeploy"
  },
  "language_info": {
   "codemirror_mode": {
    "name": "ipython",
    "version": 3
   },
   "file_extension": ".py",
   "mimetype": "text/x-python",
   "name": "python",
   "nbconvert_exporter": "python",
   "pygments_lexer": "ipython3",
   "version": "3.10.13"
  }
 },
 "nbformat": 4,
 "nbformat_minor": 5
}
