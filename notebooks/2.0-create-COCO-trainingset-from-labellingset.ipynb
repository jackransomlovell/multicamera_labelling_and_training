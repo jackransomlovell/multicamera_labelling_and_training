{
 "cells": [
  {
   "cell_type": "markdown",
   "id": "28d15d3e",
   "metadata": {},
   "source": [
    "## This notebooks concatenates multiple Jarvis trainingsets into a single COCO formatted trainingset\n",
    "- **NOTE:** I reccomend using a different trainingset for detection vs pose prediction\n",
    "- **detection**: use a smaller dataset where data is closer to your specific rig / context\n",
    "- **pose recognition**: use a large and more diverse dataset, which can contain different species/strains in diverse conditions"
   ]
  },
  {
   "cell_type": "code",
   "execution_count": 1,
   "id": "c28ba006",
   "metadata": {},
   "outputs": [],
   "source": [
    "%load_ext autoreload\n",
    "%autoreload 2"
   ]
  },
  {
   "cell_type": "code",
   "execution_count": 2,
   "id": "de1e36a7",
   "metadata": {},
   "outputs": [],
   "source": [
    "from datetime import datetime\n",
    "from pathlib import Path\n",
    "from pprint import pprint\n",
    "# import matplotlib.pyplot as plt"
   ]
  },
  {
   "cell_type": "markdown",
   "id": "184da3c7",
   "metadata": {},
   "source": [
    "#### Parameters"
   ]
  },
  {
   "cell_type": "code",
   "execution_count": 3,
   "id": "b6c4be2c",
   "metadata": {},
   "outputs": [],
   "source": [
    "# where you want to save your training set\n",
    "output_directory = Path(\"/n/groups/datta/jlove/data/rat_seq/6cam/detection_training\")\n",
    "\n",
    "# what to name the dataset\n",
    "trainingset_name = \"08-26-24-rat_6cam_alldata\""
   ]
  },
  {
   "cell_type": "code",
   "execution_count": 4,
   "id": "43d413d2",
   "metadata": {},
   "outputs": [],
   "source": [
    "# this needs to match with the order used in mmpose\n",
    "keypoints_order = [\n",
    "    \"nose_tip\",\n",
    "    \"left_ear\",\n",
    "    \"right_ear\",\n",
    "    \"left_eye\",\n",
    "    \"right_eye\",\n",
    "    \"throat\",\n",
    "    \"forehead\",\n",
    "    \"left_shoulder\",\n",
    "    \"right_shoulder\",\n",
    "    \"left_elbow\",\n",
    "    \"right_elbow\",\n",
    "    \"left_wrist\",\n",
    "    \"right_wrist\",\n",
    "    \"left_hind_paw_front\",\n",
    "    \"right_hind_paw_front\",\n",
    "    \"left_hind_paw_back\",\n",
    "    \"right_hind_paw_back\",\n",
    "    \"left_knee\",\n",
    "    \"right_knee\",\n",
    "    \"tail_base\",\n",
    "    \"spine_low\",\n",
    "    \"spine_mid\",\n",
    "    \"spine_high\",\n",
    "    \"left_fore_paw\",\n",
    "    \"right_fore_paw\",\n",
    "]"
   ]
  },
  {
   "cell_type": "markdown",
   "id": "3fafbdcd",
   "metadata": {},
   "source": [
    "### Select which labelling sets to use\n",
    "- **Note**: For the benefit of the rest of the lab, share the datasets you annotate"
   ]
  },
  {
   "cell_type": "code",
   "execution_count": 7,
   "id": "345107b1",
   "metadata": {},
   "outputs": [],
   "source": [
    "dataset_locs = [\n",
    "    \n",
    "    # 240502\n",
    "    {\n",
    "        \"location\": \"/n/groups/datta/tim_sainburg/projects/23-10-29-jarvis-datasets/sainburg-25pt/1920x1200/240502-npx_M04002-20-frames-dull/\",\n",
    "        \"use_in_validation\": True,\n",
    "    },\n",
    "    {\n",
    "        \"location\": \"/n/groups/datta/tim_sainburg/projects/23-10-29-jarvis-datasets/sainburg-25pt/1920x1200/240502-npx_M04003-20-frames-v2/\",\n",
    "        \"use_in_validation\": True,\n",
    "    },\n",
    "    {\n",
    "        \"location\": \"/n/groups/datta/tim_sainburg/projects/23-10-29-jarvis-datasets/sainburg-25pt/1920x1200/240502-npx_M04003-24-frames-v3/\",\n",
    "        \"use_in_validation\": True,\n",
    "    },\n",
    "    {\n",
    "        \"location\": \"/n/groups/datta/tim_sainburg/projects/23-10-29-jarvis-datasets/sainburg-25pt/1920x1200/240502-npx_M04002-20-frames-shiny/\",\n",
    "        \"use_in_validation\": True,\n",
    "    },\n",
    "    \n",
    "    {\n",
    "        \"location\": \"/n/groups/datta/tim_sainburg/projects/23-10-29-jarvis-datasets/sainburg-25pt/1920x1200/23-10-03-NUB-37954/\",\n",
    "        \"use_in_validation\": True,\n",
    "    },\n",
    "    {\n",
    "        \"location\": \"/n/groups/datta/tim_sainburg/projects/23-10-29-jarvis-datasets/sainburg-25pt/1920x1200/23-10-25-SM2-37837/\",\n",
    "        \"use_in_validation\": True,\n",
    "    },\n",
    "    {\n",
    "        \"location\": \"/n/groups/datta/tim_sainburg/projects/23-10-29-jarvis-datasets/sainburg-25pt/1920x1200/23-10-25-SM2-37838/\",\n",
    "        \"use_in_validation\": True,\n",
    "    },\n",
    "    {\n",
    "        \"location\": \"/n/groups/datta/tim_sainburg/projects/23-10-29-jarvis-datasets/sainburg-25pt/1920x1200/23-10-25-NUB-38027/\",\n",
    "        \"use_in_validation\": True,\n",
    "    },\n",
    "    {\n",
    "        \"location\": \"/n/groups/datta/tim_sainburg/projects/23-10-29-jarvis-datasets/sainburg-25pt/1920x1200/23-10-25-bk-38125/\",\n",
    "        \"use_in_validation\": True,\n",
    "    },\n",
    "    {\n",
    "        \"location\": \"/n/groups/datta/tim_sainburg/projects/23-10-29-jarvis-datasets/sainburg-25pt/1920x1200/23-10-25-SW-38157/\",\n",
    "        \"use_in_validation\": True,\n",
    "    },\n",
    "    {\n",
    "        \"location\": \"/n/groups/datta/tim_sainburg/projects/23-10-29-jarvis-datasets/sainburg-25pt/1920x1200/23-10-25-NUB-37956/\",\n",
    "        \"use_in_validation\": True,\n",
    "    },\n",
    "    {\n",
    "        \"location\": \"/n/groups/datta/tim_sainburg/projects/23-10-29-jarvis-datasets/sainburg-25pt/1920x1200/23-10-25-bk-38129/\",\n",
    "        \"use_in_validation\": True,\n",
    "    },\n",
    "    {\n",
    "        \"location\": \"/n/groups/datta/tim_sainburg/projects/23-10-29-jarvis-datasets/sainburg-25pt/1920x1200/23-10-25-BW-38102/\",\n",
    "        \"use_in_validation\": True,\n",
    "    },\n",
    "    {\n",
    "        \"location\": \"/n/groups/datta/tim_sainburg/projects/23-10-29-jarvis-datasets/sainburg-25pt/1920x1200/23-10-25-NUB-37952/\",\n",
    "        \"use_in_validation\": True,\n",
    "    },\n",
    "    {\n",
    "        \"location\": \"/n/groups/datta/tim_sainburg/projects/23-10-29-jarvis-datasets/sainburg-25pt/1920x1200/23-10-25-SW-38158/\",\n",
    "        \"use_in_validation\": True,\n",
    "    },\n",
    "    {\n",
    "        \"location\": \"/n/groups/datta/tim_sainburg/projects/23-10-29-jarvis-datasets/sainburg-25pt/1920x1200/23-10-25-bk-38127/\",\n",
    "        \"use_in_validation\": True,\n",
    "    },\n",
    "    {\n",
    "        \"location\": \"/n/groups/datta/tim_sainburg/projects/23-10-29-jarvis-datasets/sainburg-25pt/1920x1200/23-10-25-SW-28247/\",\n",
    "        \"use_in_validation\": True,\n",
    "    },\n",
    "    {\n",
    "        \"location\": \"/n/groups/datta/tim_sainburg/projects/23-10-29-jarvis-datasets/sainburg-25pt/1920x1200/23-10-25-SM2-37837/\",\n",
    "        \"use_in_validation\": True,\n",
    "    },\n",
    "    \n",
    "    {\n",
    "        \"location\": \"/n/groups/datta/tim_sainburg/projects/23-09-29-peromoseq/data/jarvis/labeling_datasets/resized/20230904_CALEB_JONAH/\",\n",
    "        \"use_in_validation\": False,\n",
    "    },\n",
    "    \n",
    "    {\n",
    "        \"location\": \"/n/groups/datta/tim_sainburg/projects/23-10-29-jarvis-datasets/sainburg-25pt/1920x1200/240423-npx_apollo-30-frames/\",\n",
    "        \"use_in_validation\": True,\n",
    "    },\n",
    "    {\n",
    "        \"location\": \"/n/groups/datta/tim_sainburg/projects/23-10-29-jarvis-datasets/sainburg-25pt/1920x1200/240423-npx_apollo-20-frames/\",\n",
    "        \"use_in_validation\": True,\n",
    "    },\n",
    "    {\n",
    "        \"location\": \"/n/groups/datta/tim_sainburg/projects/23-09-29-peromoseq/data/jarvis/labeling_datasets/resized/23-04-27-neural-recording/\",\n",
    "        \"use_in_validation\": False,\n",
    "    },\n",
    "    {\n",
    "        \"location\": \"/n/groups/datta/tim_sainburg/projects/23-09-29-peromoseq/data/jarvis/labeling_datasets/resized/23-05-01-14-37-54__23-04-20-headcap/\",\n",
    "        \"use_in_validation\": False,\n",
    "    },\n",
    "    {\n",
    "        \"location\": \"/n/groups/datta/tim_sainburg/projects/23-09-29-peromoseq/data/jarvis/labeling_datasets/resized/23-05-15-tethered-neural/\",\n",
    "        \"use_in_validation\": False,\n",
    "    },\n",
    "    {\n",
    "        \"location\": \"/n/groups/datta/tim_sainburg/projects/23-09-29-peromoseq/data/jarvis/labeling_datasets/resized/23-08-16-chronic_recordings_23-02-16-17-39-39-427329_larger/\",\n",
    "        \"use_in_validation\": False,\n",
    "    },\n",
    "    {\n",
    "        \"location\": \"/n/groups/datta/tim_sainburg/projects/23-09-29-peromoseq/data/jarvis/labeling_datasets/resized/400_frames_midspine/\",\n",
    "        \"use_in_validation\": False,\n",
    "    },\n",
    "    # rat\n",
    "    {\n",
    "        \"location\": \"/n/groups/datta/jlove/data/rat_seq/6cam/rat_6cam_tmp\",\n",
    "        \"use_in_validation\": False,\n",
    "    },\n",
    "    # multi-mouse\n",
    "    {\n",
    "        \"location\": \"/n/groups/datta/tim_sainburg/projects/23-10-29-jarvis-datasets/sainburg-25pt/1920x1200/20240314-sample-neuropixels-clear-100/\",\n",
    "        \"use_in_validation\": False,\n",
    "    },\n",
    "    {\n",
    "        \"location\": \"/n/groups/datta/tim_sainburg/projects/23-10-29-jarvis-datasets/sainburg-25pt/1920x1200/20240110-nacho-LOLO/\",\n",
    "        \"use_in_validation\": False,\n",
    "    },\n",
    "    \n",
    "    # downloaded datasets\n",
    "    {\n",
    "        \"location\": \"/n/groups/datta/tim_sainburg/projects/23-09-29-peromoseq/data/jarvis/labeling_datasets/resized/Gerbil2_bw_midspine/\",\n",
    "        \"use_in_validation\": False,\n",
    "    },\n",
    "        {\n",
    "        \"location\": \"/n/groups/datta/tim_sainburg/projects/23-09-29-peromoseq/data/jarvis/labeling_datasets/resized/Mouse_bw_midspine/\",\n",
    "        \"use_in_validation\": False,\n",
    "    },\n",
    "        {\n",
    "        \"location\": \"/n/groups/datta/tim_sainburg/projects/23-09-29-peromoseq/data/jarvis/labeling_datasets/resized/Rat_Dataset_bw_midspine/\",\n",
    "        \"use_in_validation\": False,\n",
    "    },\n",
    "\n",
    "]\n",
    "for dset in dataset_locs:\n",
    "    dset[\"use_in_validation\"] = False\n",
    "\n",
    "dataset_locs[1][\"use_in_validation\"] = True\n",
    "dataset_locs[2][\"use_in_validation\"] = True\n",
    "dataset_locs[3][\"use_in_validation\"] = True\n",
    "dataset_locs[4][\"use_in_validation\"] = True"
   ]
  },
  {
   "cell_type": "markdown",
   "id": "6a567e99",
   "metadata": {},
   "source": [
    "### Create trainingset"
   ]
  },
  {
   "cell_type": "code",
   "execution_count": 8,
   "id": "9e9aa315",
   "metadata": {},
   "outputs": [],
   "source": [
    "from multicamera_labelling_and_training.labelling_set_to_training_set import TrainingSetCreator"
   ]
  },
  {
   "cell_type": "code",
   "execution_count": 9,
   "id": "793765e6",
   "metadata": {},
   "outputs": [],
   "source": [
    "tsc = TrainingSetCreator(\n",
    "    output_directory=output_directory,\n",
    "    trainingset_name=trainingset_name,\n",
    "    percent_validation = 0.1,\n",
    "    keypoints_order = keypoints_order,\n",
    "    padding = 60 # how much padding to place around the \n",
    ")"
   ]
  },
  {
   "cell_type": "code",
   "execution_count": null,
   "id": "5ac9f524",
   "metadata": {},
   "outputs": [
    {
     "data": {
      "application/vnd.jupyter.widget-view+json": {
       "model_id": "",
       "version_major": 2,
       "version_minor": 0
      },
      "text/plain": [
       "copying images from 240502-npx_M04002-20-frames-dull:   0%|          | 0/6 [00:00<?, ?it/s]"
      ]
     },
     "metadata": {},
     "output_type": "display_data"
    },
    {
     "data": {
      "application/vnd.jupyter.widget-view+json": {
       "model_id": "",
       "version_major": 2,
       "version_minor": 0
      },
      "text/plain": [
       "BackBottom:   0%|          | 0/20 [00:00<?, ?it/s]"
      ]
     },
     "metadata": {},
     "output_type": "display_data"
    },
    {
     "data": {
      "application/vnd.jupyter.widget-view+json": {
       "model_id": "",
       "version_major": 2,
       "version_minor": 0
      },
      "text/plain": [
       "BackLeft:   0%|          | 0/20 [00:00<?, ?it/s]"
      ]
     },
     "metadata": {},
     "output_type": "display_data"
    },
    {
     "data": {
      "application/vnd.jupyter.widget-view+json": {
       "model_id": "",
       "version_major": 2,
       "version_minor": 0
      },
      "text/plain": [
       "BackRight:   0%|          | 0/20 [00:00<?, ?it/s]"
      ]
     },
     "metadata": {},
     "output_type": "display_data"
    },
    {
     "data": {
      "application/vnd.jupyter.widget-view+json": {
       "model_id": "",
       "version_major": 2,
       "version_minor": 0
      },
      "text/plain": [
       "FrontBottom:   0%|          | 0/20 [00:00<?, ?it/s]"
      ]
     },
     "metadata": {},
     "output_type": "display_data"
    },
    {
     "data": {
      "application/vnd.jupyter.widget-view+json": {
       "model_id": "",
       "version_major": 2,
       "version_minor": 0
      },
      "text/plain": [
       "FrontLeft:   0%|          | 0/20 [00:00<?, ?it/s]"
      ]
     },
     "metadata": {},
     "output_type": "display_data"
    },
    {
     "data": {
      "application/vnd.jupyter.widget-view+json": {
       "model_id": "",
       "version_major": 2,
       "version_minor": 0
      },
      "text/plain": [
       "FrontRight:   0%|          | 0/20 [00:00<?, ?it/s]"
      ]
     },
     "metadata": {},
     "output_type": "display_data"
    },
    {
     "data": {
      "application/vnd.jupyter.widget-view+json": {
       "model_id": "",
       "version_major": 2,
       "version_minor": 0
      },
      "text/plain": [
       "copying images from 240502-npx_M04003-20-frames-v2:   0%|          | 0/6 [00:00<?, ?it/s]"
      ]
     },
     "metadata": {},
     "output_type": "display_data"
    },
    {
     "data": {
      "application/vnd.jupyter.widget-view+json": {
       "model_id": "",
       "version_major": 2,
       "version_minor": 0
      },
      "text/plain": [
       "BackBottom:   0%|          | 0/20 [00:00<?, ?it/s]"
      ]
     },
     "metadata": {},
     "output_type": "display_data"
    },
    {
     "data": {
      "application/vnd.jupyter.widget-view+json": {
       "model_id": "",
       "version_major": 2,
       "version_minor": 0
      },
      "text/plain": [
       "BackLeft:   0%|          | 0/20 [00:00<?, ?it/s]"
      ]
     },
     "metadata": {},
     "output_type": "display_data"
    },
    {
     "data": {
      "application/vnd.jupyter.widget-view+json": {
       "model_id": "",
       "version_major": 2,
       "version_minor": 0
      },
      "text/plain": [
       "BackRight:   0%|          | 0/20 [00:00<?, ?it/s]"
      ]
     },
     "metadata": {},
     "output_type": "display_data"
    },
    {
     "data": {
      "application/vnd.jupyter.widget-view+json": {
       "model_id": "",
       "version_major": 2,
       "version_minor": 0
      },
      "text/plain": [
       "FrontBottom:   0%|          | 0/20 [00:00<?, ?it/s]"
      ]
     },
     "metadata": {},
     "output_type": "display_data"
    },
    {
     "data": {
      "application/vnd.jupyter.widget-view+json": {
       "model_id": "",
       "version_major": 2,
       "version_minor": 0
      },
      "text/plain": [
       "FrontLeft:   0%|          | 0/20 [00:00<?, ?it/s]"
      ]
     },
     "metadata": {},
     "output_type": "display_data"
    },
    {
     "data": {
      "application/vnd.jupyter.widget-view+json": {
       "model_id": "",
       "version_major": 2,
       "version_minor": 0
      },
      "text/plain": [
       "FrontRight:   0%|          | 0/20 [00:00<?, ?it/s]"
      ]
     },
     "metadata": {},
     "output_type": "display_data"
    },
    {
     "data": {
      "application/vnd.jupyter.widget-view+json": {
       "model_id": "",
       "version_major": 2,
       "version_minor": 0
      },
      "text/plain": [
       "copying images from 240502-npx_M04003-24-frames-v3:   0%|          | 0/6 [00:00<?, ?it/s]"
      ]
     },
     "metadata": {},
     "output_type": "display_data"
    },
    {
     "data": {
      "application/vnd.jupyter.widget-view+json": {
       "model_id": "",
       "version_major": 2,
       "version_minor": 0
      },
      "text/plain": [
       "BackBottom:   0%|          | 0/25 [00:00<?, ?it/s]"
      ]
     },
     "metadata": {},
     "output_type": "display_data"
    },
    {
     "data": {
      "application/vnd.jupyter.widget-view+json": {
       "model_id": "",
       "version_major": 2,
       "version_minor": 0
      },
      "text/plain": [
       "BackLeft:   0%|          | 0/25 [00:00<?, ?it/s]"
      ]
     },
     "metadata": {},
     "output_type": "display_data"
    },
    {
     "data": {
      "application/vnd.jupyter.widget-view+json": {
       "model_id": "",
       "version_major": 2,
       "version_minor": 0
      },
      "text/plain": [
       "BackRight:   0%|          | 0/25 [00:00<?, ?it/s]"
      ]
     },
     "metadata": {},
     "output_type": "display_data"
    },
    {
     "data": {
      "application/vnd.jupyter.widget-view+json": {
       "model_id": "",
       "version_major": 2,
       "version_minor": 0
      },
      "text/plain": [
       "FrontBottom:   0%|          | 0/25 [00:00<?, ?it/s]"
      ]
     },
     "metadata": {},
     "output_type": "display_data"
    },
    {
     "data": {
      "application/vnd.jupyter.widget-view+json": {
       "model_id": "",
       "version_major": 2,
       "version_minor": 0
      },
      "text/plain": [
       "FrontLeft:   0%|          | 0/25 [00:00<?, ?it/s]"
      ]
     },
     "metadata": {},
     "output_type": "display_data"
    },
    {
     "data": {
      "application/vnd.jupyter.widget-view+json": {
       "model_id": "",
       "version_major": 2,
       "version_minor": 0
      },
      "text/plain": [
       "FrontRight:   0%|          | 0/25 [00:00<?, ?it/s]"
      ]
     },
     "metadata": {},
     "output_type": "display_data"
    },
    {
     "data": {
      "application/vnd.jupyter.widget-view+json": {
       "model_id": "",
       "version_major": 2,
       "version_minor": 0
      },
      "text/plain": [
       "copying images from 240502-npx_M04002-20-frames-shiny:   0%|          | 0/6 [00:00<?, ?it/s]"
      ]
     },
     "metadata": {},
     "output_type": "display_data"
    },
    {
     "data": {
      "application/vnd.jupyter.widget-view+json": {
       "model_id": "",
       "version_major": 2,
       "version_minor": 0
      },
      "text/plain": [
       "BackBottom:   0%|          | 0/20 [00:00<?, ?it/s]"
      ]
     },
     "metadata": {},
     "output_type": "display_data"
    },
    {
     "data": {
      "application/vnd.jupyter.widget-view+json": {
       "model_id": "",
       "version_major": 2,
       "version_minor": 0
      },
      "text/plain": [
       "BackLeft:   0%|          | 0/20 [00:00<?, ?it/s]"
      ]
     },
     "metadata": {},
     "output_type": "display_data"
    },
    {
     "data": {
      "application/vnd.jupyter.widget-view+json": {
       "model_id": "",
       "version_major": 2,
       "version_minor": 0
      },
      "text/plain": [
       "BackRight:   0%|          | 0/20 [00:00<?, ?it/s]"
      ]
     },
     "metadata": {},
     "output_type": "display_data"
    },
    {
     "data": {
      "application/vnd.jupyter.widget-view+json": {
       "model_id": "",
       "version_major": 2,
       "version_minor": 0
      },
      "text/plain": [
       "FrontBottom:   0%|          | 0/20 [00:00<?, ?it/s]"
      ]
     },
     "metadata": {},
     "output_type": "display_data"
    },
    {
     "data": {
      "application/vnd.jupyter.widget-view+json": {
       "model_id": "",
       "version_major": 2,
       "version_minor": 0
      },
      "text/plain": [
       "FrontLeft:   0%|          | 0/20 [00:00<?, ?it/s]"
      ]
     },
     "metadata": {},
     "output_type": "display_data"
    },
    {
     "data": {
      "application/vnd.jupyter.widget-view+json": {
       "model_id": "",
       "version_major": 2,
       "version_minor": 0
      },
      "text/plain": [
       "FrontRight:   0%|          | 0/20 [00:00<?, ?it/s]"
      ]
     },
     "metadata": {},
     "output_type": "display_data"
    },
    {
     "data": {
      "application/vnd.jupyter.widget-view+json": {
       "model_id": "",
       "version_major": 2,
       "version_minor": 0
      },
      "text/plain": [
       "copying images from 23-10-03-NUB-37954:   0%|          | 0/6 [00:00<?, ?it/s]"
      ]
     },
     "metadata": {},
     "output_type": "display_data"
    },
    {
     "data": {
      "application/vnd.jupyter.widget-view+json": {
       "model_id": "",
       "version_major": 2,
       "version_minor": 0
      },
      "text/plain": [
       "BackLeft:   0%|          | 0/50 [00:00<?, ?it/s]"
      ]
     },
     "metadata": {},
     "output_type": "display_data"
    },
    {
     "data": {
      "application/vnd.jupyter.widget-view+json": {
       "model_id": "",
       "version_major": 2,
       "version_minor": 0
      },
      "text/plain": [
       "BackRight:   0%|          | 0/50 [00:00<?, ?it/s]"
      ]
     },
     "metadata": {},
     "output_type": "display_data"
    },
    {
     "data": {
      "application/vnd.jupyter.widget-view+json": {
       "model_id": "",
       "version_major": 2,
       "version_minor": 0
      },
      "text/plain": [
       "Bottom:   0%|          | 0/50 [00:00<?, ?it/s]"
      ]
     },
     "metadata": {},
     "output_type": "display_data"
    },
    {
     "data": {
      "application/vnd.jupyter.widget-view+json": {
       "model_id": "",
       "version_major": 2,
       "version_minor": 0
      },
      "text/plain": [
       "FrontLeft:   0%|          | 0/50 [00:00<?, ?it/s]"
      ]
     },
     "metadata": {},
     "output_type": "display_data"
    },
    {
     "data": {
      "application/vnd.jupyter.widget-view+json": {
       "model_id": "",
       "version_major": 2,
       "version_minor": 0
      },
      "text/plain": [
       "FrontRight:   0%|          | 0/50 [00:00<?, ?it/s]"
      ]
     },
     "metadata": {},
     "output_type": "display_data"
    },
    {
     "data": {
      "application/vnd.jupyter.widget-view+json": {
       "model_id": "",
       "version_major": 2,
       "version_minor": 0
      },
      "text/plain": [
       "Top:   0%|          | 0/50 [00:00<?, ?it/s]"
      ]
     },
     "metadata": {},
     "output_type": "display_data"
    },
    {
     "data": {
      "application/vnd.jupyter.widget-view+json": {
       "model_id": "",
       "version_major": 2,
       "version_minor": 0
      },
      "text/plain": [
       "copying images from 23-10-25-SM2-37837:   0%|          | 0/6 [00:00<?, ?it/s]"
      ]
     },
     "metadata": {},
     "output_type": "display_data"
    },
    {
     "data": {
      "application/vnd.jupyter.widget-view+json": {
       "model_id": "",
       "version_major": 2,
       "version_minor": 0
      },
      "text/plain": [
       "BackLeft:   0%|          | 0/50 [00:00<?, ?it/s]"
      ]
     },
     "metadata": {},
     "output_type": "display_data"
    },
    {
     "data": {
      "application/vnd.jupyter.widget-view+json": {
       "model_id": "",
       "version_major": 2,
       "version_minor": 0
      },
      "text/plain": [
       "BackRight:   0%|          | 0/50 [00:00<?, ?it/s]"
      ]
     },
     "metadata": {},
     "output_type": "display_data"
    },
    {
     "data": {
      "application/vnd.jupyter.widget-view+json": {
       "model_id": "",
       "version_major": 2,
       "version_minor": 0
      },
      "text/plain": [
       "Bottom:   0%|          | 0/50 [00:00<?, ?it/s]"
      ]
     },
     "metadata": {},
     "output_type": "display_data"
    },
    {
     "data": {
      "application/vnd.jupyter.widget-view+json": {
       "model_id": "",
       "version_major": 2,
       "version_minor": 0
      },
      "text/plain": [
       "FrontLeft:   0%|          | 0/50 [00:00<?, ?it/s]"
      ]
     },
     "metadata": {},
     "output_type": "display_data"
    },
    {
     "data": {
      "application/vnd.jupyter.widget-view+json": {
       "model_id": "",
       "version_major": 2,
       "version_minor": 0
      },
      "text/plain": [
       "FrontRight:   0%|          | 0/50 [00:00<?, ?it/s]"
      ]
     },
     "metadata": {},
     "output_type": "display_data"
    },
    {
     "data": {
      "application/vnd.jupyter.widget-view+json": {
       "model_id": "",
       "version_major": 2,
       "version_minor": 0
      },
      "text/plain": [
       "Top:   0%|          | 0/50 [00:00<?, ?it/s]"
      ]
     },
     "metadata": {},
     "output_type": "display_data"
    },
    {
     "data": {
      "application/vnd.jupyter.widget-view+json": {
       "model_id": "",
       "version_major": 2,
       "version_minor": 0
      },
      "text/plain": [
       "copying images from 23-10-25-SM2-37838:   0%|          | 0/6 [00:00<?, ?it/s]"
      ]
     },
     "metadata": {},
     "output_type": "display_data"
    },
    {
     "data": {
      "application/vnd.jupyter.widget-view+json": {
       "model_id": "",
       "version_major": 2,
       "version_minor": 0
      },
      "text/plain": [
       "BackLeft:   0%|          | 0/50 [00:00<?, ?it/s]"
      ]
     },
     "metadata": {},
     "output_type": "display_data"
    },
    {
     "data": {
      "application/vnd.jupyter.widget-view+json": {
       "model_id": "",
       "version_major": 2,
       "version_minor": 0
      },
      "text/plain": [
       "BackRight:   0%|          | 0/50 [00:00<?, ?it/s]"
      ]
     },
     "metadata": {},
     "output_type": "display_data"
    },
    {
     "data": {
      "application/vnd.jupyter.widget-view+json": {
       "model_id": "",
       "version_major": 2,
       "version_minor": 0
      },
      "text/plain": [
       "Bottom:   0%|          | 0/50 [00:00<?, ?it/s]"
      ]
     },
     "metadata": {},
     "output_type": "display_data"
    },
    {
     "data": {
      "application/vnd.jupyter.widget-view+json": {
       "model_id": "",
       "version_major": 2,
       "version_minor": 0
      },
      "text/plain": [
       "FrontLeft:   0%|          | 0/50 [00:00<?, ?it/s]"
      ]
     },
     "metadata": {},
     "output_type": "display_data"
    },
    {
     "data": {
      "application/vnd.jupyter.widget-view+json": {
       "model_id": "",
       "version_major": 2,
       "version_minor": 0
      },
      "text/plain": [
       "FrontRight:   0%|          | 0/50 [00:00<?, ?it/s]"
      ]
     },
     "metadata": {},
     "output_type": "display_data"
    },
    {
     "data": {
      "application/vnd.jupyter.widget-view+json": {
       "model_id": "",
       "version_major": 2,
       "version_minor": 0
      },
      "text/plain": [
       "Top:   0%|          | 0/50 [00:00<?, ?it/s]"
      ]
     },
     "metadata": {},
     "output_type": "display_data"
    },
    {
     "data": {
      "application/vnd.jupyter.widget-view+json": {
       "model_id": "",
       "version_major": 2,
       "version_minor": 0
      },
      "text/plain": [
       "copying images from 23-10-25-NUB-38027:   0%|          | 0/6 [00:00<?, ?it/s]"
      ]
     },
     "metadata": {},
     "output_type": "display_data"
    },
    {
     "data": {
      "application/vnd.jupyter.widget-view+json": {
       "model_id": "786a7ea75b8a420caf54cc028342a41c",
       "version_major": 2,
       "version_minor": 0
      },
      "text/plain": [
       "BackLeft:   0%|          | 0/50 [00:00<?, ?it/s]"
      ]
     },
     "metadata": {},
     "output_type": "display_data"
    },
    {
     "data": {
      "application/vnd.jupyter.widget-view+json": {
       "model_id": "1981f341120740db905e4d39c29715ac",
       "version_major": 2,
       "version_minor": 0
      },
      "text/plain": [
       "BackRight:   0%|          | 0/50 [00:00<?, ?it/s]"
      ]
     },
     "metadata": {},
     "output_type": "display_data"
    },
    {
     "data": {
      "application/vnd.jupyter.widget-view+json": {
       "model_id": "f3659c4d780b423294e84a65f76a8e2d",
       "version_major": 2,
       "version_minor": 0
      },
      "text/plain": [
       "Bottom:   0%|          | 0/50 [00:00<?, ?it/s]"
      ]
     },
     "metadata": {},
     "output_type": "display_data"
    },
    {
     "data": {
      "application/vnd.jupyter.widget-view+json": {
       "model_id": "5af17711f3c545529b509c7e7c407f43",
       "version_major": 2,
       "version_minor": 0
      },
      "text/plain": [
       "FrontLeft:   0%|          | 0/50 [00:00<?, ?it/s]"
      ]
     },
     "metadata": {},
     "output_type": "display_data"
    },
    {
     "data": {
      "application/vnd.jupyter.widget-view+json": {
       "model_id": "32b14da5646a4257a764cf0e366f6c7d",
       "version_major": 2,
       "version_minor": 0
      },
      "text/plain": [
       "FrontRight:   0%|          | 0/50 [00:00<?, ?it/s]"
      ]
     },
     "metadata": {},
     "output_type": "display_data"
    },
    {
     "data": {
      "application/vnd.jupyter.widget-view+json": {
       "model_id": "4fef70094fe5426e9d0b629c7ae01d8a",
       "version_major": 2,
       "version_minor": 0
      },
      "text/plain": [
       "Top:   0%|          | 0/50 [00:00<?, ?it/s]"
      ]
     },
     "metadata": {},
     "output_type": "display_data"
    },
    {
     "data": {
      "application/vnd.jupyter.widget-view+json": {
       "model_id": "",
       "version_major": 2,
       "version_minor": 0
      },
      "text/plain": [
       "copying images from 23-10-25-bk-38125:   0%|          | 0/6 [00:00<?, ?it/s]"
      ]
     },
     "metadata": {},
     "output_type": "display_data"
    },
    {
     "data": {
      "application/vnd.jupyter.widget-view+json": {
       "model_id": "321a865f155a4a9a96aa0de223de09dd",
       "version_major": 2,
       "version_minor": 0
      },
      "text/plain": [
       "BackLeft:   0%|          | 0/50 [00:00<?, ?it/s]"
      ]
     },
     "metadata": {},
     "output_type": "display_data"
    },
    {
     "data": {
      "application/vnd.jupyter.widget-view+json": {
       "model_id": "c8e3c50ec42e4670a29faa5ec23ccb7d",
       "version_major": 2,
       "version_minor": 0
      },
      "text/plain": [
       "BackRight:   0%|          | 0/50 [00:00<?, ?it/s]"
      ]
     },
     "metadata": {},
     "output_type": "display_data"
    },
    {
     "data": {
      "application/vnd.jupyter.widget-view+json": {
       "model_id": "0f2db1df2a414d07911be0a31cb63b85",
       "version_major": 2,
       "version_minor": 0
      },
      "text/plain": [
       "Bottom:   0%|          | 0/50 [00:00<?, ?it/s]"
      ]
     },
     "metadata": {},
     "output_type": "display_data"
    },
    {
     "data": {
      "application/vnd.jupyter.widget-view+json": {
       "model_id": "92bac3b2859546b6b1358b57355b935b",
       "version_major": 2,
       "version_minor": 0
      },
      "text/plain": [
       "FrontLeft:   0%|          | 0/50 [00:00<?, ?it/s]"
      ]
     },
     "metadata": {},
     "output_type": "display_data"
    },
    {
     "data": {
      "application/vnd.jupyter.widget-view+json": {
       "model_id": "b35ac4cca8114cb6bcbcee2eb22c94db",
       "version_major": 2,
       "version_minor": 0
      },
      "text/plain": [
       "FrontRight:   0%|          | 0/50 [00:00<?, ?it/s]"
      ]
     },
     "metadata": {},
     "output_type": "display_data"
    },
    {
     "data": {
      "application/vnd.jupyter.widget-view+json": {
       "model_id": "8979406986a44597be09743ed0e63283",
       "version_major": 2,
       "version_minor": 0
      },
      "text/plain": [
       "Top:   0%|          | 0/50 [00:00<?, ?it/s]"
      ]
     },
     "metadata": {},
     "output_type": "display_data"
    },
    {
     "data": {
      "application/vnd.jupyter.widget-view+json": {
       "model_id": "",
       "version_major": 2,
       "version_minor": 0
      },
      "text/plain": [
       "copying images from 23-10-25-SW-38157:   0%|          | 0/6 [00:00<?, ?it/s]"
      ]
     },
     "metadata": {},
     "output_type": "display_data"
    },
    {
     "data": {
      "application/vnd.jupyter.widget-view+json": {
       "model_id": "508c14f8d574473bb5f1259c41a96af6",
       "version_major": 2,
       "version_minor": 0
      },
      "text/plain": [
       "BackLeft:   0%|          | 0/50 [00:00<?, ?it/s]"
      ]
     },
     "metadata": {},
     "output_type": "display_data"
    },
    {
     "data": {
      "application/vnd.jupyter.widget-view+json": {
       "model_id": "742e916a0c3243db942ab25ffb0b07df",
       "version_major": 2,
       "version_minor": 0
      },
      "text/plain": [
       "BackRight:   0%|          | 0/50 [00:00<?, ?it/s]"
      ]
     },
     "metadata": {},
     "output_type": "display_data"
    },
    {
     "data": {
      "application/vnd.jupyter.widget-view+json": {
       "model_id": "74c2c178ef404d77a2635b8fd7476f5d",
       "version_major": 2,
       "version_minor": 0
      },
      "text/plain": [
       "Bottom:   0%|          | 0/50 [00:00<?, ?it/s]"
      ]
     },
     "metadata": {},
     "output_type": "display_data"
    },
    {
     "data": {
      "application/vnd.jupyter.widget-view+json": {
       "model_id": "8a2cd2e0cba147648955795c4ee67123",
       "version_major": 2,
       "version_minor": 0
      },
      "text/plain": [
       "FrontLeft:   0%|          | 0/50 [00:00<?, ?it/s]"
      ]
     },
     "metadata": {},
     "output_type": "display_data"
    },
    {
     "data": {
      "application/vnd.jupyter.widget-view+json": {
       "model_id": "e129b296875e4e01ab17892193bc7257",
       "version_major": 2,
       "version_minor": 0
      },
      "text/plain": [
       "FrontRight:   0%|          | 0/50 [00:00<?, ?it/s]"
      ]
     },
     "metadata": {},
     "output_type": "display_data"
    },
    {
     "data": {
      "application/vnd.jupyter.widget-view+json": {
       "model_id": "8dfd394be7cc449b980eba62cf409ed8",
       "version_major": 2,
       "version_minor": 0
      },
      "text/plain": [
       "Top:   0%|          | 0/50 [00:00<?, ?it/s]"
      ]
     },
     "metadata": {},
     "output_type": "display_data"
    },
    {
     "data": {
      "application/vnd.jupyter.widget-view+json": {
       "model_id": "",
       "version_major": 2,
       "version_minor": 0
      },
      "text/plain": [
       "copying images from 23-10-25-NUB-37956:   0%|          | 0/6 [00:00<?, ?it/s]"
      ]
     },
     "metadata": {},
     "output_type": "display_data"
    },
    {
     "data": {
      "application/vnd.jupyter.widget-view+json": {
       "model_id": "ad4ae9d1192147cd8177ce651d6e2dc9",
       "version_major": 2,
       "version_minor": 0
      },
      "text/plain": [
       "BackLeft:   0%|          | 0/50 [00:00<?, ?it/s]"
      ]
     },
     "metadata": {},
     "output_type": "display_data"
    },
    {
     "data": {
      "application/vnd.jupyter.widget-view+json": {
       "model_id": "ad3ca08741fa41b0b1f2ac6cefc67ec3",
       "version_major": 2,
       "version_minor": 0
      },
      "text/plain": [
       "BackRight:   0%|          | 0/50 [00:00<?, ?it/s]"
      ]
     },
     "metadata": {},
     "output_type": "display_data"
    },
    {
     "data": {
      "application/vnd.jupyter.widget-view+json": {
       "model_id": "333edd17e1544688b3f4da3e24db7bcf",
       "version_major": 2,
       "version_minor": 0
      },
      "text/plain": [
       "Bottom:   0%|          | 0/50 [00:00<?, ?it/s]"
      ]
     },
     "metadata": {},
     "output_type": "display_data"
    },
    {
     "data": {
      "application/vnd.jupyter.widget-view+json": {
       "model_id": "ba9ce8f9f69d4a1f9dc470ce15dcbe5a",
       "version_major": 2,
       "version_minor": 0
      },
      "text/plain": [
       "FrontLeft:   0%|          | 0/50 [00:00<?, ?it/s]"
      ]
     },
     "metadata": {},
     "output_type": "display_data"
    },
    {
     "data": {
      "application/vnd.jupyter.widget-view+json": {
       "model_id": "906a742466844847be792cafc50cf89d",
       "version_major": 2,
       "version_minor": 0
      },
      "text/plain": [
       "FrontRight:   0%|          | 0/50 [00:00<?, ?it/s]"
      ]
     },
     "metadata": {},
     "output_type": "display_data"
    },
    {
     "data": {
      "application/vnd.jupyter.widget-view+json": {
       "model_id": "6b86dbc393a941cb94cdc295e4f3a9d1",
       "version_major": 2,
       "version_minor": 0
      },
      "text/plain": [
       "Top:   0%|          | 0/50 [00:00<?, ?it/s]"
      ]
     },
     "metadata": {},
     "output_type": "display_data"
    },
    {
     "data": {
      "application/vnd.jupyter.widget-view+json": {
       "model_id": "",
       "version_major": 2,
       "version_minor": 0
      },
      "text/plain": [
       "copying images from 23-10-25-bk-38129:   0%|          | 0/6 [00:00<?, ?it/s]"
      ]
     },
     "metadata": {},
     "output_type": "display_data"
    },
    {
     "data": {
      "application/vnd.jupyter.widget-view+json": {
       "model_id": "e6e890d7e56b434b86568c49f8100778",
       "version_major": 2,
       "version_minor": 0
      },
      "text/plain": [
       "BackLeft:   0%|          | 0/50 [00:00<?, ?it/s]"
      ]
     },
     "metadata": {},
     "output_type": "display_data"
    },
    {
     "data": {
      "application/vnd.jupyter.widget-view+json": {
       "model_id": "ae9600cc0eff43bfa0f6a11d47df4edf",
       "version_major": 2,
       "version_minor": 0
      },
      "text/plain": [
       "BackRight:   0%|          | 0/50 [00:00<?, ?it/s]"
      ]
     },
     "metadata": {},
     "output_type": "display_data"
    },
    {
     "data": {
      "application/vnd.jupyter.widget-view+json": {
       "model_id": "c2f4552b845646ab8044498b3186aa6e",
       "version_major": 2,
       "version_minor": 0
      },
      "text/plain": [
       "Bottom:   0%|          | 0/50 [00:00<?, ?it/s]"
      ]
     },
     "metadata": {},
     "output_type": "display_data"
    },
    {
     "data": {
      "application/vnd.jupyter.widget-view+json": {
       "model_id": "18c1acf0f4ad49f0b3c42b0184729f28",
       "version_major": 2,
       "version_minor": 0
      },
      "text/plain": [
       "FrontLeft:   0%|          | 0/50 [00:00<?, ?it/s]"
      ]
     },
     "metadata": {},
     "output_type": "display_data"
    },
    {
     "data": {
      "application/vnd.jupyter.widget-view+json": {
       "model_id": "597fa9d5c8b84a11b0ce9ce6272419cc",
       "version_major": 2,
       "version_minor": 0
      },
      "text/plain": [
       "FrontRight:   0%|          | 0/50 [00:00<?, ?it/s]"
      ]
     },
     "metadata": {},
     "output_type": "display_data"
    },
    {
     "data": {
      "application/vnd.jupyter.widget-view+json": {
       "model_id": "63859bae45f64c638b26d9976afafb79",
       "version_major": 2,
       "version_minor": 0
      },
      "text/plain": [
       "Top:   0%|          | 0/50 [00:00<?, ?it/s]"
      ]
     },
     "metadata": {},
     "output_type": "display_data"
    },
    {
     "data": {
      "application/vnd.jupyter.widget-view+json": {
       "model_id": "",
       "version_major": 2,
       "version_minor": 0
      },
      "text/plain": [
       "copying images from 23-10-25-BW-38102:   0%|          | 0/6 [00:00<?, ?it/s]"
      ]
     },
     "metadata": {},
     "output_type": "display_data"
    },
    {
     "data": {
      "application/vnd.jupyter.widget-view+json": {
       "model_id": "cdf2e7f6aaea4919819e2e569bc19290",
       "version_major": 2,
       "version_minor": 0
      },
      "text/plain": [
       "BackLeft:   0%|          | 0/50 [00:00<?, ?it/s]"
      ]
     },
     "metadata": {},
     "output_type": "display_data"
    },
    {
     "data": {
      "application/vnd.jupyter.widget-view+json": {
       "model_id": "95afd8c8f03b48e182d47cb291d4d25a",
       "version_major": 2,
       "version_minor": 0
      },
      "text/plain": [
       "BackRight:   0%|          | 0/50 [00:00<?, ?it/s]"
      ]
     },
     "metadata": {},
     "output_type": "display_data"
    },
    {
     "data": {
      "application/vnd.jupyter.widget-view+json": {
       "model_id": "0596013bd74b409c987d63088ab05c50",
       "version_major": 2,
       "version_minor": 0
      },
      "text/plain": [
       "Bottom:   0%|          | 0/50 [00:00<?, ?it/s]"
      ]
     },
     "metadata": {},
     "output_type": "display_data"
    },
    {
     "data": {
      "application/vnd.jupyter.widget-view+json": {
       "model_id": "e3715c20e5154196af1314a108f63b3a",
       "version_major": 2,
       "version_minor": 0
      },
      "text/plain": [
       "FrontLeft:   0%|          | 0/50 [00:00<?, ?it/s]"
      ]
     },
     "metadata": {},
     "output_type": "display_data"
    },
    {
     "data": {
      "application/vnd.jupyter.widget-view+json": {
       "model_id": "e992359f956d4f85b4e0c7e92ec0d895",
       "version_major": 2,
       "version_minor": 0
      },
      "text/plain": [
       "FrontRight:   0%|          | 0/50 [00:00<?, ?it/s]"
      ]
     },
     "metadata": {},
     "output_type": "display_data"
    },
    {
     "data": {
      "application/vnd.jupyter.widget-view+json": {
       "model_id": "b0f322574187403ba47caf60051ead6c",
       "version_major": 2,
       "version_minor": 0
      },
      "text/plain": [
       "Top:   0%|          | 0/50 [00:00<?, ?it/s]"
      ]
     },
     "metadata": {},
     "output_type": "display_data"
    },
    {
     "data": {
      "application/vnd.jupyter.widget-view+json": {
       "model_id": "",
       "version_major": 2,
       "version_minor": 0
      },
      "text/plain": [
       "copying images from 23-10-25-NUB-37952:   0%|          | 0/6 [00:00<?, ?it/s]"
      ]
     },
     "metadata": {},
     "output_type": "display_data"
    },
    {
     "data": {
      "application/vnd.jupyter.widget-view+json": {
       "model_id": "5cf118124a94432aa25af6968901af42",
       "version_major": 2,
       "version_minor": 0
      },
      "text/plain": [
       "BackLeft:   0%|          | 0/50 [00:00<?, ?it/s]"
      ]
     },
     "metadata": {},
     "output_type": "display_data"
    },
    {
     "data": {
      "application/vnd.jupyter.widget-view+json": {
       "model_id": "76edf2f3371f47ad80397ab1796da38b",
       "version_major": 2,
       "version_minor": 0
      },
      "text/plain": [
       "BackRight:   0%|          | 0/50 [00:00<?, ?it/s]"
      ]
     },
     "metadata": {},
     "output_type": "display_data"
    },
    {
     "data": {
      "application/vnd.jupyter.widget-view+json": {
       "model_id": "0a89e262c07245d58031cd37eaa3b367",
       "version_major": 2,
       "version_minor": 0
      },
      "text/plain": [
       "Bottom:   0%|          | 0/50 [00:00<?, ?it/s]"
      ]
     },
     "metadata": {},
     "output_type": "display_data"
    },
    {
     "data": {
      "application/vnd.jupyter.widget-view+json": {
       "model_id": "43bac6f0ac3f4315a5740b185fc836e0",
       "version_major": 2,
       "version_minor": 0
      },
      "text/plain": [
       "FrontLeft:   0%|          | 0/50 [00:00<?, ?it/s]"
      ]
     },
     "metadata": {},
     "output_type": "display_data"
    },
    {
     "data": {
      "application/vnd.jupyter.widget-view+json": {
       "model_id": "d0d4ab0da945431da9123cebb8f4006e",
       "version_major": 2,
       "version_minor": 0
      },
      "text/plain": [
       "FrontRight:   0%|          | 0/50 [00:00<?, ?it/s]"
      ]
     },
     "metadata": {},
     "output_type": "display_data"
    },
    {
     "data": {
      "application/vnd.jupyter.widget-view+json": {
       "model_id": "0f3ebf9effc841d28f3ea313d3d87e2a",
       "version_major": 2,
       "version_minor": 0
      },
      "text/plain": [
       "Top:   0%|          | 0/50 [00:00<?, ?it/s]"
      ]
     },
     "metadata": {},
     "output_type": "display_data"
    },
    {
     "data": {
      "application/vnd.jupyter.widget-view+json": {
       "model_id": "",
       "version_major": 2,
       "version_minor": 0
      },
      "text/plain": [
       "copying images from 23-10-25-SW-38158:   0%|          | 0/6 [00:00<?, ?it/s]"
      ]
     },
     "metadata": {},
     "output_type": "display_data"
    },
    {
     "data": {
      "application/vnd.jupyter.widget-view+json": {
       "model_id": "92ac45039f4747359958ea4617ad3c3c",
       "version_major": 2,
       "version_minor": 0
      },
      "text/plain": [
       "BackLeft:   0%|          | 0/50 [00:00<?, ?it/s]"
      ]
     },
     "metadata": {},
     "output_type": "display_data"
    },
    {
     "data": {
      "application/vnd.jupyter.widget-view+json": {
       "model_id": "498a13e351634ba18f505236f0ccbd0c",
       "version_major": 2,
       "version_minor": 0
      },
      "text/plain": [
       "BackRight:   0%|          | 0/50 [00:00<?, ?it/s]"
      ]
     },
     "metadata": {},
     "output_type": "display_data"
    },
    {
     "data": {
      "application/vnd.jupyter.widget-view+json": {
       "model_id": "3b14e592b1c04418857d41a247f645a8",
       "version_major": 2,
       "version_minor": 0
      },
      "text/plain": [
       "Bottom:   0%|          | 0/50 [00:00<?, ?it/s]"
      ]
     },
     "metadata": {},
     "output_type": "display_data"
    },
    {
     "data": {
      "application/vnd.jupyter.widget-view+json": {
       "model_id": "0d9a9e75c17349e981b7c72e5250de1a",
       "version_major": 2,
       "version_minor": 0
      },
      "text/plain": [
       "FrontLeft:   0%|          | 0/50 [00:00<?, ?it/s]"
      ]
     },
     "metadata": {},
     "output_type": "display_data"
    },
    {
     "data": {
      "application/vnd.jupyter.widget-view+json": {
       "model_id": "03517bb0813e4279a274da1a46cfd452",
       "version_major": 2,
       "version_minor": 0
      },
      "text/plain": [
       "FrontRight:   0%|          | 0/50 [00:00<?, ?it/s]"
      ]
     },
     "metadata": {},
     "output_type": "display_data"
    },
    {
     "data": {
      "application/vnd.jupyter.widget-view+json": {
       "model_id": "ff05980800d149eeb3de208f401a3d3e",
       "version_major": 2,
       "version_minor": 0
      },
      "text/plain": [
       "Top:   0%|          | 0/50 [00:00<?, ?it/s]"
      ]
     },
     "metadata": {},
     "output_type": "display_data"
    },
    {
     "data": {
      "application/vnd.jupyter.widget-view+json": {
       "model_id": "",
       "version_major": 2,
       "version_minor": 0
      },
      "text/plain": [
       "copying images from 23-10-25-bk-38127:   0%|          | 0/6 [00:00<?, ?it/s]"
      ]
     },
     "metadata": {},
     "output_type": "display_data"
    },
    {
     "data": {
      "application/vnd.jupyter.widget-view+json": {
       "model_id": "70ddedd6be5a4ab9b1a50ac885871357",
       "version_major": 2,
       "version_minor": 0
      },
      "text/plain": [
       "BackLeft:   0%|          | 0/50 [00:00<?, ?it/s]"
      ]
     },
     "metadata": {},
     "output_type": "display_data"
    },
    {
     "data": {
      "application/vnd.jupyter.widget-view+json": {
       "model_id": "0683a54fdbb741d49ebdb12e6d77d64c",
       "version_major": 2,
       "version_minor": 0
      },
      "text/plain": [
       "BackRight:   0%|          | 0/50 [00:00<?, ?it/s]"
      ]
     },
     "metadata": {},
     "output_type": "display_data"
    },
    {
     "data": {
      "application/vnd.jupyter.widget-view+json": {
       "model_id": "75c41a0cd26144888932b4303ff2650e",
       "version_major": 2,
       "version_minor": 0
      },
      "text/plain": [
       "Bottom:   0%|          | 0/50 [00:00<?, ?it/s]"
      ]
     },
     "metadata": {},
     "output_type": "display_data"
    },
    {
     "data": {
      "application/vnd.jupyter.widget-view+json": {
       "model_id": "a9612aa779334085971de1dcbf3447e1",
       "version_major": 2,
       "version_minor": 0
      },
      "text/plain": [
       "FrontLeft:   0%|          | 0/50 [00:00<?, ?it/s]"
      ]
     },
     "metadata": {},
     "output_type": "display_data"
    },
    {
     "data": {
      "application/vnd.jupyter.widget-view+json": {
       "model_id": "a138f7392b184198b79c719f82fb4e48",
       "version_major": 2,
       "version_minor": 0
      },
      "text/plain": [
       "FrontRight:   0%|          | 0/50 [00:00<?, ?it/s]"
      ]
     },
     "metadata": {},
     "output_type": "display_data"
    },
    {
     "data": {
      "application/vnd.jupyter.widget-view+json": {
       "model_id": "730c3000efb249bfafe170bc8614ea76",
       "version_major": 2,
       "version_minor": 0
      },
      "text/plain": [
       "Top:   0%|          | 0/50 [00:00<?, ?it/s]"
      ]
     },
     "metadata": {},
     "output_type": "display_data"
    },
    {
     "data": {
      "application/vnd.jupyter.widget-view+json": {
       "model_id": "",
       "version_major": 2,
       "version_minor": 0
      },
      "text/plain": [
       "copying images from 23-10-25-SW-28247:   0%|          | 0/6 [00:00<?, ?it/s]"
      ]
     },
     "metadata": {},
     "output_type": "display_data"
    },
    {
     "data": {
      "application/vnd.jupyter.widget-view+json": {
       "model_id": "7db920dd4903423ab38c3b6c28df0bcd",
       "version_major": 2,
       "version_minor": 0
      },
      "text/plain": [
       "BackLeft:   0%|          | 0/50 [00:00<?, ?it/s]"
      ]
     },
     "metadata": {},
     "output_type": "display_data"
    },
    {
     "data": {
      "application/vnd.jupyter.widget-view+json": {
       "model_id": "edb41f6cfd584e3bb6216f55e8ec079a",
       "version_major": 2,
       "version_minor": 0
      },
      "text/plain": [
       "BackRight:   0%|          | 0/50 [00:00<?, ?it/s]"
      ]
     },
     "metadata": {},
     "output_type": "display_data"
    },
    {
     "data": {
      "application/vnd.jupyter.widget-view+json": {
       "model_id": "0f1e7b9b7f304c358eb2f778b1762bd4",
       "version_major": 2,
       "version_minor": 0
      },
      "text/plain": [
       "Bottom:   0%|          | 0/50 [00:00<?, ?it/s]"
      ]
     },
     "metadata": {},
     "output_type": "display_data"
    },
    {
     "data": {
      "application/vnd.jupyter.widget-view+json": {
       "model_id": "84e7ed89f28e41048dfbb1ce998c2253",
       "version_major": 2,
       "version_minor": 0
      },
      "text/plain": [
       "FrontLeft:   0%|          | 0/50 [00:00<?, ?it/s]"
      ]
     },
     "metadata": {},
     "output_type": "display_data"
    },
    {
     "data": {
      "application/vnd.jupyter.widget-view+json": {
       "model_id": "59b6d1ee80574a199a391758f2c017ef",
       "version_major": 2,
       "version_minor": 0
      },
      "text/plain": [
       "FrontRight:   0%|          | 0/50 [00:00<?, ?it/s]"
      ]
     },
     "metadata": {},
     "output_type": "display_data"
    },
    {
     "data": {
      "application/vnd.jupyter.widget-view+json": {
       "model_id": "6b6d3fb932a049aa8efbc91d2cdc3f5a",
       "version_major": 2,
       "version_minor": 0
      },
      "text/plain": [
       "Top:   0%|          | 0/50 [00:00<?, ?it/s]"
      ]
     },
     "metadata": {},
     "output_type": "display_data"
    },
    {
     "data": {
      "application/vnd.jupyter.widget-view+json": {
       "model_id": "",
       "version_major": 2,
       "version_minor": 0
      },
      "text/plain": [
       "copying images from 23-10-25-SM2-37837:   0%|          | 0/6 [00:00<?, ?it/s]"
      ]
     },
     "metadata": {},
     "output_type": "display_data"
    },
    {
     "data": {
      "application/vnd.jupyter.widget-view+json": {
       "model_id": "caa852afc86a44f59f4cb8ee9cb95563",
       "version_major": 2,
       "version_minor": 0
      },
      "text/plain": [
       "BackLeft:   0%|          | 0/50 [00:00<?, ?it/s]"
      ]
     },
     "metadata": {},
     "output_type": "display_data"
    },
    {
     "data": {
      "application/vnd.jupyter.widget-view+json": {
       "model_id": "938516a14d504867b0a0c9101cbbac94",
       "version_major": 2,
       "version_minor": 0
      },
      "text/plain": [
       "BackRight:   0%|          | 0/50 [00:00<?, ?it/s]"
      ]
     },
     "metadata": {},
     "output_type": "display_data"
    },
    {
     "data": {
      "application/vnd.jupyter.widget-view+json": {
       "model_id": "3b4d60ca24374868a846d3d1bfc63670",
       "version_major": 2,
       "version_minor": 0
      },
      "text/plain": [
       "Bottom:   0%|          | 0/50 [00:00<?, ?it/s]"
      ]
     },
     "metadata": {},
     "output_type": "display_data"
    },
    {
     "data": {
      "application/vnd.jupyter.widget-view+json": {
       "model_id": "515bacbd84af4ba7a296ea28fdc6f74c",
       "version_major": 2,
       "version_minor": 0
      },
      "text/plain": [
       "FrontLeft:   0%|          | 0/50 [00:00<?, ?it/s]"
      ]
     },
     "metadata": {},
     "output_type": "display_data"
    },
    {
     "data": {
      "application/vnd.jupyter.widget-view+json": {
       "model_id": "e520fb18e4434ad18c36b4a3c549c68f",
       "version_major": 2,
       "version_minor": 0
      },
      "text/plain": [
       "FrontRight:   0%|          | 0/50 [00:00<?, ?it/s]"
      ]
     },
     "metadata": {},
     "output_type": "display_data"
    },
    {
     "data": {
      "application/vnd.jupyter.widget-view+json": {
       "model_id": "f4c85cca7b5c4cfd838f6c94d997199a",
       "version_major": 2,
       "version_minor": 0
      },
      "text/plain": [
       "Top:   0%|          | 0/50 [00:00<?, ?it/s]"
      ]
     },
     "metadata": {},
     "output_type": "display_data"
    },
    {
     "data": {
      "application/vnd.jupyter.widget-view+json": {
       "model_id": "",
       "version_major": 2,
       "version_minor": 0
      },
      "text/plain": [
       "copying images from 20230904_CALEB_JONAH:   0%|          | 0/18 [00:00<?, ?it/s]"
      ]
     },
     "metadata": {},
     "output_type": "display_data"
    },
    {
     "data": {
      "application/vnd.jupyter.widget-view+json": {
       "model_id": "7358e575ff134a619a79959a5a10ab1c",
       "version_major": 2,
       "version_minor": 0
      },
      "text/plain": [
       "bottom:   0%|          | 0/250 [00:00<?, ?it/s]"
      ]
     },
     "metadata": {},
     "output_type": "display_data"
    },
    {
     "data": {
      "application/vnd.jupyter.widget-view+json": {
       "model_id": "f4ba3f7b465b4164aacbd0813544cb27",
       "version_major": 2,
       "version_minor": 0
      },
      "text/plain": [
       "side1:   0%|          | 0/250 [00:00<?, ?it/s]"
      ]
     },
     "metadata": {},
     "output_type": "display_data"
    },
    {
     "data": {
      "application/vnd.jupyter.widget-view+json": {
       "model_id": "6d17d4f4edb64bcd84d6603161a001f4",
       "version_major": 2,
       "version_minor": 0
      },
      "text/plain": [
       "side2:   0%|          | 0/250 [00:00<?, ?it/s]"
      ]
     },
     "metadata": {},
     "output_type": "display_data"
    },
    {
     "data": {
      "application/vnd.jupyter.widget-view+json": {
       "model_id": "359d99a920844d599db18ed019f7eb61",
       "version_major": 2,
       "version_minor": 0
      },
      "text/plain": [
       "side3:   0%|          | 0/250 [00:00<?, ?it/s]"
      ]
     },
     "metadata": {},
     "output_type": "display_data"
    },
    {
     "data": {
      "application/vnd.jupyter.widget-view+json": {
       "model_id": "a75b2f4602d94599bd86360fb884d80a",
       "version_major": 2,
       "version_minor": 0
      },
      "text/plain": [
       "side4:   0%|          | 0/250 [00:00<?, ?it/s]"
      ]
     },
     "metadata": {},
     "output_type": "display_data"
    },
    {
     "data": {
      "application/vnd.jupyter.widget-view+json": {
       "model_id": "bbe2c95c2d584e37a4cce01600fa1b05",
       "version_major": 2,
       "version_minor": 0
      },
      "text/plain": [
       "top:   0%|          | 0/250 [00:00<?, ?it/s]"
      ]
     },
     "metadata": {},
     "output_type": "display_data"
    },
    {
     "data": {
      "application/vnd.jupyter.widget-view+json": {
       "model_id": "16f4a7813a424b11864d476fea3e05db",
       "version_major": 2,
       "version_minor": 0
      },
      "text/plain": [
       "bottom:   0%|          | 0/250 [00:00<?, ?it/s]"
      ]
     },
     "metadata": {},
     "output_type": "display_data"
    },
    {
     "data": {
      "application/vnd.jupyter.widget-view+json": {
       "model_id": "8cf14e307b7d4bb1a2c21cc24eb3808e",
       "version_major": 2,
       "version_minor": 0
      },
      "text/plain": [
       "side1:   0%|          | 0/250 [00:00<?, ?it/s]"
      ]
     },
     "metadata": {},
     "output_type": "display_data"
    },
    {
     "data": {
      "application/vnd.jupyter.widget-view+json": {
       "model_id": "356b513a68324933944c9f2de455c746",
       "version_major": 2,
       "version_minor": 0
      },
      "text/plain": [
       "side2:   0%|          | 0/250 [00:00<?, ?it/s]"
      ]
     },
     "metadata": {},
     "output_type": "display_data"
    },
    {
     "data": {
      "application/vnd.jupyter.widget-view+json": {
       "model_id": "eac2274764a647c5a7f6d9b7fb1c51c8",
       "version_major": 2,
       "version_minor": 0
      },
      "text/plain": [
       "side3:   0%|          | 0/250 [00:00<?, ?it/s]"
      ]
     },
     "metadata": {},
     "output_type": "display_data"
    },
    {
     "data": {
      "application/vnd.jupyter.widget-view+json": {
       "model_id": "dce3d433d1444efea89b8699b4ee59dc",
       "version_major": 2,
       "version_minor": 0
      },
      "text/plain": [
       "side4:   0%|          | 0/250 [00:00<?, ?it/s]"
      ]
     },
     "metadata": {},
     "output_type": "display_data"
    },
    {
     "data": {
      "application/vnd.jupyter.widget-view+json": {
       "model_id": "56cff3bb4aea4875b9027b178d7c4e0b",
       "version_major": 2,
       "version_minor": 0
      },
      "text/plain": [
       "top:   0%|          | 0/250 [00:00<?, ?it/s]"
      ]
     },
     "metadata": {},
     "output_type": "display_data"
    },
    {
     "data": {
      "application/vnd.jupyter.widget-view+json": {
       "model_id": "794f3604904f48ddb311b77571a86778",
       "version_major": 2,
       "version_minor": 0
      },
      "text/plain": [
       "bottom:   0%|          | 0/250 [00:00<?, ?it/s]"
      ]
     },
     "metadata": {},
     "output_type": "display_data"
    },
    {
     "data": {
      "application/vnd.jupyter.widget-view+json": {
       "model_id": "42bcd81a69b549bc9fb8ff83992bbf63",
       "version_major": 2,
       "version_minor": 0
      },
      "text/plain": [
       "side1:   0%|          | 0/250 [00:00<?, ?it/s]"
      ]
     },
     "metadata": {},
     "output_type": "display_data"
    },
    {
     "data": {
      "application/vnd.jupyter.widget-view+json": {
       "model_id": "a7b5f02540974a7b95716dbb4c0938b9",
       "version_major": 2,
       "version_minor": 0
      },
      "text/plain": [
       "side2:   0%|          | 0/250 [00:00<?, ?it/s]"
      ]
     },
     "metadata": {},
     "output_type": "display_data"
    },
    {
     "data": {
      "application/vnd.jupyter.widget-view+json": {
       "model_id": "806d630548584134a53b6e8eddb22f03",
       "version_major": 2,
       "version_minor": 0
      },
      "text/plain": [
       "side3:   0%|          | 0/250 [00:00<?, ?it/s]"
      ]
     },
     "metadata": {},
     "output_type": "display_data"
    },
    {
     "data": {
      "application/vnd.jupyter.widget-view+json": {
       "model_id": "528b5be1164249a991fb1a6d6201f29f",
       "version_major": 2,
       "version_minor": 0
      },
      "text/plain": [
       "side4:   0%|          | 0/250 [00:00<?, ?it/s]"
      ]
     },
     "metadata": {},
     "output_type": "display_data"
    },
    {
     "data": {
      "application/vnd.jupyter.widget-view+json": {
       "model_id": "99f42b9394e44a18a871d9d7cde2588e",
       "version_major": 2,
       "version_minor": 0
      },
      "text/plain": [
       "top:   0%|          | 0/250 [00:00<?, ?it/s]"
      ]
     },
     "metadata": {},
     "output_type": "display_data"
    },
    {
     "data": {
      "application/vnd.jupyter.widget-view+json": {
       "model_id": "",
       "version_major": 2,
       "version_minor": 0
      },
      "text/plain": [
       "copying images from 240423-npx_apollo-30-frames:   0%|          | 0/6 [00:00<?, ?it/s]"
      ]
     },
     "metadata": {},
     "output_type": "display_data"
    },
    {
     "data": {
      "application/vnd.jupyter.widget-view+json": {
       "model_id": "14ac146d9d0d4fadb0452c5704306fe8",
       "version_major": 2,
       "version_minor": 0
      },
      "text/plain": [
       "BackBottom:   0%|          | 0/30 [00:00<?, ?it/s]"
      ]
     },
     "metadata": {},
     "output_type": "display_data"
    },
    {
     "data": {
      "application/vnd.jupyter.widget-view+json": {
       "model_id": "767f778295b0493fbf9814ba47b2f136",
       "version_major": 2,
       "version_minor": 0
      },
      "text/plain": [
       "BackLeft:   0%|          | 0/30 [00:00<?, ?it/s]"
      ]
     },
     "metadata": {},
     "output_type": "display_data"
    },
    {
     "data": {
      "application/vnd.jupyter.widget-view+json": {
       "model_id": "4c66f477ea014591ac5187d00677bc76",
       "version_major": 2,
       "version_minor": 0
      },
      "text/plain": [
       "BackRight:   0%|          | 0/30 [00:00<?, ?it/s]"
      ]
     },
     "metadata": {},
     "output_type": "display_data"
    },
    {
     "data": {
      "application/vnd.jupyter.widget-view+json": {
       "model_id": "d86cfa0f5aa34a39bb2f11d463b3df33",
       "version_major": 2,
       "version_minor": 0
      },
      "text/plain": [
       "FrontBottom:   0%|          | 0/30 [00:00<?, ?it/s]"
      ]
     },
     "metadata": {},
     "output_type": "display_data"
    },
    {
     "data": {
      "application/vnd.jupyter.widget-view+json": {
       "model_id": "a26e9d5e2cd7486b86e91c8260550126",
       "version_major": 2,
       "version_minor": 0
      },
      "text/plain": [
       "FrontLeft:   0%|          | 0/30 [00:00<?, ?it/s]"
      ]
     },
     "metadata": {},
     "output_type": "display_data"
    },
    {
     "data": {
      "application/vnd.jupyter.widget-view+json": {
       "model_id": "bbab708e09bc4cc68703b123d148d47b",
       "version_major": 2,
       "version_minor": 0
      },
      "text/plain": [
       "FrontRight:   0%|          | 0/30 [00:00<?, ?it/s]"
      ]
     },
     "metadata": {},
     "output_type": "display_data"
    },
    {
     "data": {
      "application/vnd.jupyter.widget-view+json": {
       "model_id": "",
       "version_major": 2,
       "version_minor": 0
      },
      "text/plain": [
       "copying images from 240423-npx_apollo-20-frames:   0%|          | 0/6 [00:00<?, ?it/s]"
      ]
     },
     "metadata": {},
     "output_type": "display_data"
    },
    {
     "data": {
      "application/vnd.jupyter.widget-view+json": {
       "model_id": "5979c551e0484805b1ce648b7f0d2723",
       "version_major": 2,
       "version_minor": 0
      },
      "text/plain": [
       "BackBottom:   0%|          | 0/20 [00:00<?, ?it/s]"
      ]
     },
     "metadata": {},
     "output_type": "display_data"
    },
    {
     "data": {
      "application/vnd.jupyter.widget-view+json": {
       "model_id": "200ea5782ac449a1af03d4e18c88be37",
       "version_major": 2,
       "version_minor": 0
      },
      "text/plain": [
       "BackLeft:   0%|          | 0/20 [00:00<?, ?it/s]"
      ]
     },
     "metadata": {},
     "output_type": "display_data"
    },
    {
     "data": {
      "application/vnd.jupyter.widget-view+json": {
       "model_id": "f959c3f7d34e4dfeb36ab346d354dd80",
       "version_major": 2,
       "version_minor": 0
      },
      "text/plain": [
       "BackRight:   0%|          | 0/20 [00:00<?, ?it/s]"
      ]
     },
     "metadata": {},
     "output_type": "display_data"
    },
    {
     "data": {
      "application/vnd.jupyter.widget-view+json": {
       "model_id": "5d829a9c58744ac58a69d6192ec936f0",
       "version_major": 2,
       "version_minor": 0
      },
      "text/plain": [
       "FrontBottom:   0%|          | 0/20 [00:00<?, ?it/s]"
      ]
     },
     "metadata": {},
     "output_type": "display_data"
    },
    {
     "data": {
      "application/vnd.jupyter.widget-view+json": {
       "model_id": "8cfa54ea8d704dc8aea4b5c0e9d5e6d9",
       "version_major": 2,
       "version_minor": 0
      },
      "text/plain": [
       "FrontLeft:   0%|          | 0/20 [00:00<?, ?it/s]"
      ]
     },
     "metadata": {},
     "output_type": "display_data"
    },
    {
     "data": {
      "application/vnd.jupyter.widget-view+json": {
       "model_id": "56182a92f8cc442ab683d7a2e294d6aa",
       "version_major": 2,
       "version_minor": 0
      },
      "text/plain": [
       "FrontRight:   0%|          | 0/20 [00:00<?, ?it/s]"
      ]
     },
     "metadata": {},
     "output_type": "display_data"
    },
    {
     "data": {
      "application/vnd.jupyter.widget-view+json": {
       "model_id": "",
       "version_major": 2,
       "version_minor": 0
      },
      "text/plain": [
       "copying images from 23-04-27-neural-recording:   0%|          | 0/50 [00:00<?, ?it/s]"
      ]
     },
     "metadata": {},
     "output_type": "display_data"
    },
    {
     "data": {
      "application/vnd.jupyter.widget-view+json": {
       "model_id": "5915bbe62dfe4f81bb86432d75b34ee5",
       "version_major": 2,
       "version_minor": 0
      },
      "text/plain": [
       "BackLeft:   0%|          | 0/11 [00:00<?, ?it/s]"
      ]
     },
     "metadata": {},
     "output_type": "display_data"
    },
    {
     "data": {
      "application/vnd.jupyter.widget-view+json": {
       "model_id": "02f0fc6ee37a4af196e88842b8bbe31f",
       "version_major": 2,
       "version_minor": 0
      },
      "text/plain": [
       "BackRight:   0%|          | 0/11 [00:00<?, ?it/s]"
      ]
     },
     "metadata": {},
     "output_type": "display_data"
    },
    {
     "data": {
      "application/vnd.jupyter.widget-view+json": {
       "model_id": "66f31d77f4e94131a32b2c79746e713d",
       "version_major": 2,
       "version_minor": 0
      },
      "text/plain": [
       "FrontLeft:   0%|          | 0/11 [00:00<?, ?it/s]"
      ]
     },
     "metadata": {},
     "output_type": "display_data"
    },
    {
     "data": {
      "application/vnd.jupyter.widget-view+json": {
       "model_id": "d516f16118234cc5affc44f587bd6d36",
       "version_major": 2,
       "version_minor": 0
      },
      "text/plain": [
       "FrontRight:   0%|          | 0/11 [00:00<?, ?it/s]"
      ]
     },
     "metadata": {},
     "output_type": "display_data"
    },
    {
     "data": {
      "application/vnd.jupyter.widget-view+json": {
       "model_id": "c1773a6aa0424dd4afa464f507fed399",
       "version_major": 2,
       "version_minor": 0
      },
      "text/plain": [
       "Top:   0%|          | 0/11 [00:00<?, ?it/s]"
      ]
     },
     "metadata": {},
     "output_type": "display_data"
    },
    {
     "data": {
      "application/vnd.jupyter.widget-view+json": {
       "model_id": "2e377bd0a60b470c8eb09af3de503de4",
       "version_major": 2,
       "version_minor": 0
      },
      "text/plain": [
       "BackLeft:   0%|          | 0/11 [00:00<?, ?it/s]"
      ]
     },
     "metadata": {},
     "output_type": "display_data"
    },
    {
     "data": {
      "application/vnd.jupyter.widget-view+json": {
       "model_id": "c68b3769a3014093977ca556df21e579",
       "version_major": 2,
       "version_minor": 0
      },
      "text/plain": [
       "BackRight:   0%|          | 0/11 [00:00<?, ?it/s]"
      ]
     },
     "metadata": {},
     "output_type": "display_data"
    },
    {
     "data": {
      "application/vnd.jupyter.widget-view+json": {
       "model_id": "761d24923ad647ee80ddab33964a4859",
       "version_major": 2,
       "version_minor": 0
      },
      "text/plain": [
       "FrontLeft:   0%|          | 0/11 [00:00<?, ?it/s]"
      ]
     },
     "metadata": {},
     "output_type": "display_data"
    },
    {
     "data": {
      "application/vnd.jupyter.widget-view+json": {
       "model_id": "d4d42c48881347a09eec4a2eef84255b",
       "version_major": 2,
       "version_minor": 0
      },
      "text/plain": [
       "FrontRight:   0%|          | 0/11 [00:00<?, ?it/s]"
      ]
     },
     "metadata": {},
     "output_type": "display_data"
    },
    {
     "data": {
      "application/vnd.jupyter.widget-view+json": {
       "model_id": "10b5ee4384c341138350946b72e32f89",
       "version_major": 2,
       "version_minor": 0
      },
      "text/plain": [
       "Top:   0%|          | 0/11 [00:00<?, ?it/s]"
      ]
     },
     "metadata": {},
     "output_type": "display_data"
    },
    {
     "data": {
      "application/vnd.jupyter.widget-view+json": {
       "model_id": "317729e78e92469492d3a3547e5c1fd4",
       "version_major": 2,
       "version_minor": 0
      },
      "text/plain": [
       "BackLeft:   0%|          | 0/11 [00:00<?, ?it/s]"
      ]
     },
     "metadata": {},
     "output_type": "display_data"
    },
    {
     "data": {
      "application/vnd.jupyter.widget-view+json": {
       "model_id": "b4b6776298744ea48d6abf1fbb15c57d",
       "version_major": 2,
       "version_minor": 0
      },
      "text/plain": [
       "BackRight:   0%|          | 0/11 [00:00<?, ?it/s]"
      ]
     },
     "metadata": {},
     "output_type": "display_data"
    },
    {
     "data": {
      "application/vnd.jupyter.widget-view+json": {
       "model_id": "28b0167384c8469d909142fb7e1cb671",
       "version_major": 2,
       "version_minor": 0
      },
      "text/plain": [
       "FrontLeft:   0%|          | 0/11 [00:00<?, ?it/s]"
      ]
     },
     "metadata": {},
     "output_type": "display_data"
    },
    {
     "data": {
      "application/vnd.jupyter.widget-view+json": {
       "model_id": "b84f36d7f26540aab68c6770e9e7009f",
       "version_major": 2,
       "version_minor": 0
      },
      "text/plain": [
       "FrontRight:   0%|          | 0/11 [00:00<?, ?it/s]"
      ]
     },
     "metadata": {},
     "output_type": "display_data"
    },
    {
     "data": {
      "application/vnd.jupyter.widget-view+json": {
       "model_id": "4e9d798ffc8741cc82f03ba78b2c93d9",
       "version_major": 2,
       "version_minor": 0
      },
      "text/plain": [
       "Top:   0%|          | 0/11 [00:00<?, ?it/s]"
      ]
     },
     "metadata": {},
     "output_type": "display_data"
    },
    {
     "data": {
      "application/vnd.jupyter.widget-view+json": {
       "model_id": "14c2e5831c8f4de6b9accdb510cbb1c7",
       "version_major": 2,
       "version_minor": 0
      },
      "text/plain": [
       "BackLeft:   0%|          | 0/11 [00:00<?, ?it/s]"
      ]
     },
     "metadata": {},
     "output_type": "display_data"
    },
    {
     "data": {
      "application/vnd.jupyter.widget-view+json": {
       "model_id": "ae35838a1bab4c6f94972fbccc30d622",
       "version_major": 2,
       "version_minor": 0
      },
      "text/plain": [
       "BackRight:   0%|          | 0/11 [00:00<?, ?it/s]"
      ]
     },
     "metadata": {},
     "output_type": "display_data"
    },
    {
     "data": {
      "application/vnd.jupyter.widget-view+json": {
       "model_id": "8ffe7ab7cbd24eee83a29bc03772a1d6",
       "version_major": 2,
       "version_minor": 0
      },
      "text/plain": [
       "FrontLeft:   0%|          | 0/11 [00:00<?, ?it/s]"
      ]
     },
     "metadata": {},
     "output_type": "display_data"
    },
    {
     "data": {
      "application/vnd.jupyter.widget-view+json": {
       "model_id": "3abbadf2135c4834a3d7e3d1e57ff36a",
       "version_major": 2,
       "version_minor": 0
      },
      "text/plain": [
       "FrontRight:   0%|          | 0/11 [00:00<?, ?it/s]"
      ]
     },
     "metadata": {},
     "output_type": "display_data"
    },
    {
     "data": {
      "application/vnd.jupyter.widget-view+json": {
       "model_id": "d3f96ca9f5ba4032a17b95ed3d8b8a76",
       "version_major": 2,
       "version_minor": 0
      },
      "text/plain": [
       "Top:   0%|          | 0/11 [00:00<?, ?it/s]"
      ]
     },
     "metadata": {},
     "output_type": "display_data"
    },
    {
     "data": {
      "application/vnd.jupyter.widget-view+json": {
       "model_id": "0438e4ef853948669ea1268b64da18b3",
       "version_major": 2,
       "version_minor": 0
      },
      "text/plain": [
       "BackLeft:   0%|          | 0/11 [00:00<?, ?it/s]"
      ]
     },
     "metadata": {},
     "output_type": "display_data"
    },
    {
     "data": {
      "application/vnd.jupyter.widget-view+json": {
       "model_id": "5d82a52f3d6641f09908b4ff0e385175",
       "version_major": 2,
       "version_minor": 0
      },
      "text/plain": [
       "BackRight:   0%|          | 0/11 [00:00<?, ?it/s]"
      ]
     },
     "metadata": {},
     "output_type": "display_data"
    },
    {
     "data": {
      "application/vnd.jupyter.widget-view+json": {
       "model_id": "0818e7f4b2694b0a82f873ab105b0dd9",
       "version_major": 2,
       "version_minor": 0
      },
      "text/plain": [
       "FrontLeft:   0%|          | 0/11 [00:00<?, ?it/s]"
      ]
     },
     "metadata": {},
     "output_type": "display_data"
    },
    {
     "data": {
      "application/vnd.jupyter.widget-view+json": {
       "model_id": "8d15fa130219449daada83708a02e6ef",
       "version_major": 2,
       "version_minor": 0
      },
      "text/plain": [
       "FrontRight:   0%|          | 0/11 [00:00<?, ?it/s]"
      ]
     },
     "metadata": {},
     "output_type": "display_data"
    },
    {
     "data": {
      "application/vnd.jupyter.widget-view+json": {
       "model_id": "729109f53e7847eaa6fcadd94592e756",
       "version_major": 2,
       "version_minor": 0
      },
      "text/plain": [
       "Top:   0%|          | 0/11 [00:00<?, ?it/s]"
      ]
     },
     "metadata": {},
     "output_type": "display_data"
    },
    {
     "data": {
      "application/vnd.jupyter.widget-view+json": {
       "model_id": "2c1b42d3cd9a4428a64cfcd256c3e761",
       "version_major": 2,
       "version_minor": 0
      },
      "text/plain": [
       "BackLeft:   0%|          | 0/11 [00:00<?, ?it/s]"
      ]
     },
     "metadata": {},
     "output_type": "display_data"
    },
    {
     "data": {
      "application/vnd.jupyter.widget-view+json": {
       "model_id": "7f362cdafdc84505bb55fb9f1e9e7b8b",
       "version_major": 2,
       "version_minor": 0
      },
      "text/plain": [
       "BackRight:   0%|          | 0/11 [00:00<?, ?it/s]"
      ]
     },
     "metadata": {},
     "output_type": "display_data"
    },
    {
     "data": {
      "application/vnd.jupyter.widget-view+json": {
       "model_id": "f4bfac666b094d92a1616b351760a4f9",
       "version_major": 2,
       "version_minor": 0
      },
      "text/plain": [
       "FrontLeft:   0%|          | 0/11 [00:00<?, ?it/s]"
      ]
     },
     "metadata": {},
     "output_type": "display_data"
    },
    {
     "data": {
      "application/vnd.jupyter.widget-view+json": {
       "model_id": "d65c86e2879d407bbadc43f44ad9d608",
       "version_major": 2,
       "version_minor": 0
      },
      "text/plain": [
       "FrontRight:   0%|          | 0/11 [00:00<?, ?it/s]"
      ]
     },
     "metadata": {},
     "output_type": "display_data"
    },
    {
     "data": {
      "application/vnd.jupyter.widget-view+json": {
       "model_id": "68a08647cb8244628442632f7bc51fea",
       "version_major": 2,
       "version_minor": 0
      },
      "text/plain": [
       "Top:   0%|          | 0/11 [00:00<?, ?it/s]"
      ]
     },
     "metadata": {},
     "output_type": "display_data"
    },
    {
     "data": {
      "application/vnd.jupyter.widget-view+json": {
       "model_id": "7878b94d3a184cc8a9a3d0be859edc67",
       "version_major": 2,
       "version_minor": 0
      },
      "text/plain": [
       "BackLeft:   0%|          | 0/11 [00:00<?, ?it/s]"
      ]
     },
     "metadata": {},
     "output_type": "display_data"
    },
    {
     "data": {
      "application/vnd.jupyter.widget-view+json": {
       "model_id": "192c30ce73ca4072b08bd80cb366680f",
       "version_major": 2,
       "version_minor": 0
      },
      "text/plain": [
       "BackRight:   0%|          | 0/11 [00:00<?, ?it/s]"
      ]
     },
     "metadata": {},
     "output_type": "display_data"
    },
    {
     "data": {
      "application/vnd.jupyter.widget-view+json": {
       "model_id": "d3a2f30e87cb4d7d975c592ac48590af",
       "version_major": 2,
       "version_minor": 0
      },
      "text/plain": [
       "FrontLeft:   0%|          | 0/11 [00:00<?, ?it/s]"
      ]
     },
     "metadata": {},
     "output_type": "display_data"
    },
    {
     "data": {
      "application/vnd.jupyter.widget-view+json": {
       "model_id": "df8543614f4343658a5e32e4e163b4e0",
       "version_major": 2,
       "version_minor": 0
      },
      "text/plain": [
       "FrontRight:   0%|          | 0/11 [00:00<?, ?it/s]"
      ]
     },
     "metadata": {},
     "output_type": "display_data"
    },
    {
     "data": {
      "application/vnd.jupyter.widget-view+json": {
       "model_id": "d8ed6d49b1d84a3999bfa19dce85e023",
       "version_major": 2,
       "version_minor": 0
      },
      "text/plain": [
       "Top:   0%|          | 0/11 [00:00<?, ?it/s]"
      ]
     },
     "metadata": {},
     "output_type": "display_data"
    },
    {
     "data": {
      "application/vnd.jupyter.widget-view+json": {
       "model_id": "bf39591a899746cd80d987b3d33bb1a1",
       "version_major": 2,
       "version_minor": 0
      },
      "text/plain": [
       "BackLeft:   0%|          | 0/11 [00:00<?, ?it/s]"
      ]
     },
     "metadata": {},
     "output_type": "display_data"
    },
    {
     "data": {
      "application/vnd.jupyter.widget-view+json": {
       "model_id": "dc8099b8c01e46b5b8112238a7cb72a0",
       "version_major": 2,
       "version_minor": 0
      },
      "text/plain": [
       "BackRight:   0%|          | 0/11 [00:00<?, ?it/s]"
      ]
     },
     "metadata": {},
     "output_type": "display_data"
    },
    {
     "data": {
      "application/vnd.jupyter.widget-view+json": {
       "model_id": "c13bef89f3c8489fa2bef911e65f8948",
       "version_major": 2,
       "version_minor": 0
      },
      "text/plain": [
       "FrontLeft:   0%|          | 0/11 [00:00<?, ?it/s]"
      ]
     },
     "metadata": {},
     "output_type": "display_data"
    },
    {
     "data": {
      "application/vnd.jupyter.widget-view+json": {
       "model_id": "5a803d412f9e4f14ad036ffbe8298895",
       "version_major": 2,
       "version_minor": 0
      },
      "text/plain": [
       "FrontRight:   0%|          | 0/11 [00:00<?, ?it/s]"
      ]
     },
     "metadata": {},
     "output_type": "display_data"
    },
    {
     "data": {
      "application/vnd.jupyter.widget-view+json": {
       "model_id": "d49416f08bba4849b3703a40bec0e9e6",
       "version_major": 2,
       "version_minor": 0
      },
      "text/plain": [
       "Top:   0%|          | 0/11 [00:00<?, ?it/s]"
      ]
     },
     "metadata": {},
     "output_type": "display_data"
    },
    {
     "data": {
      "application/vnd.jupyter.widget-view+json": {
       "model_id": "6e8b36de402741ce98fa5936386b0930",
       "version_major": 2,
       "version_minor": 0
      },
      "text/plain": [
       "BackLeft:   0%|          | 0/11 [00:00<?, ?it/s]"
      ]
     },
     "metadata": {},
     "output_type": "display_data"
    },
    {
     "data": {
      "application/vnd.jupyter.widget-view+json": {
       "model_id": "d183ddcd3deb4f9f80f21d99a13ffa9a",
       "version_major": 2,
       "version_minor": 0
      },
      "text/plain": [
       "BackRight:   0%|          | 0/11 [00:00<?, ?it/s]"
      ]
     },
     "metadata": {},
     "output_type": "display_data"
    },
    {
     "data": {
      "application/vnd.jupyter.widget-view+json": {
       "model_id": "4d72b6c0d46840999fc660ca9e046ec4",
       "version_major": 2,
       "version_minor": 0
      },
      "text/plain": [
       "FrontLeft:   0%|          | 0/11 [00:00<?, ?it/s]"
      ]
     },
     "metadata": {},
     "output_type": "display_data"
    },
    {
     "data": {
      "application/vnd.jupyter.widget-view+json": {
       "model_id": "26544c8c92be4ffcb1d25d3b49719967",
       "version_major": 2,
       "version_minor": 0
      },
      "text/plain": [
       "FrontRight:   0%|          | 0/11 [00:00<?, ?it/s]"
      ]
     },
     "metadata": {},
     "output_type": "display_data"
    },
    {
     "data": {
      "application/vnd.jupyter.widget-view+json": {
       "model_id": "1f2fadfecdd2410a8402a686dcbf232a",
       "version_major": 2,
       "version_minor": 0
      },
      "text/plain": [
       "Top:   0%|          | 0/11 [00:00<?, ?it/s]"
      ]
     },
     "metadata": {},
     "output_type": "display_data"
    },
    {
     "data": {
      "application/vnd.jupyter.widget-view+json": {
       "model_id": "4b619d391456470293588cbfa87fc8a5",
       "version_major": 2,
       "version_minor": 0
      },
      "text/plain": [
       "BackLeft:   0%|          | 0/11 [00:00<?, ?it/s]"
      ]
     },
     "metadata": {},
     "output_type": "display_data"
    },
    {
     "data": {
      "application/vnd.jupyter.widget-view+json": {
       "model_id": "58c9396822d2445f8d7708c9d2789931",
       "version_major": 2,
       "version_minor": 0
      },
      "text/plain": [
       "BackRight:   0%|          | 0/11 [00:00<?, ?it/s]"
      ]
     },
     "metadata": {},
     "output_type": "display_data"
    },
    {
     "data": {
      "application/vnd.jupyter.widget-view+json": {
       "model_id": "bb83b55ce6874267b76bac75f10f893a",
       "version_major": 2,
       "version_minor": 0
      },
      "text/plain": [
       "FrontLeft:   0%|          | 0/11 [00:00<?, ?it/s]"
      ]
     },
     "metadata": {},
     "output_type": "display_data"
    },
    {
     "data": {
      "application/vnd.jupyter.widget-view+json": {
       "model_id": "e1a6edac40ac4fb09d3cfa8d6760a110",
       "version_major": 2,
       "version_minor": 0
      },
      "text/plain": [
       "FrontRight:   0%|          | 0/11 [00:00<?, ?it/s]"
      ]
     },
     "metadata": {},
     "output_type": "display_data"
    },
    {
     "data": {
      "application/vnd.jupyter.widget-view+json": {
       "model_id": "561ee162159d4bcfbda971f163e9cb3a",
       "version_major": 2,
       "version_minor": 0
      },
      "text/plain": [
       "Top:   0%|          | 0/11 [00:00<?, ?it/s]"
      ]
     },
     "metadata": {},
     "output_type": "display_data"
    },
    {
     "data": {
      "application/vnd.jupyter.widget-view+json": {
       "model_id": "",
       "version_major": 2,
       "version_minor": 0
      },
      "text/plain": [
       "copying images from 23-05-01-14-37-54__23-04-20-headcap:   0%|          | 0/45 [00:00<?, ?it/s]"
      ]
     },
     "metadata": {},
     "output_type": "display_data"
    },
    {
     "data": {
      "application/vnd.jupyter.widget-view+json": {
       "model_id": "69cd382fb9094fc2ba7a43a4f3e0b65f",
       "version_major": 2,
       "version_minor": 0
      },
      "text/plain": [
       "BackLeft:   0%|          | 0/31 [00:00<?, ?it/s]"
      ]
     },
     "metadata": {},
     "output_type": "display_data"
    },
    {
     "data": {
      "application/vnd.jupyter.widget-view+json": {
       "model_id": "43ff20edb5a143218fc67bfbee2b2d1a",
       "version_major": 2,
       "version_minor": 0
      },
      "text/plain": [
       "BackRight:   0%|          | 0/31 [00:00<?, ?it/s]"
      ]
     },
     "metadata": {},
     "output_type": "display_data"
    },
    {
     "data": {
      "application/vnd.jupyter.widget-view+json": {
       "model_id": "549a4e2a28d5420bb8a660992eefa1ea",
       "version_major": 2,
       "version_minor": 0
      },
      "text/plain": [
       "FrontLeft:   0%|          | 0/31 [00:00<?, ?it/s]"
      ]
     },
     "metadata": {},
     "output_type": "display_data"
    },
    {
     "data": {
      "application/vnd.jupyter.widget-view+json": {
       "model_id": "0d945ebef49749ddafd07e7bd342457d",
       "version_major": 2,
       "version_minor": 0
      },
      "text/plain": [
       "FrontRight:   0%|          | 0/31 [00:00<?, ?it/s]"
      ]
     },
     "metadata": {},
     "output_type": "display_data"
    },
    {
     "data": {
      "application/vnd.jupyter.widget-view+json": {
       "model_id": "b6874b400a3e42c388f21a69dcd5cfc7",
       "version_major": 2,
       "version_minor": 0
      },
      "text/plain": [
       "Top:   0%|          | 0/31 [00:00<?, ?it/s]"
      ]
     },
     "metadata": {},
     "output_type": "display_data"
    },
    {
     "data": {
      "application/vnd.jupyter.widget-view+json": {
       "model_id": "ec862b956d444a5d8a898e63c1632016",
       "version_major": 2,
       "version_minor": 0
      },
      "text/plain": [
       "BackLeft:   0%|          | 0/22 [00:00<?, ?it/s]"
      ]
     },
     "metadata": {},
     "output_type": "display_data"
    },
    {
     "data": {
      "application/vnd.jupyter.widget-view+json": {
       "model_id": "70b2c62972234e419ad230e9685f4319",
       "version_major": 2,
       "version_minor": 0
      },
      "text/plain": [
       "BackRight:   0%|          | 0/22 [00:00<?, ?it/s]"
      ]
     },
     "metadata": {},
     "output_type": "display_data"
    },
    {
     "data": {
      "application/vnd.jupyter.widget-view+json": {
       "model_id": "489c895b02c743a6af1cf4826b5aed4d",
       "version_major": 2,
       "version_minor": 0
      },
      "text/plain": [
       "FrontLeft:   0%|          | 0/22 [00:00<?, ?it/s]"
      ]
     },
     "metadata": {},
     "output_type": "display_data"
    },
    {
     "data": {
      "application/vnd.jupyter.widget-view+json": {
       "model_id": "72f249052f5a4266a4d9bb5b5daf37b3",
       "version_major": 2,
       "version_minor": 0
      },
      "text/plain": [
       "FrontRight:   0%|          | 0/22 [00:00<?, ?it/s]"
      ]
     },
     "metadata": {},
     "output_type": "display_data"
    },
    {
     "data": {
      "application/vnd.jupyter.widget-view+json": {
       "model_id": "5d57bcb7e5ec49fe948407858cb9f973",
       "version_major": 2,
       "version_minor": 0
      },
      "text/plain": [
       "Top:   0%|          | 0/22 [00:00<?, ?it/s]"
      ]
     },
     "metadata": {},
     "output_type": "display_data"
    },
    {
     "data": {
      "application/vnd.jupyter.widget-view+json": {
       "model_id": "912c2757a6b5435b8eab093c045110b0",
       "version_major": 2,
       "version_minor": 0
      },
      "text/plain": [
       "BackLeft:   0%|          | 0/31 [00:00<?, ?it/s]"
      ]
     },
     "metadata": {},
     "output_type": "display_data"
    },
    {
     "data": {
      "application/vnd.jupyter.widget-view+json": {
       "model_id": "ad31d2fd11d3489698acf5ac55d50968",
       "version_major": 2,
       "version_minor": 0
      },
      "text/plain": [
       "BackRight:   0%|          | 0/31 [00:00<?, ?it/s]"
      ]
     },
     "metadata": {},
     "output_type": "display_data"
    },
    {
     "data": {
      "application/vnd.jupyter.widget-view+json": {
       "model_id": "41ec397627b748328a5f3ed2137471a5",
       "version_major": 2,
       "version_minor": 0
      },
      "text/plain": [
       "FrontLeft:   0%|          | 0/31 [00:00<?, ?it/s]"
      ]
     },
     "metadata": {},
     "output_type": "display_data"
    },
    {
     "data": {
      "application/vnd.jupyter.widget-view+json": {
       "model_id": "62531c1d56f9412c895c6bc129179971",
       "version_major": 2,
       "version_minor": 0
      },
      "text/plain": [
       "FrontRight:   0%|          | 0/31 [00:00<?, ?it/s]"
      ]
     },
     "metadata": {},
     "output_type": "display_data"
    },
    {
     "data": {
      "application/vnd.jupyter.widget-view+json": {
       "model_id": "d041f0ee03e24c65ac9597eaff44c5e7",
       "version_major": 2,
       "version_minor": 0
      },
      "text/plain": [
       "Top:   0%|          | 0/31 [00:00<?, ?it/s]"
      ]
     },
     "metadata": {},
     "output_type": "display_data"
    },
    {
     "data": {
      "application/vnd.jupyter.widget-view+json": {
       "model_id": "1f4df69efde04502bfa6a6d214a297ad",
       "version_major": 2,
       "version_minor": 0
      },
      "text/plain": [
       "BackLeft:   0%|          | 0/28 [00:00<?, ?it/s]"
      ]
     },
     "metadata": {},
     "output_type": "display_data"
    },
    {
     "data": {
      "application/vnd.jupyter.widget-view+json": {
       "model_id": "5a27467bcc1646e29c2e5628888a1b52",
       "version_major": 2,
       "version_minor": 0
      },
      "text/plain": [
       "BackRight:   0%|          | 0/28 [00:00<?, ?it/s]"
      ]
     },
     "metadata": {},
     "output_type": "display_data"
    },
    {
     "data": {
      "application/vnd.jupyter.widget-view+json": {
       "model_id": "d461c165d32e4191a235bd583a771508",
       "version_major": 2,
       "version_minor": 0
      },
      "text/plain": [
       "FrontLeft:   0%|          | 0/28 [00:00<?, ?it/s]"
      ]
     },
     "metadata": {},
     "output_type": "display_data"
    },
    {
     "data": {
      "application/vnd.jupyter.widget-view+json": {
       "model_id": "10df846b347c4583b75cdb2d051f246b",
       "version_major": 2,
       "version_minor": 0
      },
      "text/plain": [
       "FrontRight:   0%|          | 0/28 [00:00<?, ?it/s]"
      ]
     },
     "metadata": {},
     "output_type": "display_data"
    },
    {
     "data": {
      "application/vnd.jupyter.widget-view+json": {
       "model_id": "402a446ca4d24d1cbb84b4955b453e98",
       "version_major": 2,
       "version_minor": 0
      },
      "text/plain": [
       "Top:   0%|          | 0/28 [00:00<?, ?it/s]"
      ]
     },
     "metadata": {},
     "output_type": "display_data"
    },
    {
     "data": {
      "application/vnd.jupyter.widget-view+json": {
       "model_id": "0ce0ed43520447cf9a7782e748106f2e",
       "version_major": 2,
       "version_minor": 0
      },
      "text/plain": [
       "BackLeft:   0%|          | 0/13 [00:00<?, ?it/s]"
      ]
     },
     "metadata": {},
     "output_type": "display_data"
    },
    {
     "data": {
      "application/vnd.jupyter.widget-view+json": {
       "model_id": "4849960fae964850b017aa7754a0059a",
       "version_major": 2,
       "version_minor": 0
      },
      "text/plain": [
       "BackRight:   0%|          | 0/13 [00:00<?, ?it/s]"
      ]
     },
     "metadata": {},
     "output_type": "display_data"
    },
    {
     "data": {
      "application/vnd.jupyter.widget-view+json": {
       "model_id": "93dd5e96bb844a4698f5cbc8a11be594",
       "version_major": 2,
       "version_minor": 0
      },
      "text/plain": [
       "FrontLeft:   0%|          | 0/13 [00:00<?, ?it/s]"
      ]
     },
     "metadata": {},
     "output_type": "display_data"
    },
    {
     "data": {
      "application/vnd.jupyter.widget-view+json": {
       "model_id": "6e6d1112875b41b19d51089a4e7d9f00",
       "version_major": 2,
       "version_minor": 0
      },
      "text/plain": [
       "FrontRight:   0%|          | 0/13 [00:00<?, ?it/s]"
      ]
     },
     "metadata": {},
     "output_type": "display_data"
    },
    {
     "data": {
      "application/vnd.jupyter.widget-view+json": {
       "model_id": "03d2e91dff6944948312437b33aaabc1",
       "version_major": 2,
       "version_minor": 0
      },
      "text/plain": [
       "Top:   0%|          | 0/13 [00:00<?, ?it/s]"
      ]
     },
     "metadata": {},
     "output_type": "display_data"
    },
    {
     "data": {
      "application/vnd.jupyter.widget-view+json": {
       "model_id": "6c99e6d2c8994b85ab86de41fab44a66",
       "version_major": 2,
       "version_minor": 0
      },
      "text/plain": [
       "BackLeft:   0%|          | 0/30 [00:00<?, ?it/s]"
      ]
     },
     "metadata": {},
     "output_type": "display_data"
    },
    {
     "data": {
      "application/vnd.jupyter.widget-view+json": {
       "model_id": "d804cfff68b64101ade75cc8bc842e56",
       "version_major": 2,
       "version_minor": 0
      },
      "text/plain": [
       "BackRight:   0%|          | 0/30 [00:00<?, ?it/s]"
      ]
     },
     "metadata": {},
     "output_type": "display_data"
    },
    {
     "data": {
      "application/vnd.jupyter.widget-view+json": {
       "model_id": "76e2f177ef3440448f1b03304d023325",
       "version_major": 2,
       "version_minor": 0
      },
      "text/plain": [
       "FrontLeft:   0%|          | 0/30 [00:00<?, ?it/s]"
      ]
     },
     "metadata": {},
     "output_type": "display_data"
    },
    {
     "data": {
      "application/vnd.jupyter.widget-view+json": {
       "model_id": "991c035076494decab35b568222cbcb3",
       "version_major": 2,
       "version_minor": 0
      },
      "text/plain": [
       "FrontRight:   0%|          | 0/30 [00:00<?, ?it/s]"
      ]
     },
     "metadata": {},
     "output_type": "display_data"
    },
    {
     "data": {
      "application/vnd.jupyter.widget-view+json": {
       "model_id": "38299523b6e14bf8b02b132a9c7e2b55",
       "version_major": 2,
       "version_minor": 0
      },
      "text/plain": [
       "Top:   0%|          | 0/30 [00:00<?, ?it/s]"
      ]
     },
     "metadata": {},
     "output_type": "display_data"
    },
    {
     "data": {
      "application/vnd.jupyter.widget-view+json": {
       "model_id": "79bdb29a940949b3b47473e1d686a4b5",
       "version_major": 2,
       "version_minor": 0
      },
      "text/plain": [
       "BackLeft:   0%|          | 0/11 [00:00<?, ?it/s]"
      ]
     },
     "metadata": {},
     "output_type": "display_data"
    },
    {
     "data": {
      "application/vnd.jupyter.widget-view+json": {
       "model_id": "3bcb9cdf7a3747f3960199fd0b01906e",
       "version_major": 2,
       "version_minor": 0
      },
      "text/plain": [
       "BackRight:   0%|          | 0/11 [00:00<?, ?it/s]"
      ]
     },
     "metadata": {},
     "output_type": "display_data"
    },
    {
     "data": {
      "application/vnd.jupyter.widget-view+json": {
       "model_id": "d2131431f3144328be5812d269ca5d00",
       "version_major": 2,
       "version_minor": 0
      },
      "text/plain": [
       "FrontLeft:   0%|          | 0/11 [00:00<?, ?it/s]"
      ]
     },
     "metadata": {},
     "output_type": "display_data"
    },
    {
     "data": {
      "application/vnd.jupyter.widget-view+json": {
       "model_id": "32679488e7124409b2334ab79f103af0",
       "version_major": 2,
       "version_minor": 0
      },
      "text/plain": [
       "FrontRight:   0%|          | 0/11 [00:00<?, ?it/s]"
      ]
     },
     "metadata": {},
     "output_type": "display_data"
    },
    {
     "data": {
      "application/vnd.jupyter.widget-view+json": {
       "model_id": "ab888c0a21ed41cdb909232d30f68bc8",
       "version_major": 2,
       "version_minor": 0
      },
      "text/plain": [
       "Top:   0%|          | 0/11 [00:00<?, ?it/s]"
      ]
     },
     "metadata": {},
     "output_type": "display_data"
    },
    {
     "data": {
      "application/vnd.jupyter.widget-view+json": {
       "model_id": "24c29520a49341578fa2ddf7bef3cb26",
       "version_major": 2,
       "version_minor": 0
      },
      "text/plain": [
       "BackLeft:   0%|          | 0/6 [00:00<?, ?it/s]"
      ]
     },
     "metadata": {},
     "output_type": "display_data"
    },
    {
     "data": {
      "application/vnd.jupyter.widget-view+json": {
       "model_id": "4f102caa2b7247b993523d569e131fd1",
       "version_major": 2,
       "version_minor": 0
      },
      "text/plain": [
       "BackRight:   0%|          | 0/6 [00:00<?, ?it/s]"
      ]
     },
     "metadata": {},
     "output_type": "display_data"
    },
    {
     "data": {
      "application/vnd.jupyter.widget-view+json": {
       "model_id": "c9bce90cb86b461b8a444c108ad5343e",
       "version_major": 2,
       "version_minor": 0
      },
      "text/plain": [
       "FrontLeft:   0%|          | 0/6 [00:00<?, ?it/s]"
      ]
     },
     "metadata": {},
     "output_type": "display_data"
    },
    {
     "data": {
      "application/vnd.jupyter.widget-view+json": {
       "model_id": "94af605e548341e8a58f6369cee6291f",
       "version_major": 2,
       "version_minor": 0
      },
      "text/plain": [
       "FrontRight:   0%|          | 0/6 [00:00<?, ?it/s]"
      ]
     },
     "metadata": {},
     "output_type": "display_data"
    },
    {
     "data": {
      "application/vnd.jupyter.widget-view+json": {
       "model_id": "71a097bc886e4ac2aac7c4e79f5a2ceb",
       "version_major": 2,
       "version_minor": 0
      },
      "text/plain": [
       "Top:   0%|          | 0/6 [00:00<?, ?it/s]"
      ]
     },
     "metadata": {},
     "output_type": "display_data"
    },
    {
     "data": {
      "application/vnd.jupyter.widget-view+json": {
       "model_id": "9934daf81304420aa4ac2aa25fa4bf18",
       "version_major": 2,
       "version_minor": 0
      },
      "text/plain": [
       "BackLeft:   0%|          | 0/21 [00:00<?, ?it/s]"
      ]
     },
     "metadata": {},
     "output_type": "display_data"
    },
    {
     "data": {
      "application/vnd.jupyter.widget-view+json": {
       "model_id": "bce0b58c2e3d4e6abbb11c0c49cb237e",
       "version_major": 2,
       "version_minor": 0
      },
      "text/plain": [
       "BackRight:   0%|          | 0/21 [00:00<?, ?it/s]"
      ]
     },
     "metadata": {},
     "output_type": "display_data"
    },
    {
     "data": {
      "application/vnd.jupyter.widget-view+json": {
       "model_id": "621a9edde767477d9cb3eebcdcab4c74",
       "version_major": 2,
       "version_minor": 0
      },
      "text/plain": [
       "FrontLeft:   0%|          | 0/21 [00:00<?, ?it/s]"
      ]
     },
     "metadata": {},
     "output_type": "display_data"
    },
    {
     "data": {
      "application/vnd.jupyter.widget-view+json": {
       "model_id": "9798e41c505f444282d3944925c8b7cf",
       "version_major": 2,
       "version_minor": 0
      },
      "text/plain": [
       "FrontRight:   0%|          | 0/21 [00:00<?, ?it/s]"
      ]
     },
     "metadata": {},
     "output_type": "display_data"
    },
    {
     "data": {
      "application/vnd.jupyter.widget-view+json": {
       "model_id": "2c807bc0ded3452ea05071c3634004ba",
       "version_major": 2,
       "version_minor": 0
      },
      "text/plain": [
       "Top:   0%|          | 0/21 [00:00<?, ?it/s]"
      ]
     },
     "metadata": {},
     "output_type": "display_data"
    },
    {
     "data": {
      "application/vnd.jupyter.widget-view+json": {
       "model_id": "",
       "version_major": 2,
       "version_minor": 0
      },
      "text/plain": [
       "copying images from 23-05-15-tethered-neural:   0%|          | 0/50 [00:00<?, ?it/s]"
      ]
     },
     "metadata": {},
     "output_type": "display_data"
    },
    {
     "data": {
      "application/vnd.jupyter.widget-view+json": {
       "model_id": "2982c5e5f0ce4c6390fa10bcb1580c1b",
       "version_major": 2,
       "version_minor": 0
      },
      "text/plain": [
       "BackLeft:   0%|          | 0/31 [00:00<?, ?it/s]"
      ]
     },
     "metadata": {},
     "output_type": "display_data"
    },
    {
     "data": {
      "application/vnd.jupyter.widget-view+json": {
       "model_id": "cc2f81f38ddf429e998696f6625b8e4b",
       "version_major": 2,
       "version_minor": 0
      },
      "text/plain": [
       "BackRight:   0%|          | 0/31 [00:00<?, ?it/s]"
      ]
     },
     "metadata": {},
     "output_type": "display_data"
    },
    {
     "data": {
      "application/vnd.jupyter.widget-view+json": {
       "model_id": "6a3c7c7b48fe422fba3c106fedcf89de",
       "version_major": 2,
       "version_minor": 0
      },
      "text/plain": [
       "FrontLeft:   0%|          | 0/31 [00:00<?, ?it/s]"
      ]
     },
     "metadata": {},
     "output_type": "display_data"
    },
    {
     "data": {
      "application/vnd.jupyter.widget-view+json": {
       "model_id": "009866d8d6184ca2a648dc89b11f8a9a",
       "version_major": 2,
       "version_minor": 0
      },
      "text/plain": [
       "FrontRight:   0%|          | 0/31 [00:00<?, ?it/s]"
      ]
     },
     "metadata": {},
     "output_type": "display_data"
    },
    {
     "data": {
      "application/vnd.jupyter.widget-view+json": {
       "model_id": "55c8f3852ee74ab28b9adcd993421a04",
       "version_major": 2,
       "version_minor": 0
      },
      "text/plain": [
       "Top:   0%|          | 0/31 [00:00<?, ?it/s]"
      ]
     },
     "metadata": {},
     "output_type": "display_data"
    },
    {
     "data": {
      "application/vnd.jupyter.widget-view+json": {
       "model_id": "7a3056994bb046179d2fb72580f34a5f",
       "version_major": 2,
       "version_minor": 0
      },
      "text/plain": [
       "BackLeft:   0%|          | 0/31 [00:00<?, ?it/s]"
      ]
     },
     "metadata": {},
     "output_type": "display_data"
    },
    {
     "data": {
      "application/vnd.jupyter.widget-view+json": {
       "model_id": "d1ba8a43432f4cc18fc7c16d98fa9e1e",
       "version_major": 2,
       "version_minor": 0
      },
      "text/plain": [
       "BackRight:   0%|          | 0/31 [00:00<?, ?it/s]"
      ]
     },
     "metadata": {},
     "output_type": "display_data"
    },
    {
     "data": {
      "application/vnd.jupyter.widget-view+json": {
       "model_id": "fd5f61aafea74d27bc245951e5bd2caf",
       "version_major": 2,
       "version_minor": 0
      },
      "text/plain": [
       "FrontLeft:   0%|          | 0/31 [00:00<?, ?it/s]"
      ]
     },
     "metadata": {},
     "output_type": "display_data"
    },
    {
     "data": {
      "application/vnd.jupyter.widget-view+json": {
       "model_id": "6e01acd34ac449dd8cb288b939b95c41",
       "version_major": 2,
       "version_minor": 0
      },
      "text/plain": [
       "FrontRight:   0%|          | 0/31 [00:00<?, ?it/s]"
      ]
     },
     "metadata": {},
     "output_type": "display_data"
    },
    {
     "data": {
      "application/vnd.jupyter.widget-view+json": {
       "model_id": "a99a8e44c90c414e9107dbc7483971f9",
       "version_major": 2,
       "version_minor": 0
      },
      "text/plain": [
       "Top:   0%|          | 0/31 [00:00<?, ?it/s]"
      ]
     },
     "metadata": {},
     "output_type": "display_data"
    },
    {
     "data": {
      "application/vnd.jupyter.widget-view+json": {
       "model_id": "ce4431ef87fe457fac289879280cecfc",
       "version_major": 2,
       "version_minor": 0
      },
      "text/plain": [
       "BackLeft:   0%|          | 0/31 [00:00<?, ?it/s]"
      ]
     },
     "metadata": {},
     "output_type": "display_data"
    },
    {
     "data": {
      "application/vnd.jupyter.widget-view+json": {
       "model_id": "58e593a7bd724e779f43e5bbac28d721",
       "version_major": 2,
       "version_minor": 0
      },
      "text/plain": [
       "BackRight:   0%|          | 0/31 [00:00<?, ?it/s]"
      ]
     },
     "metadata": {},
     "output_type": "display_data"
    },
    {
     "data": {
      "application/vnd.jupyter.widget-view+json": {
       "model_id": "331940653ad24a019f13b6d70b1493a2",
       "version_major": 2,
       "version_minor": 0
      },
      "text/plain": [
       "FrontLeft:   0%|          | 0/31 [00:00<?, ?it/s]"
      ]
     },
     "metadata": {},
     "output_type": "display_data"
    },
    {
     "data": {
      "application/vnd.jupyter.widget-view+json": {
       "model_id": "ca4220f9c3c543d0aecbd90fcc006bab",
       "version_major": 2,
       "version_minor": 0
      },
      "text/plain": [
       "FrontRight:   0%|          | 0/31 [00:00<?, ?it/s]"
      ]
     },
     "metadata": {},
     "output_type": "display_data"
    },
    {
     "data": {
      "application/vnd.jupyter.widget-view+json": {
       "model_id": "111544e52c2f4165931f1d607f1dce99",
       "version_major": 2,
       "version_minor": 0
      },
      "text/plain": [
       "Top:   0%|          | 0/31 [00:00<?, ?it/s]"
      ]
     },
     "metadata": {},
     "output_type": "display_data"
    },
    {
     "data": {
      "application/vnd.jupyter.widget-view+json": {
       "model_id": "208b1af707ab49d282e5eab23180064c",
       "version_major": 2,
       "version_minor": 0
      },
      "text/plain": [
       "BackLeft:   0%|          | 0/31 [00:00<?, ?it/s]"
      ]
     },
     "metadata": {},
     "output_type": "display_data"
    },
    {
     "data": {
      "application/vnd.jupyter.widget-view+json": {
       "model_id": "490f61c684d9406abac3155ff87a5d6f",
       "version_major": 2,
       "version_minor": 0
      },
      "text/plain": [
       "BackRight:   0%|          | 0/31 [00:00<?, ?it/s]"
      ]
     },
     "metadata": {},
     "output_type": "display_data"
    },
    {
     "data": {
      "application/vnd.jupyter.widget-view+json": {
       "model_id": "a2531213ff114d5580efd13a6d1c9c0f",
       "version_major": 2,
       "version_minor": 0
      },
      "text/plain": [
       "FrontLeft:   0%|          | 0/31 [00:00<?, ?it/s]"
      ]
     },
     "metadata": {},
     "output_type": "display_data"
    },
    {
     "data": {
      "application/vnd.jupyter.widget-view+json": {
       "model_id": "71ee58fa11a54316a946a571e157a1f8",
       "version_major": 2,
       "version_minor": 0
      },
      "text/plain": [
       "FrontRight:   0%|          | 0/31 [00:00<?, ?it/s]"
      ]
     },
     "metadata": {},
     "output_type": "display_data"
    },
    {
     "data": {
      "application/vnd.jupyter.widget-view+json": {
       "model_id": "825f93cfa75a4b16b47d0bea763809f6",
       "version_major": 2,
       "version_minor": 0
      },
      "text/plain": [
       "Top:   0%|          | 0/31 [00:00<?, ?it/s]"
      ]
     },
     "metadata": {},
     "output_type": "display_data"
    },
    {
     "data": {
      "application/vnd.jupyter.widget-view+json": {
       "model_id": "f30d3af90ddf45caad3f5e26946bdfa8",
       "version_major": 2,
       "version_minor": 0
      },
      "text/plain": [
       "BackLeft:   0%|          | 0/31 [00:00<?, ?it/s]"
      ]
     },
     "metadata": {},
     "output_type": "display_data"
    },
    {
     "data": {
      "application/vnd.jupyter.widget-view+json": {
       "model_id": "a19b42ed4a5543f88e8ba9b02e3e3da4",
       "version_major": 2,
       "version_minor": 0
      },
      "text/plain": [
       "BackRight:   0%|          | 0/31 [00:00<?, ?it/s]"
      ]
     },
     "metadata": {},
     "output_type": "display_data"
    },
    {
     "data": {
      "application/vnd.jupyter.widget-view+json": {
       "model_id": "6457ac9c66d64316aabd50369b2619c3",
       "version_major": 2,
       "version_minor": 0
      },
      "text/plain": [
       "FrontLeft:   0%|          | 0/31 [00:00<?, ?it/s]"
      ]
     },
     "metadata": {},
     "output_type": "display_data"
    },
    {
     "data": {
      "application/vnd.jupyter.widget-view+json": {
       "model_id": "335aadb33e52407b95cba8ebdf721134",
       "version_major": 2,
       "version_minor": 0
      },
      "text/plain": [
       "FrontRight:   0%|          | 0/31 [00:00<?, ?it/s]"
      ]
     },
     "metadata": {},
     "output_type": "display_data"
    },
    {
     "data": {
      "application/vnd.jupyter.widget-view+json": {
       "model_id": "1f50946e93f6454598b341262da62744",
       "version_major": 2,
       "version_minor": 0
      },
      "text/plain": [
       "Top:   0%|          | 0/31 [00:00<?, ?it/s]"
      ]
     },
     "metadata": {},
     "output_type": "display_data"
    },
    {
     "data": {
      "application/vnd.jupyter.widget-view+json": {
       "model_id": "f8cb9e23e19f4214be65815c8a98f80b",
       "version_major": 2,
       "version_minor": 0
      },
      "text/plain": [
       "BackLeft:   0%|          | 0/31 [00:00<?, ?it/s]"
      ]
     },
     "metadata": {},
     "output_type": "display_data"
    },
    {
     "data": {
      "application/vnd.jupyter.widget-view+json": {
       "model_id": "d07f2d31b8b54e95afc06e08b9f68082",
       "version_major": 2,
       "version_minor": 0
      },
      "text/plain": [
       "BackRight:   0%|          | 0/31 [00:00<?, ?it/s]"
      ]
     },
     "metadata": {},
     "output_type": "display_data"
    },
    {
     "data": {
      "application/vnd.jupyter.widget-view+json": {
       "model_id": "d8f01e64451f46339ab7b0b50df41e13",
       "version_major": 2,
       "version_minor": 0
      },
      "text/plain": [
       "FrontLeft:   0%|          | 0/31 [00:00<?, ?it/s]"
      ]
     },
     "metadata": {},
     "output_type": "display_data"
    },
    {
     "data": {
      "application/vnd.jupyter.widget-view+json": {
       "model_id": "6d0f0f6c0cc8433c8bc5e506f27d5203",
       "version_major": 2,
       "version_minor": 0
      },
      "text/plain": [
       "FrontRight:   0%|          | 0/31 [00:00<?, ?it/s]"
      ]
     },
     "metadata": {},
     "output_type": "display_data"
    },
    {
     "data": {
      "application/vnd.jupyter.widget-view+json": {
       "model_id": "d262010e48564d458df1d8fc14c7cf4e",
       "version_major": 2,
       "version_minor": 0
      },
      "text/plain": [
       "Top:   0%|          | 0/31 [00:00<?, ?it/s]"
      ]
     },
     "metadata": {},
     "output_type": "display_data"
    },
    {
     "data": {
      "application/vnd.jupyter.widget-view+json": {
       "model_id": "d7af6b8d1e094abfb0f043bdee4662f3",
       "version_major": 2,
       "version_minor": 0
      },
      "text/plain": [
       "BackLeft:   0%|          | 0/31 [00:00<?, ?it/s]"
      ]
     },
     "metadata": {},
     "output_type": "display_data"
    },
    {
     "data": {
      "application/vnd.jupyter.widget-view+json": {
       "model_id": "f4bd5c234a774a2c82dac62f31dbdfd0",
       "version_major": 2,
       "version_minor": 0
      },
      "text/plain": [
       "BackRight:   0%|          | 0/31 [00:00<?, ?it/s]"
      ]
     },
     "metadata": {},
     "output_type": "display_data"
    },
    {
     "data": {
      "application/vnd.jupyter.widget-view+json": {
       "model_id": "1e6ccf8cad4b449bbd1f666e7a71c2bb",
       "version_major": 2,
       "version_minor": 0
      },
      "text/plain": [
       "FrontLeft:   0%|          | 0/31 [00:00<?, ?it/s]"
      ]
     },
     "metadata": {},
     "output_type": "display_data"
    },
    {
     "data": {
      "application/vnd.jupyter.widget-view+json": {
       "model_id": "f2514ffa73d04d4baf88c8dcb9c3a5c1",
       "version_major": 2,
       "version_minor": 0
      },
      "text/plain": [
       "FrontRight:   0%|          | 0/31 [00:00<?, ?it/s]"
      ]
     },
     "metadata": {},
     "output_type": "display_data"
    },
    {
     "data": {
      "application/vnd.jupyter.widget-view+json": {
       "model_id": "aa2b0d238b9e44338c9251d63e2cb21f",
       "version_major": 2,
       "version_minor": 0
      },
      "text/plain": [
       "Top:   0%|          | 0/31 [00:00<?, ?it/s]"
      ]
     },
     "metadata": {},
     "output_type": "display_data"
    },
    {
     "data": {
      "application/vnd.jupyter.widget-view+json": {
       "model_id": "03e6713def73470f9bcc359c5a11b50c",
       "version_major": 2,
       "version_minor": 0
      },
      "text/plain": [
       "BackLeft:   0%|          | 0/31 [00:00<?, ?it/s]"
      ]
     },
     "metadata": {},
     "output_type": "display_data"
    },
    {
     "data": {
      "application/vnd.jupyter.widget-view+json": {
       "model_id": "30c6aae1d3fa467baca652f54dc69d46",
       "version_major": 2,
       "version_minor": 0
      },
      "text/plain": [
       "BackRight:   0%|          | 0/31 [00:00<?, ?it/s]"
      ]
     },
     "metadata": {},
     "output_type": "display_data"
    },
    {
     "data": {
      "application/vnd.jupyter.widget-view+json": {
       "model_id": "05824e7db9f54811ada3004a8bb9d13d",
       "version_major": 2,
       "version_minor": 0
      },
      "text/plain": [
       "FrontLeft:   0%|          | 0/31 [00:00<?, ?it/s]"
      ]
     },
     "metadata": {},
     "output_type": "display_data"
    },
    {
     "data": {
      "application/vnd.jupyter.widget-view+json": {
       "model_id": "3722570263ed43708e78409aaf293a16",
       "version_major": 2,
       "version_minor": 0
      },
      "text/plain": [
       "FrontRight:   0%|          | 0/31 [00:00<?, ?it/s]"
      ]
     },
     "metadata": {},
     "output_type": "display_data"
    },
    {
     "data": {
      "application/vnd.jupyter.widget-view+json": {
       "model_id": "c61c1cdc074d464cbae675ee09f008d3",
       "version_major": 2,
       "version_minor": 0
      },
      "text/plain": [
       "Top:   0%|          | 0/31 [00:00<?, ?it/s]"
      ]
     },
     "metadata": {},
     "output_type": "display_data"
    },
    {
     "data": {
      "application/vnd.jupyter.widget-view+json": {
       "model_id": "39a4a59d820b458d820e6eea2116df32",
       "version_major": 2,
       "version_minor": 0
      },
      "text/plain": [
       "BackLeft:   0%|          | 0/31 [00:00<?, ?it/s]"
      ]
     },
     "metadata": {},
     "output_type": "display_data"
    },
    {
     "data": {
      "application/vnd.jupyter.widget-view+json": {
       "model_id": "4ec020cbf6d94cb2befcd3472a076aba",
       "version_major": 2,
       "version_minor": 0
      },
      "text/plain": [
       "BackRight:   0%|          | 0/31 [00:00<?, ?it/s]"
      ]
     },
     "metadata": {},
     "output_type": "display_data"
    },
    {
     "data": {
      "application/vnd.jupyter.widget-view+json": {
       "model_id": "d0dd89a35e29441488bc4eae7ea46e0d",
       "version_major": 2,
       "version_minor": 0
      },
      "text/plain": [
       "FrontLeft:   0%|          | 0/31 [00:00<?, ?it/s]"
      ]
     },
     "metadata": {},
     "output_type": "display_data"
    },
    {
     "data": {
      "application/vnd.jupyter.widget-view+json": {
       "model_id": "f2f9f1589bb64994a29fbbace5c08766",
       "version_major": 2,
       "version_minor": 0
      },
      "text/plain": [
       "FrontRight:   0%|          | 0/31 [00:00<?, ?it/s]"
      ]
     },
     "metadata": {},
     "output_type": "display_data"
    },
    {
     "data": {
      "application/vnd.jupyter.widget-view+json": {
       "model_id": "72473892097945b1b44349b0adb86c25",
       "version_major": 2,
       "version_minor": 0
      },
      "text/plain": [
       "Top:   0%|          | 0/31 [00:00<?, ?it/s]"
      ]
     },
     "metadata": {},
     "output_type": "display_data"
    },
    {
     "data": {
      "application/vnd.jupyter.widget-view+json": {
       "model_id": "1dc2e715ce244da998169c70253aeefa",
       "version_major": 2,
       "version_minor": 0
      },
      "text/plain": [
       "BackLeft:   0%|          | 0/31 [00:00<?, ?it/s]"
      ]
     },
     "metadata": {},
     "output_type": "display_data"
    },
    {
     "data": {
      "application/vnd.jupyter.widget-view+json": {
       "model_id": "1ff140f08e364dc3be2c875133a802e7",
       "version_major": 2,
       "version_minor": 0
      },
      "text/plain": [
       "BackRight:   0%|          | 0/31 [00:00<?, ?it/s]"
      ]
     },
     "metadata": {},
     "output_type": "display_data"
    },
    {
     "data": {
      "application/vnd.jupyter.widget-view+json": {
       "model_id": "fcb374aa901a42b0b8497348445afcef",
       "version_major": 2,
       "version_minor": 0
      },
      "text/plain": [
       "FrontLeft:   0%|          | 0/31 [00:00<?, ?it/s]"
      ]
     },
     "metadata": {},
     "output_type": "display_data"
    },
    {
     "data": {
      "application/vnd.jupyter.widget-view+json": {
       "model_id": "f286723955c14c19827162bcf051f730",
       "version_major": 2,
       "version_minor": 0
      },
      "text/plain": [
       "FrontRight:   0%|          | 0/31 [00:00<?, ?it/s]"
      ]
     },
     "metadata": {},
     "output_type": "display_data"
    },
    {
     "data": {
      "application/vnd.jupyter.widget-view+json": {
       "model_id": "0eac57fc8b6240428dd2c9ef9c93c972",
       "version_major": 2,
       "version_minor": 0
      },
      "text/plain": [
       "Top:   0%|          | 0/31 [00:00<?, ?it/s]"
      ]
     },
     "metadata": {},
     "output_type": "display_data"
    },
    {
     "data": {
      "application/vnd.jupyter.widget-view+json": {
       "model_id": "",
       "version_major": 2,
       "version_minor": 0
      },
      "text/plain": [
       "copying images from 23-08-16-chronic_recordings_23-02-16-17-39-39-427329_larger:   0%|          | 0/5 [00:00<?…"
      ]
     },
     "metadata": {},
     "output_type": "display_data"
    },
    {
     "data": {
      "application/vnd.jupyter.widget-view+json": {
       "model_id": "4251993a01a549f7a07a2ff287cf0b8c",
       "version_major": 2,
       "version_minor": 0
      },
      "text/plain": [
       "BackLeft:   0%|          | 0/50 [00:00<?, ?it/s]"
      ]
     },
     "metadata": {},
     "output_type": "display_data"
    },
    {
     "data": {
      "application/vnd.jupyter.widget-view+json": {
       "model_id": "b1480940dacf41338501ffb6962d7f7a",
       "version_major": 2,
       "version_minor": 0
      },
      "text/plain": [
       "BackRight:   0%|          | 0/50 [00:00<?, ?it/s]"
      ]
     },
     "metadata": {},
     "output_type": "display_data"
    },
    {
     "data": {
      "application/vnd.jupyter.widget-view+json": {
       "model_id": "0a78cf85efa64865b54a75219dcaf5c0",
       "version_major": 2,
       "version_minor": 0
      },
      "text/plain": [
       "FrontLeft:   0%|          | 0/50 [00:00<?, ?it/s]"
      ]
     },
     "metadata": {},
     "output_type": "display_data"
    },
    {
     "data": {
      "application/vnd.jupyter.widget-view+json": {
       "model_id": "7bbb762335194078909a767859d97fbd",
       "version_major": 2,
       "version_minor": 0
      },
      "text/plain": [
       "FrontRight:   0%|          | 0/50 [00:00<?, ?it/s]"
      ]
     },
     "metadata": {},
     "output_type": "display_data"
    },
    {
     "data": {
      "application/vnd.jupyter.widget-view+json": {
       "model_id": "2afc915ddc294eaa87fc00f1718edfca",
       "version_major": 2,
       "version_minor": 0
      },
      "text/plain": [
       "Top:   0%|          | 0/50 [00:00<?, ?it/s]"
      ]
     },
     "metadata": {},
     "output_type": "display_data"
    },
    {
     "data": {
      "application/vnd.jupyter.widget-view+json": {
       "model_id": "",
       "version_major": 2,
       "version_minor": 0
      },
      "text/plain": [
       "copying images from 400_frames_midspine:   0%|          | 0/14 [00:00<?, ?it/s]"
      ]
     },
     "metadata": {},
     "output_type": "display_data"
    },
    {
     "data": {
      "application/vnd.jupyter.widget-view+json": {
       "model_id": "e45bba3ab1024109a91cc15ef4be254e",
       "version_major": 2,
       "version_minor": 0
      },
      "text/plain": [
       "BB:   0%|          | 0/78 [00:00<?, ?it/s]"
      ]
     },
     "metadata": {},
     "output_type": "display_data"
    },
    {
     "data": {
      "application/vnd.jupyter.widget-view+json": {
       "model_id": "570cf286d8b84c04a9a39adbe3df60a2",
       "version_major": 2,
       "version_minor": 0
      },
      "text/plain": [
       "BL:   0%|          | 0/78 [00:00<?, ?it/s]"
      ]
     },
     "metadata": {},
     "output_type": "display_data"
    },
    {
     "data": {
      "application/vnd.jupyter.widget-view+json": {
       "model_id": "58b13cd6882047b996dbfaba5ed8d0e9",
       "version_major": 2,
       "version_minor": 0
      },
      "text/plain": [
       "BR:   0%|          | 0/78 [00:00<?, ?it/s]"
      ]
     },
     "metadata": {},
     "output_type": "display_data"
    },
    {
     "data": {
      "application/vnd.jupyter.widget-view+json": {
       "model_id": "20b30d14049b40eeac18484cc2006084",
       "version_major": 2,
       "version_minor": 0
      },
      "text/plain": [
       "FB:   0%|          | 0/78 [00:00<?, ?it/s]"
      ]
     },
     "metadata": {},
     "output_type": "display_data"
    },
    {
     "data": {
      "application/vnd.jupyter.widget-view+json": {
       "model_id": "f8df71a2fc884bed909f0ab2e4296039",
       "version_major": 2,
       "version_minor": 0
      },
      "text/plain": [
       "FL:   0%|          | 0/78 [00:00<?, ?it/s]"
      ]
     },
     "metadata": {},
     "output_type": "display_data"
    },
    {
     "data": {
      "application/vnd.jupyter.widget-view+json": {
       "model_id": "3dc3da686f064122a74b8e528f5fdcc5",
       "version_major": 2,
       "version_minor": 0
      },
      "text/plain": [
       "FR:   0%|          | 0/78 [00:00<?, ?it/s]"
      ]
     },
     "metadata": {},
     "output_type": "display_data"
    },
    {
     "data": {
      "application/vnd.jupyter.widget-view+json": {
       "model_id": "da26a2a2423b485cbb069fbb6333e7b7",
       "version_major": 2,
       "version_minor": 0
      },
      "text/plain": [
       "T:   0%|          | 0/78 [00:00<?, ?it/s]"
      ]
     },
     "metadata": {},
     "output_type": "display_data"
    },
    {
     "data": {
      "application/vnd.jupyter.widget-view+json": {
       "model_id": "ba07ecbf5f42423aa25e8ce7b75720ac",
       "version_major": 2,
       "version_minor": 0
      },
      "text/plain": [
       "BB:   0%|          | 0/4 [00:00<?, ?it/s]"
      ]
     },
     "metadata": {},
     "output_type": "display_data"
    },
    {
     "data": {
      "application/vnd.jupyter.widget-view+json": {
       "model_id": "ba97a0efbe164742a6073b1711999fb9",
       "version_major": 2,
       "version_minor": 0
      },
      "text/plain": [
       "BL:   0%|          | 0/4 [00:00<?, ?it/s]"
      ]
     },
     "metadata": {},
     "output_type": "display_data"
    },
    {
     "data": {
      "application/vnd.jupyter.widget-view+json": {
       "model_id": "67d5b7d0561b4eb182eb38241eac6312",
       "version_major": 2,
       "version_minor": 0
      },
      "text/plain": [
       "BR:   0%|          | 0/4 [00:00<?, ?it/s]"
      ]
     },
     "metadata": {},
     "output_type": "display_data"
    },
    {
     "data": {
      "application/vnd.jupyter.widget-view+json": {
       "model_id": "6d74412a575c4222bb4adbf3f5047155",
       "version_major": 2,
       "version_minor": 0
      },
      "text/plain": [
       "FB:   0%|          | 0/4 [00:00<?, ?it/s]"
      ]
     },
     "metadata": {},
     "output_type": "display_data"
    },
    {
     "data": {
      "application/vnd.jupyter.widget-view+json": {
       "model_id": "5fe72a013ac54ede95b465bc9106610d",
       "version_major": 2,
       "version_minor": 0
      },
      "text/plain": [
       "FL:   0%|          | 0/4 [00:00<?, ?it/s]"
      ]
     },
     "metadata": {},
     "output_type": "display_data"
    },
    {
     "data": {
      "application/vnd.jupyter.widget-view+json": {
       "model_id": "15ec87840c2b44d2ae3f27ba11393105",
       "version_major": 2,
       "version_minor": 0
      },
      "text/plain": [
       "FR:   0%|          | 0/4 [00:00<?, ?it/s]"
      ]
     },
     "metadata": {},
     "output_type": "display_data"
    },
    {
     "data": {
      "application/vnd.jupyter.widget-view+json": {
       "model_id": "6807bba0e3f8488b97fff50f67d706a7",
       "version_major": 2,
       "version_minor": 0
      },
      "text/plain": [
       "T:   0%|          | 0/4 [00:00<?, ?it/s]"
      ]
     },
     "metadata": {},
     "output_type": "display_data"
    },
    {
     "data": {
      "application/vnd.jupyter.widget-view+json": {
       "model_id": "",
       "version_major": 2,
       "version_minor": 0
      },
      "text/plain": [
       "copying images from rat_6cam_tmp:   0%|          | 0/6 [00:00<?, ?it/s]"
      ]
     },
     "metadata": {},
     "output_type": "display_data"
    },
    {
     "data": {
      "application/vnd.jupyter.widget-view+json": {
       "model_id": "",
       "version_major": 2,
       "version_minor": 0
      },
      "text/plain": [
       "bottom:   0%|          | 0/249 [00:00<?, ?it/s]"
      ]
     },
     "metadata": {},
     "output_type": "display_data"
    },
    {
     "data": {
      "application/vnd.jupyter.widget-view+json": {
       "model_id": "",
       "version_major": 2,
       "version_minor": 0
      },
      "text/plain": [
       "side1:   0%|          | 0/249 [00:00<?, ?it/s]"
      ]
     },
     "metadata": {},
     "output_type": "display_data"
    },
    {
     "data": {
      "application/vnd.jupyter.widget-view+json": {
       "model_id": "",
       "version_major": 2,
       "version_minor": 0
      },
      "text/plain": [
       "side2:   0%|          | 0/249 [00:00<?, ?it/s]"
      ]
     },
     "metadata": {},
     "output_type": "display_data"
    },
    {
     "data": {
      "application/vnd.jupyter.widget-view+json": {
       "model_id": "",
       "version_major": 2,
       "version_minor": 0
      },
      "text/plain": [
       "side3:   0%|          | 0/249 [00:00<?, ?it/s]"
      ]
     },
     "metadata": {},
     "output_type": "display_data"
    },
    {
     "data": {
      "application/vnd.jupyter.widget-view+json": {
       "model_id": "",
       "version_major": 2,
       "version_minor": 0
      },
      "text/plain": [
       "side4:   0%|          | 0/249 [00:00<?, ?it/s]"
      ]
     },
     "metadata": {},
     "output_type": "display_data"
    },
    {
     "data": {
      "application/vnd.jupyter.widget-view+json": {
       "model_id": "",
       "version_major": 2,
       "version_minor": 0
      },
      "text/plain": [
       "top:   0%|          | 0/249 [00:00<?, ?it/s]"
      ]
     },
     "metadata": {},
     "output_type": "display_data"
    },
    {
     "data": {
      "application/vnd.jupyter.widget-view+json": {
       "model_id": "",
       "version_major": 2,
       "version_minor": 0
      },
      "text/plain": [
       "copying images from 20240314-sample-neuropixels-clear-100:   0%|          | 0/6 [00:00<?, ?it/s]"
      ]
     },
     "metadata": {},
     "output_type": "display_data"
    },
    {
     "data": {
      "application/vnd.jupyter.widget-view+json": {
       "model_id": "",
       "version_major": 2,
       "version_minor": 0
      },
      "text/plain": [
       "BackLeft:   0%|          | 0/100 [00:00<?, ?it/s]"
      ]
     },
     "metadata": {},
     "output_type": "display_data"
    },
    {
     "data": {
      "application/vnd.jupyter.widget-view+json": {
       "model_id": "",
       "version_major": 2,
       "version_minor": 0
      },
      "text/plain": [
       "BackRight:   0%|          | 0/100 [00:00<?, ?it/s]"
      ]
     },
     "metadata": {},
     "output_type": "display_data"
    },
    {
     "data": {
      "application/vnd.jupyter.widget-view+json": {
       "model_id": "",
       "version_major": 2,
       "version_minor": 0
      },
      "text/plain": [
       "BackTop:   0%|          | 0/100 [00:00<?, ?it/s]"
      ]
     },
     "metadata": {},
     "output_type": "display_data"
    },
    {
     "data": {
      "application/vnd.jupyter.widget-view+json": {
       "model_id": "",
       "version_major": 2,
       "version_minor": 0
      },
      "text/plain": [
       "FrontLeft:   0%|          | 0/100 [00:00<?, ?it/s]"
      ]
     },
     "metadata": {},
     "output_type": "display_data"
    },
    {
     "data": {
      "application/vnd.jupyter.widget-view+json": {
       "model_id": "",
       "version_major": 2,
       "version_minor": 0
      },
      "text/plain": [
       "FrontRight:   0%|          | 0/100 [00:00<?, ?it/s]"
      ]
     },
     "metadata": {},
     "output_type": "display_data"
    },
    {
     "data": {
      "application/vnd.jupyter.widget-view+json": {
       "model_id": "",
       "version_major": 2,
       "version_minor": 0
      },
      "text/plain": [
       "FrontTop:   0%|          | 0/100 [00:00<?, ?it/s]"
      ]
     },
     "metadata": {},
     "output_type": "display_data"
    },
    {
     "data": {
      "application/vnd.jupyter.widget-view+json": {
       "model_id": "",
       "version_major": 2,
       "version_minor": 0
      },
      "text/plain": [
       "copying images from 20240110-nacho-LOLO:   0%|          | 0/6 [00:00<?, ?it/s]"
      ]
     },
     "metadata": {},
     "output_type": "display_data"
    },
    {
     "data": {
      "application/vnd.jupyter.widget-view+json": {
       "model_id": "",
       "version_major": 2,
       "version_minor": 0
      },
      "text/plain": [
       "BackLeft:   0%|          | 0/50 [00:00<?, ?it/s]"
      ]
     },
     "metadata": {},
     "output_type": "display_data"
    },
    {
     "data": {
      "application/vnd.jupyter.widget-view+json": {
       "model_id": "",
       "version_major": 2,
       "version_minor": 0
      },
      "text/plain": [
       "BackRight:   0%|          | 0/50 [00:00<?, ?it/s]"
      ]
     },
     "metadata": {},
     "output_type": "display_data"
    },
    {
     "data": {
      "application/vnd.jupyter.widget-view+json": {
       "model_id": "",
       "version_major": 2,
       "version_minor": 0
      },
      "text/plain": [
       "Bottom:   0%|          | 0/50 [00:00<?, ?it/s]"
      ]
     },
     "metadata": {},
     "output_type": "display_data"
    },
    {
     "data": {
      "application/vnd.jupyter.widget-view+json": {
       "model_id": "",
       "version_major": 2,
       "version_minor": 0
      },
      "text/plain": [
       "FrontLeft:   0%|          | 0/50 [00:00<?, ?it/s]"
      ]
     },
     "metadata": {},
     "output_type": "display_data"
    },
    {
     "data": {
      "application/vnd.jupyter.widget-view+json": {
       "model_id": "",
       "version_major": 2,
       "version_minor": 0
      },
      "text/plain": [
       "FrontRight:   0%|          | 0/50 [00:00<?, ?it/s]"
      ]
     },
     "metadata": {},
     "output_type": "display_data"
    },
    {
     "data": {
      "application/vnd.jupyter.widget-view+json": {
       "model_id": "",
       "version_major": 2,
       "version_minor": 0
      },
      "text/plain": [
       "Top:   0%|          | 0/50 [00:00<?, ?it/s]"
      ]
     },
     "metadata": {},
     "output_type": "display_data"
    },
    {
     "data": {
      "application/vnd.jupyter.widget-view+json": {
       "model_id": "",
       "version_major": 2,
       "version_minor": 0
      },
      "text/plain": [
       "copying images from Gerbil2_bw_midspine:   0%|          | 0/10 [00:00<?, ?it/s]"
      ]
     },
     "metadata": {},
     "output_type": "display_data"
    },
    {
     "data": {
      "application/vnd.jupyter.widget-view+json": {
       "model_id": "",
       "version_major": 2,
       "version_minor": 0
      },
      "text/plain": [
       "Camera_B:   0%|          | 0/75 [00:00<?, ?it/s]"
      ]
     },
     "metadata": {},
     "output_type": "display_data"
    },
    {
     "data": {
      "application/vnd.jupyter.widget-view+json": {
       "model_id": "",
       "version_major": 2,
       "version_minor": 0
      },
      "text/plain": [
       "Camera_BB:   0%|          | 0/75 [00:00<?, ?it/s]"
      ]
     },
     "metadata": {},
     "output_type": "display_data"
    },
    {
     "data": {
      "application/vnd.jupyter.widget-view+json": {
       "model_id": "",
       "version_major": 2,
       "version_minor": 0
      },
      "text/plain": [
       "Camera_BT:   0%|          | 0/75 [00:00<?, ?it/s]"
      ]
     },
     "metadata": {},
     "output_type": "display_data"
    },
    {
     "data": {
      "application/vnd.jupyter.widget-view+json": {
       "model_id": "",
       "version_major": 2,
       "version_minor": 0
      },
      "text/plain": [
       "Camera_FB:   0%|          | 0/75 [00:00<?, ?it/s]"
      ]
     },
     "metadata": {},
     "output_type": "display_data"
    },
    {
     "data": {
      "application/vnd.jupyter.widget-view+json": {
       "model_id": "",
       "version_major": 2,
       "version_minor": 0
      },
      "text/plain": [
       "Camera_FT:   0%|          | 0/75 [00:00<?, ?it/s]"
      ]
     },
     "metadata": {},
     "output_type": "display_data"
    },
    {
     "data": {
      "application/vnd.jupyter.widget-view+json": {
       "model_id": "",
       "version_major": 2,
       "version_minor": 0
      },
      "text/plain": [
       "Camera_LB:   0%|          | 0/75 [00:00<?, ?it/s]"
      ]
     },
     "metadata": {},
     "output_type": "display_data"
    },
    {
     "data": {
      "application/vnd.jupyter.widget-view+json": {
       "model_id": "",
       "version_major": 2,
       "version_minor": 0
      },
      "text/plain": [
       "Camera_LT:   0%|          | 0/75 [00:00<?, ?it/s]"
      ]
     },
     "metadata": {},
     "output_type": "display_data"
    },
    {
     "data": {
      "application/vnd.jupyter.widget-view+json": {
       "model_id": "",
       "version_major": 2,
       "version_minor": 0
      },
      "text/plain": [
       "Camera_RB:   0%|          | 0/75 [00:00<?, ?it/s]"
      ]
     },
     "metadata": {},
     "output_type": "display_data"
    },
    {
     "data": {
      "application/vnd.jupyter.widget-view+json": {
       "model_id": "",
       "version_major": 2,
       "version_minor": 0
      },
      "text/plain": [
       "Camera_RT:   0%|          | 0/75 [00:00<?, ?it/s]"
      ]
     },
     "metadata": {},
     "output_type": "display_data"
    },
    {
     "data": {
      "application/vnd.jupyter.widget-view+json": {
       "model_id": "",
       "version_major": 2,
       "version_minor": 0
      },
      "text/plain": [
       "Camera_T:   0%|          | 0/75 [00:00<?, ?it/s]"
      ]
     },
     "metadata": {},
     "output_type": "display_data"
    },
    {
     "data": {
      "application/vnd.jupyter.widget-view+json": {
       "model_id": "",
       "version_major": 2,
       "version_minor": 0
      },
      "text/plain": [
       "copying images from Mouse_bw_midspine:   0%|          | 0/30 [00:00<?, ?it/s]"
      ]
     },
     "metadata": {},
     "output_type": "display_data"
    },
    {
     "data": {
      "application/vnd.jupyter.widget-view+json": {
       "model_id": "",
       "version_major": 2,
       "version_minor": 0
      },
      "text/plain": [
       "Camera_B:   0%|          | 0/38 [00:00<?, ?it/s]"
      ]
     },
     "metadata": {},
     "output_type": "display_data"
    },
    {
     "data": {
      "application/vnd.jupyter.widget-view+json": {
       "model_id": "",
       "version_major": 2,
       "version_minor": 0
      },
      "text/plain": [
       "Camera_BB:   0%|          | 0/38 [00:00<?, ?it/s]"
      ]
     },
     "metadata": {},
     "output_type": "display_data"
    },
    {
     "data": {
      "application/vnd.jupyter.widget-view+json": {
       "model_id": "",
       "version_major": 2,
       "version_minor": 0
      },
      "text/plain": [
       "Camera_BT:   0%|          | 0/38 [00:00<?, ?it/s]"
      ]
     },
     "metadata": {},
     "output_type": "display_data"
    },
    {
     "data": {
      "application/vnd.jupyter.widget-view+json": {
       "model_id": "",
       "version_major": 2,
       "version_minor": 0
      },
      "text/plain": [
       "Camera_FB:   0%|          | 0/38 [00:00<?, ?it/s]"
      ]
     },
     "metadata": {},
     "output_type": "display_data"
    },
    {
     "data": {
      "application/vnd.jupyter.widget-view+json": {
       "model_id": "",
       "version_major": 2,
       "version_minor": 0
      },
      "text/plain": [
       "Camera_FT:   0%|          | 0/38 [00:00<?, ?it/s]"
      ]
     },
     "metadata": {},
     "output_type": "display_data"
    },
    {
     "data": {
      "application/vnd.jupyter.widget-view+json": {
       "model_id": "",
       "version_major": 2,
       "version_minor": 0
      },
      "text/plain": [
       "Camera_LB:   0%|          | 0/38 [00:00<?, ?it/s]"
      ]
     },
     "metadata": {},
     "output_type": "display_data"
    },
    {
     "data": {
      "application/vnd.jupyter.widget-view+json": {
       "model_id": "",
       "version_major": 2,
       "version_minor": 0
      },
      "text/plain": [
       "Camera_LT:   0%|          | 0/38 [00:00<?, ?it/s]"
      ]
     },
     "metadata": {},
     "output_type": "display_data"
    },
    {
     "data": {
      "application/vnd.jupyter.widget-view+json": {
       "model_id": "",
       "version_major": 2,
       "version_minor": 0
      },
      "text/plain": [
       "Camera_RB:   0%|          | 0/38 [00:00<?, ?it/s]"
      ]
     },
     "metadata": {},
     "output_type": "display_data"
    },
    {
     "data": {
      "application/vnd.jupyter.widget-view+json": {
       "model_id": "",
       "version_major": 2,
       "version_minor": 0
      },
      "text/plain": [
       "Camera_RT:   0%|          | 0/38 [00:00<?, ?it/s]"
      ]
     },
     "metadata": {},
     "output_type": "display_data"
    },
    {
     "data": {
      "application/vnd.jupyter.widget-view+json": {
       "model_id": "",
       "version_major": 2,
       "version_minor": 0
      },
      "text/plain": [
       "Camera_T:   0%|          | 0/38 [00:00<?, ?it/s]"
      ]
     },
     "metadata": {},
     "output_type": "display_data"
    },
    {
     "data": {
      "application/vnd.jupyter.widget-view+json": {
       "model_id": "",
       "version_major": 2,
       "version_minor": 0
      },
      "text/plain": [
       "Camera_B:   0%|          | 0/60 [00:00<?, ?it/s]"
      ]
     },
     "metadata": {},
     "output_type": "display_data"
    },
    {
     "data": {
      "application/vnd.jupyter.widget-view+json": {
       "model_id": "",
       "version_major": 2,
       "version_minor": 0
      },
      "text/plain": [
       "Camera_BB:   0%|          | 0/60 [00:00<?, ?it/s]"
      ]
     },
     "metadata": {},
     "output_type": "display_data"
    },
    {
     "data": {
      "application/vnd.jupyter.widget-view+json": {
       "model_id": "",
       "version_major": 2,
       "version_minor": 0
      },
      "text/plain": [
       "Camera_BT:   0%|          | 0/60 [00:00<?, ?it/s]"
      ]
     },
     "metadata": {},
     "output_type": "display_data"
    },
    {
     "data": {
      "application/vnd.jupyter.widget-view+json": {
       "model_id": "",
       "version_major": 2,
       "version_minor": 0
      },
      "text/plain": [
       "Camera_FB:   0%|          | 0/60 [00:00<?, ?it/s]"
      ]
     },
     "metadata": {},
     "output_type": "display_data"
    },
    {
     "data": {
      "application/vnd.jupyter.widget-view+json": {
       "model_id": "",
       "version_major": 2,
       "version_minor": 0
      },
      "text/plain": [
       "Camera_FT:   0%|          | 0/60 [00:00<?, ?it/s]"
      ]
     },
     "metadata": {},
     "output_type": "display_data"
    },
    {
     "data": {
      "application/vnd.jupyter.widget-view+json": {
       "model_id": "",
       "version_major": 2,
       "version_minor": 0
      },
      "text/plain": [
       "Camera_LB:   0%|          | 0/60 [00:00<?, ?it/s]"
      ]
     },
     "metadata": {},
     "output_type": "display_data"
    },
    {
     "data": {
      "application/vnd.jupyter.widget-view+json": {
       "model_id": "",
       "version_major": 2,
       "version_minor": 0
      },
      "text/plain": [
       "Camera_LT:   0%|          | 0/60 [00:00<?, ?it/s]"
      ]
     },
     "metadata": {},
     "output_type": "display_data"
    },
    {
     "data": {
      "application/vnd.jupyter.widget-view+json": {
       "model_id": "",
       "version_major": 2,
       "version_minor": 0
      },
      "text/plain": [
       "Camera_RB:   0%|          | 0/60 [00:00<?, ?it/s]"
      ]
     },
     "metadata": {},
     "output_type": "display_data"
    },
    {
     "data": {
      "application/vnd.jupyter.widget-view+json": {
       "model_id": "",
       "version_major": 2,
       "version_minor": 0
      },
      "text/plain": [
       "Camera_RT:   0%|          | 0/60 [00:00<?, ?it/s]"
      ]
     },
     "metadata": {},
     "output_type": "display_data"
    },
    {
     "data": {
      "application/vnd.jupyter.widget-view+json": {
       "model_id": "",
       "version_major": 2,
       "version_minor": 0
      },
      "text/plain": [
       "Camera_T:   0%|          | 0/60 [00:00<?, ?it/s]"
      ]
     },
     "metadata": {},
     "output_type": "display_data"
    },
    {
     "data": {
      "application/vnd.jupyter.widget-view+json": {
       "model_id": "",
       "version_major": 2,
       "version_minor": 0
      },
      "text/plain": [
       "Camera_B:   0%|          | 0/60 [00:00<?, ?it/s]"
      ]
     },
     "metadata": {},
     "output_type": "display_data"
    },
    {
     "data": {
      "application/vnd.jupyter.widget-view+json": {
       "model_id": "",
       "version_major": 2,
       "version_minor": 0
      },
      "text/plain": [
       "Camera_BB:   0%|          | 0/60 [00:00<?, ?it/s]"
      ]
     },
     "metadata": {},
     "output_type": "display_data"
    },
    {
     "data": {
      "application/vnd.jupyter.widget-view+json": {
       "model_id": "",
       "version_major": 2,
       "version_minor": 0
      },
      "text/plain": [
       "Camera_BT:   0%|          | 0/60 [00:00<?, ?it/s]"
      ]
     },
     "metadata": {},
     "output_type": "display_data"
    },
    {
     "data": {
      "application/vnd.jupyter.widget-view+json": {
       "model_id": "",
       "version_major": 2,
       "version_minor": 0
      },
      "text/plain": [
       "Camera_FB:   0%|          | 0/60 [00:00<?, ?it/s]"
      ]
     },
     "metadata": {},
     "output_type": "display_data"
    },
    {
     "data": {
      "application/vnd.jupyter.widget-view+json": {
       "model_id": "",
       "version_major": 2,
       "version_minor": 0
      },
      "text/plain": [
       "Camera_FT:   0%|          | 0/60 [00:00<?, ?it/s]"
      ]
     },
     "metadata": {},
     "output_type": "display_data"
    },
    {
     "data": {
      "application/vnd.jupyter.widget-view+json": {
       "model_id": "",
       "version_major": 2,
       "version_minor": 0
      },
      "text/plain": [
       "Camera_LB:   0%|          | 0/60 [00:00<?, ?it/s]"
      ]
     },
     "metadata": {},
     "output_type": "display_data"
    },
    {
     "data": {
      "application/vnd.jupyter.widget-view+json": {
       "model_id": "",
       "version_major": 2,
       "version_minor": 0
      },
      "text/plain": [
       "Camera_LT:   0%|          | 0/60 [00:00<?, ?it/s]"
      ]
     },
     "metadata": {},
     "output_type": "display_data"
    },
    {
     "data": {
      "application/vnd.jupyter.widget-view+json": {
       "model_id": "",
       "version_major": 2,
       "version_minor": 0
      },
      "text/plain": [
       "Camera_RB:   0%|          | 0/60 [00:00<?, ?it/s]"
      ]
     },
     "metadata": {},
     "output_type": "display_data"
    },
    {
     "data": {
      "application/vnd.jupyter.widget-view+json": {
       "model_id": "",
       "version_major": 2,
       "version_minor": 0
      },
      "text/plain": [
       "Camera_RT:   0%|          | 0/60 [00:00<?, ?it/s]"
      ]
     },
     "metadata": {},
     "output_type": "display_data"
    },
    {
     "data": {
      "application/vnd.jupyter.widget-view+json": {
       "model_id": "",
       "version_major": 2,
       "version_minor": 0
      },
      "text/plain": [
       "Camera_T:   0%|          | 0/60 [00:00<?, ?it/s]"
      ]
     },
     "metadata": {},
     "output_type": "display_data"
    },
    {
     "data": {
      "application/vnd.jupyter.widget-view+json": {
       "model_id": "",
       "version_major": 2,
       "version_minor": 0
      },
      "text/plain": [
       "copying images from Rat_Dataset_bw_midspine:   0%|          | 0/40 [00:00<?, ?it/s]"
      ]
     },
     "metadata": {},
     "output_type": "display_data"
    },
    {
     "data": {
      "application/vnd.jupyter.widget-view+json": {
       "model_id": "",
       "version_major": 2,
       "version_minor": 0
      },
      "text/plain": [
       "Camera_B:   0%|          | 0/50 [00:00<?, ?it/s]"
      ]
     },
     "metadata": {},
     "output_type": "display_data"
    },
    {
     "data": {
      "application/vnd.jupyter.widget-view+json": {
       "model_id": "",
       "version_major": 2,
       "version_minor": 0
      },
      "text/plain": [
       "Camera_BB:   0%|          | 0/50 [00:00<?, ?it/s]"
      ]
     },
     "metadata": {},
     "output_type": "display_data"
    },
    {
     "data": {
      "application/vnd.jupyter.widget-view+json": {
       "model_id": "",
       "version_major": 2,
       "version_minor": 0
      },
      "text/plain": [
       "Camera_BT:   0%|          | 0/50 [00:00<?, ?it/s]"
      ]
     },
     "metadata": {},
     "output_type": "display_data"
    },
    {
     "data": {
      "application/vnd.jupyter.widget-view+json": {
       "model_id": "",
       "version_major": 2,
       "version_minor": 0
      },
      "text/plain": [
       "Camera_FB:   0%|          | 0/50 [00:00<?, ?it/s]"
      ]
     },
     "metadata": {},
     "output_type": "display_data"
    },
    {
     "data": {
      "application/vnd.jupyter.widget-view+json": {
       "model_id": "",
       "version_major": 2,
       "version_minor": 0
      },
      "text/plain": [
       "Camera_FT:   0%|          | 0/50 [00:00<?, ?it/s]"
      ]
     },
     "metadata": {},
     "output_type": "display_data"
    },
    {
     "data": {
      "application/vnd.jupyter.widget-view+json": {
       "model_id": "",
       "version_major": 2,
       "version_minor": 0
      },
      "text/plain": [
       "Camera_LB:   0%|          | 0/50 [00:00<?, ?it/s]"
      ]
     },
     "metadata": {},
     "output_type": "display_data"
    },
    {
     "data": {
      "application/vnd.jupyter.widget-view+json": {
       "model_id": "",
       "version_major": 2,
       "version_minor": 0
      },
      "text/plain": [
       "Camera_LT:   0%|          | 0/50 [00:00<?, ?it/s]"
      ]
     },
     "metadata": {},
     "output_type": "display_data"
    },
    {
     "data": {
      "application/vnd.jupyter.widget-view+json": {
       "model_id": "",
       "version_major": 2,
       "version_minor": 0
      },
      "text/plain": [
       "Camera_RB:   0%|          | 0/50 [00:00<?, ?it/s]"
      ]
     },
     "metadata": {},
     "output_type": "display_data"
    },
    {
     "data": {
      "application/vnd.jupyter.widget-view+json": {
       "model_id": "",
       "version_major": 2,
       "version_minor": 0
      },
      "text/plain": [
       "Camera_RT:   0%|          | 0/50 [00:00<?, ?it/s]"
      ]
     },
     "metadata": {},
     "output_type": "display_data"
    },
    {
     "data": {
      "application/vnd.jupyter.widget-view+json": {
       "model_id": "",
       "version_major": 2,
       "version_minor": 0
      },
      "text/plain": [
       "Camera_T:   0%|          | 0/50 [00:00<?, ?it/s]"
      ]
     },
     "metadata": {},
     "output_type": "display_data"
    },
    {
     "data": {
      "application/vnd.jupyter.widget-view+json": {
       "model_id": "",
       "version_major": 2,
       "version_minor": 0
      },
      "text/plain": [
       "Camera_B:   0%|          | 0/100 [00:00<?, ?it/s]"
      ]
     },
     "metadata": {},
     "output_type": "display_data"
    },
    {
     "data": {
      "application/vnd.jupyter.widget-view+json": {
       "model_id": "",
       "version_major": 2,
       "version_minor": 0
      },
      "text/plain": [
       "Camera_BB:   0%|          | 0/100 [00:00<?, ?it/s]"
      ]
     },
     "metadata": {},
     "output_type": "display_data"
    },
    {
     "data": {
      "application/vnd.jupyter.widget-view+json": {
       "model_id": "",
       "version_major": 2,
       "version_minor": 0
      },
      "text/plain": [
       "Camera_BT:   0%|          | 0/100 [00:00<?, ?it/s]"
      ]
     },
     "metadata": {},
     "output_type": "display_data"
    },
    {
     "data": {
      "application/vnd.jupyter.widget-view+json": {
       "model_id": "",
       "version_major": 2,
       "version_minor": 0
      },
      "text/plain": [
       "Camera_FB:   0%|          | 0/100 [00:00<?, ?it/s]"
      ]
     },
     "metadata": {},
     "output_type": "display_data"
    },
    {
     "data": {
      "application/vnd.jupyter.widget-view+json": {
       "model_id": "",
       "version_major": 2,
       "version_minor": 0
      },
      "text/plain": [
       "Camera_FT:   0%|          | 0/100 [00:00<?, ?it/s]"
      ]
     },
     "metadata": {},
     "output_type": "display_data"
    },
    {
     "data": {
      "application/vnd.jupyter.widget-view+json": {
       "model_id": "",
       "version_major": 2,
       "version_minor": 0
      },
      "text/plain": [
       "Camera_LB:   0%|          | 0/100 [00:00<?, ?it/s]"
      ]
     },
     "metadata": {},
     "output_type": "display_data"
    },
    {
     "data": {
      "application/vnd.jupyter.widget-view+json": {
       "model_id": "",
       "version_major": 2,
       "version_minor": 0
      },
      "text/plain": [
       "Camera_LT:   0%|          | 0/100 [00:00<?, ?it/s]"
      ]
     },
     "metadata": {},
     "output_type": "display_data"
    },
    {
     "data": {
      "application/vnd.jupyter.widget-view+json": {
       "model_id": "",
       "version_major": 2,
       "version_minor": 0
      },
      "text/plain": [
       "Camera_RB:   0%|          | 0/100 [00:00<?, ?it/s]"
      ]
     },
     "metadata": {},
     "output_type": "display_data"
    },
    {
     "data": {
      "application/vnd.jupyter.widget-view+json": {
       "model_id": "",
       "version_major": 2,
       "version_minor": 0
      },
      "text/plain": [
       "Camera_RT:   0%|          | 0/100 [00:00<?, ?it/s]"
      ]
     },
     "metadata": {},
     "output_type": "display_data"
    },
    {
     "data": {
      "application/vnd.jupyter.widget-view+json": {
       "model_id": "",
       "version_major": 2,
       "version_minor": 0
      },
      "text/plain": [
       "Camera_T:   0%|          | 0/100 [00:00<?, ?it/s]"
      ]
     },
     "metadata": {},
     "output_type": "display_data"
    },
    {
     "data": {
      "application/vnd.jupyter.widget-view+json": {
       "model_id": "",
       "version_major": 2,
       "version_minor": 0
      },
      "text/plain": [
       "Camera_B:   0%|          | 0/50 [00:00<?, ?it/s]"
      ]
     },
     "metadata": {},
     "output_type": "display_data"
    },
    {
     "data": {
      "application/vnd.jupyter.widget-view+json": {
       "model_id": "",
       "version_major": 2,
       "version_minor": 0
      },
      "text/plain": [
       "Camera_BB:   0%|          | 0/50 [00:00<?, ?it/s]"
      ]
     },
     "metadata": {},
     "output_type": "display_data"
    },
    {
     "data": {
      "application/vnd.jupyter.widget-view+json": {
       "model_id": "",
       "version_major": 2,
       "version_minor": 0
      },
      "text/plain": [
       "Camera_BT:   0%|          | 0/50 [00:00<?, ?it/s]"
      ]
     },
     "metadata": {},
     "output_type": "display_data"
    },
    {
     "data": {
      "application/vnd.jupyter.widget-view+json": {
       "model_id": "",
       "version_major": 2,
       "version_minor": 0
      },
      "text/plain": [
       "Camera_FB:   0%|          | 0/50 [00:00<?, ?it/s]"
      ]
     },
     "metadata": {},
     "output_type": "display_data"
    },
    {
     "data": {
      "application/vnd.jupyter.widget-view+json": {
       "model_id": "",
       "version_major": 2,
       "version_minor": 0
      },
      "text/plain": [
       "Camera_FT:   0%|          | 0/50 [00:00<?, ?it/s]"
      ]
     },
     "metadata": {},
     "output_type": "display_data"
    },
    {
     "data": {
      "application/vnd.jupyter.widget-view+json": {
       "model_id": "",
       "version_major": 2,
       "version_minor": 0
      },
      "text/plain": [
       "Camera_LB:   0%|          | 0/50 [00:00<?, ?it/s]"
      ]
     },
     "metadata": {},
     "output_type": "display_data"
    },
    {
     "data": {
      "application/vnd.jupyter.widget-view+json": {
       "model_id": "",
       "version_major": 2,
       "version_minor": 0
      },
      "text/plain": [
       "Camera_LT:   0%|          | 0/50 [00:00<?, ?it/s]"
      ]
     },
     "metadata": {},
     "output_type": "display_data"
    },
    {
     "data": {
      "application/vnd.jupyter.widget-view+json": {
       "model_id": "",
       "version_major": 2,
       "version_minor": 0
      },
      "text/plain": [
       "Camera_RB:   0%|          | 0/50 [00:00<?, ?it/s]"
      ]
     },
     "metadata": {},
     "output_type": "display_data"
    },
    {
     "data": {
      "application/vnd.jupyter.widget-view+json": {
       "model_id": "",
       "version_major": 2,
       "version_minor": 0
      },
      "text/plain": [
       "Camera_RT:   0%|          | 0/50 [00:00<?, ?it/s]"
      ]
     },
     "metadata": {},
     "output_type": "display_data"
    },
    {
     "data": {
      "application/vnd.jupyter.widget-view+json": {
       "model_id": "",
       "version_major": 2,
       "version_minor": 0
      },
      "text/plain": [
       "Camera_T:   0%|          | 0/50 [00:00<?, ?it/s]"
      ]
     },
     "metadata": {},
     "output_type": "display_data"
    },
    {
     "data": {
      "application/vnd.jupyter.widget-view+json": {
       "model_id": "",
       "version_major": 2,
       "version_minor": 0
      },
      "text/plain": [
       "Camera_B:   0%|          | 0/100 [00:00<?, ?it/s]"
      ]
     },
     "metadata": {},
     "output_type": "display_data"
    },
    {
     "data": {
      "application/vnd.jupyter.widget-view+json": {
       "model_id": "",
       "version_major": 2,
       "version_minor": 0
      },
      "text/plain": [
       "Camera_BB:   0%|          | 0/100 [00:00<?, ?it/s]"
      ]
     },
     "metadata": {},
     "output_type": "display_data"
    },
    {
     "data": {
      "application/vnd.jupyter.widget-view+json": {
       "model_id": "",
       "version_major": 2,
       "version_minor": 0
      },
      "text/plain": [
       "Camera_BT:   0%|          | 0/100 [00:00<?, ?it/s]"
      ]
     },
     "metadata": {},
     "output_type": "display_data"
    },
    {
     "data": {
      "application/vnd.jupyter.widget-view+json": {
       "model_id": "",
       "version_major": 2,
       "version_minor": 0
      },
      "text/plain": [
       "Camera_FB:   0%|          | 0/100 [00:00<?, ?it/s]"
      ]
     },
     "metadata": {},
     "output_type": "display_data"
    },
    {
     "data": {
      "application/vnd.jupyter.widget-view+json": {
       "model_id": "",
       "version_major": 2,
       "version_minor": 0
      },
      "text/plain": [
       "Camera_FT:   0%|          | 0/100 [00:00<?, ?it/s]"
      ]
     },
     "metadata": {},
     "output_type": "display_data"
    },
    {
     "data": {
      "application/vnd.jupyter.widget-view+json": {
       "model_id": "",
       "version_major": 2,
       "version_minor": 0
      },
      "text/plain": [
       "Camera_LB:   0%|          | 0/100 [00:00<?, ?it/s]"
      ]
     },
     "metadata": {},
     "output_type": "display_data"
    },
    {
     "data": {
      "application/vnd.jupyter.widget-view+json": {
       "model_id": "",
       "version_major": 2,
       "version_minor": 0
      },
      "text/plain": [
       "Camera_LT:   0%|          | 0/100 [00:00<?, ?it/s]"
      ]
     },
     "metadata": {},
     "output_type": "display_data"
    },
    {
     "data": {
      "application/vnd.jupyter.widget-view+json": {
       "model_id": "",
       "version_major": 2,
       "version_minor": 0
      },
      "text/plain": [
       "Camera_RB:   0%|          | 0/100 [00:00<?, ?it/s]"
      ]
     },
     "metadata": {},
     "output_type": "display_data"
    },
    {
     "data": {
      "application/vnd.jupyter.widget-view+json": {
       "model_id": "",
       "version_major": 2,
       "version_minor": 0
      },
      "text/plain": [
       "Camera_RT:   0%|          | 0/100 [00:00<?, ?it/s]"
      ]
     },
     "metadata": {},
     "output_type": "display_data"
    },
    {
     "data": {
      "application/vnd.jupyter.widget-view+json": {
       "model_id": "",
       "version_major": 2,
       "version_minor": 0
      },
      "text/plain": [
       "Camera_T:   0%|          | 0/100 [00:00<?, ?it/s]"
      ]
     },
     "metadata": {},
     "output_type": "display_data"
    },
    {
     "data": {
      "application/vnd.jupyter.widget-view+json": {
       "model_id": "",
       "version_major": 2,
       "version_minor": 0
      },
      "text/plain": [
       "framesets:   0%|          | 0/3212 [00:00<?, ?it/s]"
      ]
     },
     "metadata": {},
     "output_type": "display_data"
    }
   ],
   "source": [
    "tsc.run(labelling_sets=dataset_locs)"
   ]
  },
  {
   "cell_type": "code",
   "execution_count": null,
   "id": "8527294b",
   "metadata": {},
   "outputs": [],
   "source": []
  }
 ],
 "metadata": {
  "kernelspec": {
   "display_name": "Python 3 (ipykernel)",
   "language": "python",
   "name": "python3"
  },
  "language_info": {
   "codemirror_mode": {
    "name": "ipython",
    "version": 3
   },
   "file_extension": ".py",
   "mimetype": "text/x-python",
   "name": "python",
   "nbconvert_exporter": "python",
   "pygments_lexer": "ipython3",
   "version": "3.10.14"
  }
 },
 "nbformat": 4,
 "nbformat_minor": 5
}
