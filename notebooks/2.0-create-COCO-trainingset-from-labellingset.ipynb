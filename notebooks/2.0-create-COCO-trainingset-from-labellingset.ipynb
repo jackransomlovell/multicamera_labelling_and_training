{
 "cells": [
  {
   "cell_type": "markdown",
   "id": "28d15d3e",
   "metadata": {},
   "source": [
    "## This notebooks concatenates multiple Jarvis trainingsets into a single COCO formatted trainingset\n",
    "- **NOTE:** I reccomend using a different trainingset for detection vs pose prediction\n",
    "- **detection**: use a smaller dataset where data is closer to your specific rig / context\n",
    "- **pose recognition**: use a large and more diverse dataset, which can contain different species/strains in diverse conditions"
   ]
  },
  {
   "cell_type": "code",
   "execution_count": 1,
   "id": "c28ba006",
   "metadata": {},
   "outputs": [],
   "source": [
    "%load_ext autoreload\n",
    "%autoreload 2"
   ]
  },
  {
   "cell_type": "code",
   "execution_count": 2,
   "id": "de1e36a7",
   "metadata": {},
   "outputs": [],
   "source": [
    "from datetime import datetime\n",
    "from pathlib import Path\n",
    "from pprint import pprint\n",
    "import matplotlib.pyplot as plt"
   ]
  },
  {
   "cell_type": "markdown",
   "id": "184da3c7",
   "metadata": {},
   "source": [
    "#### Parameters"
   ]
  },
  {
   "cell_type": "code",
   "execution_count": 3,
   "id": "b6c4be2c",
   "metadata": {},
   "outputs": [],
   "source": [
    "# where you want to save your training set\n",
    "output_directory = Path(\"/n/groups/datta/tim_sainburg/datasets/scratch/test-training-sets\")\n",
    "\n",
    "# what to name the dataset\n",
    "trainingset_name = \"test-trainingset\""
   ]
  },
  {
   "cell_type": "code",
   "execution_count": 4,
   "id": "43d413d2",
   "metadata": {},
   "outputs": [],
   "source": [
    "# this needs to match with the order used in mmpose\n",
    "keypoints_order = [\n",
    "    \"nose_tip\",\n",
    "    \"left_ear\",\n",
    "    \"right_ear\",\n",
    "    \"left_eye\",\n",
    "    \"right_eye\",\n",
    "    \"throat\",\n",
    "    \"forehead\",\n",
    "    \"left_shoulder\",\n",
    "    \"right_shoulder\",\n",
    "    \"left_elbow\",\n",
    "    \"right_elbow\",\n",
    "    \"left_wrist\",\n",
    "    \"right_wrist\",\n",
    "    \"left_hind_paw_front\",\n",
    "    \"right_hind_paw_front\",\n",
    "    \"left_hind_paw_back\",\n",
    "    \"right_hind_paw_back\",\n",
    "    \"left_knee\",\n",
    "    \"right_knee\",\n",
    "    \"tail_base\",\n",
    "    \"spine_low\",\n",
    "    \"spine_mid\",\n",
    "    \"spine_high\",\n",
    "    \"left_fore_paw\",\n",
    "    \"right_fore_paw\",\n",
    "]"
   ]
  },
  {
   "cell_type": "markdown",
   "id": "3fafbdcd",
   "metadata": {},
   "source": [
    "### Select which labelling sets to use\n",
    "- **Note**: For the benefit of the rest of the lab, share the datasets you annotate"
   ]
  },
  {
   "cell_type": "code",
   "execution_count": 5,
   "id": "345107b1",
   "metadata": {},
   "outputs": [],
   "source": [
    "dataset_locs = [\n",
    "    \n",
    "    # 240502\n",
    "    {\n",
    "        \"location\": \"/n/groups/datta/tim_sainburg/projects/23-10-29-jarvis-datasets/sainburg-25pt/1920x1200/240502-npx_M04002-20-frames-dull/\",\n",
    "        \"use_in_validation\": True,\n",
    "    },\n",
    "    {\n",
    "        \"location\": \"/n/groups/datta/tim_sainburg/projects/23-10-29-jarvis-datasets/sainburg-25pt/1920x1200/240502-npx_M04003-20-frames-v2/\",\n",
    "        \"use_in_validation\": True,\n",
    "    },\n",
    "    {\n",
    "        \"location\": \"/n/groups/datta/tim_sainburg/projects/23-10-29-jarvis-datasets/sainburg-25pt/1920x1200/240502-npx_M04003-24-frames-v3/\",\n",
    "        \"use_in_validation\": True,\n",
    "    },\n",
    "    {\n",
    "        \"location\": \"/n/groups/datta/tim_sainburg/projects/23-10-29-jarvis-datasets/sainburg-25pt/1920x1200/240502-npx_M04002-20-frames-shiny/\",\n",
    "        \"use_in_validation\": True,\n",
    "    },\n",
    "    \n",
    "    {\n",
    "        \"location\": \"/n/groups/datta/tim_sainburg/projects/23-10-29-jarvis-datasets/sainburg-25pt/1920x1200/23-10-03-NUB-37954/\",\n",
    "        \"use_in_validation\": True,\n",
    "    },\n",
    "    {\n",
    "        \"location\": \"/n/groups/datta/tim_sainburg/projects/23-10-29-jarvis-datasets/sainburg-25pt/1920x1200/23-10-25-SM2-37837/\",\n",
    "        \"use_in_validation\": True,\n",
    "    },\n",
    "    {\n",
    "        \"location\": \"/n/groups/datta/tim_sainburg/projects/23-10-29-jarvis-datasets/sainburg-25pt/1920x1200/23-10-25-SM2-37838/\",\n",
    "        \"use_in_validation\": True,\n",
    "    },\n",
    "    {\n",
    "        \"location\": \"/n/groups/datta/tim_sainburg/projects/23-10-29-jarvis-datasets/sainburg-25pt/1920x1200/23-10-25-NUB-38027/\",\n",
    "        \"use_in_validation\": True,\n",
    "    },\n",
    "    {\n",
    "        \"location\": \"/n/groups/datta/tim_sainburg/projects/23-10-29-jarvis-datasets/sainburg-25pt/1920x1200/23-10-25-bk-38125/\",\n",
    "        \"use_in_validation\": True,\n",
    "    },\n",
    "    {\n",
    "        \"location\": \"/n/groups/datta/tim_sainburg/projects/23-10-29-jarvis-datasets/sainburg-25pt/1920x1200/23-10-25-SW-38157/\",\n",
    "        \"use_in_validation\": True,\n",
    "    },\n",
    "    {\n",
    "        \"location\": \"/n/groups/datta/tim_sainburg/projects/23-10-29-jarvis-datasets/sainburg-25pt/1920x1200/23-10-25-NUB-37956/\",\n",
    "        \"use_in_validation\": True,\n",
    "    },\n",
    "    {\n",
    "        \"location\": \"/n/groups/datta/tim_sainburg/projects/23-10-29-jarvis-datasets/sainburg-25pt/1920x1200/23-10-25-bk-38129/\",\n",
    "        \"use_in_validation\": True,\n",
    "    },\n",
    "    {\n",
    "        \"location\": \"/n/groups/datta/tim_sainburg/projects/23-10-29-jarvis-datasets/sainburg-25pt/1920x1200/23-10-25-BW-38102/\",\n",
    "        \"use_in_validation\": True,\n",
    "    },\n",
    "    {\n",
    "        \"location\": \"/n/groups/datta/tim_sainburg/projects/23-10-29-jarvis-datasets/sainburg-25pt/1920x1200/23-10-25-NUB-37952/\",\n",
    "        \"use_in_validation\": True,\n",
    "    },\n",
    "    {\n",
    "        \"location\": \"/n/groups/datta/tim_sainburg/projects/23-10-29-jarvis-datasets/sainburg-25pt/1920x1200/23-10-25-SW-38158/\",\n",
    "        \"use_in_validation\": True,\n",
    "    },\n",
    "    {\n",
    "        \"location\": \"/n/groups/datta/tim_sainburg/projects/23-10-29-jarvis-datasets/sainburg-25pt/1920x1200/23-10-25-bk-38127/\",\n",
    "        \"use_in_validation\": True,\n",
    "    },\n",
    "    {\n",
    "        \"location\": \"/n/groups/datta/tim_sainburg/projects/23-10-29-jarvis-datasets/sainburg-25pt/1920x1200/23-10-25-SW-28247/\",\n",
    "        \"use_in_validation\": True,\n",
    "    },\n",
    "    {\n",
    "        \"location\": \"/n/groups/datta/tim_sainburg/projects/23-10-29-jarvis-datasets/sainburg-25pt/1920x1200/23-10-25-SM2-37837/\",\n",
    "        \"use_in_validation\": True,\n",
    "    },\n",
    "    \n",
    "    {\n",
    "        \"location\": \"/n/groups/datta/tim_sainburg/projects/23-09-29-peromoseq/data/jarvis/labeling_datasets/resized/20230904_CALEB_JONAH/\",\n",
    "        \"use_in_validation\": False,\n",
    "    },\n",
    "    \n",
    "    {\n",
    "        \"location\": \"/n/groups/datta/tim_sainburg/projects/23-10-29-jarvis-datasets/sainburg-25pt/1920x1200/240423-npx_apollo-30-frames/\",\n",
    "        \"use_in_validation\": True,\n",
    "    },\n",
    "    {\n",
    "        \"location\": \"/n/groups/datta/tim_sainburg/projects/23-10-29-jarvis-datasets/sainburg-25pt/1920x1200/240423-npx_apollo-20-frames/\",\n",
    "        \"use_in_validation\": True,\n",
    "    },\n",
    "    {\n",
    "        \"location\": \"/n/groups/datta/tim_sainburg/projects/23-09-29-peromoseq/data/jarvis/labeling_datasets/resized/23-04-27-neural-recording/\",\n",
    "        \"use_in_validation\": False,\n",
    "    },\n",
    "    {\n",
    "        \"location\": \"/n/groups/datta/tim_sainburg/projects/23-09-29-peromoseq/data/jarvis/labeling_datasets/resized/23-05-01-14-37-54__23-04-20-headcap/\",\n",
    "        \"use_in_validation\": False,\n",
    "    },\n",
    "    {\n",
    "        \"location\": \"/n/groups/datta/tim_sainburg/projects/23-09-29-peromoseq/data/jarvis/labeling_datasets/resized/23-05-15-tethered-neural/\",\n",
    "        \"use_in_validation\": False,\n",
    "    },\n",
    "    {\n",
    "        \"location\": \"/n/groups/datta/tim_sainburg/projects/23-09-29-peromoseq/data/jarvis/labeling_datasets/resized/23-08-16-chronic_recordings_23-02-16-17-39-39-427329_larger/\",\n",
    "        \"use_in_validation\": False,\n",
    "    },\n",
    "    {\n",
    "        \"location\": \"/n/groups/datta/tim_sainburg/projects/23-09-29-peromoseq/data/jarvis/labeling_datasets/resized/400_frames_midspine/\",\n",
    "        \"use_in_validation\": False,\n",
    "    },\n",
    "    # multi-mouse\n",
    "    {\n",
    "        \"location\": \"/n/groups/datta/tim_sainburg/projects/23-10-29-jarvis-datasets/sainburg-25pt/1920x1200/20240314-sample-neuropixels-clear-100/\",\n",
    "        \"use_in_validation\": False,\n",
    "    },\n",
    "    {\n",
    "        \"location\": \"/n/groups/datta/tim_sainburg/projects/23-10-29-jarvis-datasets/sainburg-25pt/1920x1200/20240110-nacho-LOLO/\",\n",
    "        \"use_in_validation\": False,\n",
    "    },\n",
    "    \n",
    "    # downloaded datasets\n",
    "    {\n",
    "        \"location\": \"/n/groups/datta/tim_sainburg/projects/23-09-29-peromoseq/data/jarvis/labeling_datasets/resized/Gerbil2_bw_midspine/\",\n",
    "        \"use_in_validation\": False,\n",
    "    },\n",
    "        {\n",
    "        \"location\": \"/n/groups/datta/tim_sainburg/projects/23-09-29-peromoseq/data/jarvis/labeling_datasets/resized/Mouse_bw_midspine/\",\n",
    "        \"use_in_validation\": False,\n",
    "    },\n",
    "        {\n",
    "        \"location\": \"/n/groups/datta/tim_sainburg/projects/23-09-29-peromoseq/data/jarvis/labeling_datasets/resized/Rat_Dataset_bw_midspine/\",\n",
    "        \"use_in_validation\": False,\n",
    "    },\n",
    "\n",
    "]"
   ]
  },
  {
   "cell_type": "markdown",
   "id": "6a567e99",
   "metadata": {},
   "source": [
    "### Create trainingset"
   ]
  },
  {
   "cell_type": "code",
   "execution_count": 6,
   "id": "9e9aa315",
   "metadata": {},
   "outputs": [],
   "source": [
    "from multicamera_labelling_and_training.labelling_set_to_training_set import TrainingSetCreator"
   ]
  },
  {
   "cell_type": "code",
   "execution_count": 7,
   "id": "793765e6",
   "metadata": {},
   "outputs": [],
   "source": [
    "tsc = TrainingSetCreator(\n",
    "    output_directory=output_directory,\n",
    "    trainingset_name=trainingset_name,\n",
    "    percent_validation = 0.1,\n",
    "    keypoints_order = keypoints_order,\n",
    "    padding = 60 # how much padding to place around the \n",
    ")"
   ]
  },
  {
   "cell_type": "code",
   "execution_count": 8,
   "id": "5ac9f524",
   "metadata": {},
   "outputs": [
    {
     "data": {
      "application/vnd.jupyter.widget-view+json": {
       "model_id": "f4dcd94695c346e6ad9af13dbdeac2ad",
       "version_major": 2,
       "version_minor": 0
      },
      "text/plain": [
       "copying images from 23-10-03-NUB-37954:   0%|          | 0/6 [00:00<?, ?it/s]"
      ]
     },
     "metadata": {},
     "output_type": "display_data"
    },
    {
     "data": {
      "application/vnd.jupyter.widget-view+json": {
       "model_id": "",
       "version_major": 2,
       "version_minor": 0
      },
      "text/plain": [
       "BackLeft:   0%|          | 0/50 [00:00<?, ?it/s]"
      ]
     },
     "metadata": {},
     "output_type": "display_data"
    },
    {
     "data": {
      "application/vnd.jupyter.widget-view+json": {
       "model_id": "",
       "version_major": 2,
       "version_minor": 0
      },
      "text/plain": [
       "BackRight:   0%|          | 0/50 [00:00<?, ?it/s]"
      ]
     },
     "metadata": {},
     "output_type": "display_data"
    },
    {
     "data": {
      "application/vnd.jupyter.widget-view+json": {
       "model_id": "",
       "version_major": 2,
       "version_minor": 0
      },
      "text/plain": [
       "Bottom:   0%|          | 0/50 [00:00<?, ?it/s]"
      ]
     },
     "metadata": {},
     "output_type": "display_data"
    },
    {
     "data": {
      "application/vnd.jupyter.widget-view+json": {
       "model_id": "",
       "version_major": 2,
       "version_minor": 0
      },
      "text/plain": [
       "FrontLeft:   0%|          | 0/50 [00:00<?, ?it/s]"
      ]
     },
     "metadata": {},
     "output_type": "display_data"
    },
    {
     "data": {
      "application/vnd.jupyter.widget-view+json": {
       "model_id": "",
       "version_major": 2,
       "version_minor": 0
      },
      "text/plain": [
       "FrontRight:   0%|          | 0/50 [00:00<?, ?it/s]"
      ]
     },
     "metadata": {},
     "output_type": "display_data"
    },
    {
     "data": {
      "application/vnd.jupyter.widget-view+json": {
       "model_id": "",
       "version_major": 2,
       "version_minor": 0
      },
      "text/plain": [
       "Top:   0%|          | 0/50 [00:00<?, ?it/s]"
      ]
     },
     "metadata": {},
     "output_type": "display_data"
    },
    {
     "data": {
      "application/vnd.jupyter.widget-view+json": {
       "model_id": "7f4ae9da704d42f3a56c34a2cf5e2280",
       "version_major": 2,
       "version_minor": 0
      },
      "text/plain": [
       "copying images from 23-10-25-SM2-37837:   0%|          | 0/6 [00:00<?, ?it/s]"
      ]
     },
     "metadata": {},
     "output_type": "display_data"
    },
    {
     "data": {
      "application/vnd.jupyter.widget-view+json": {
       "model_id": "",
       "version_major": 2,
       "version_minor": 0
      },
      "text/plain": [
       "BackLeft:   0%|          | 0/50 [00:00<?, ?it/s]"
      ]
     },
     "metadata": {},
     "output_type": "display_data"
    },
    {
     "data": {
      "application/vnd.jupyter.widget-view+json": {
       "model_id": "",
       "version_major": 2,
       "version_minor": 0
      },
      "text/plain": [
       "BackRight:   0%|          | 0/50 [00:00<?, ?it/s]"
      ]
     },
     "metadata": {},
     "output_type": "display_data"
    },
    {
     "data": {
      "application/vnd.jupyter.widget-view+json": {
       "model_id": "",
       "version_major": 2,
       "version_minor": 0
      },
      "text/plain": [
       "Bottom:   0%|          | 0/50 [00:00<?, ?it/s]"
      ]
     },
     "metadata": {},
     "output_type": "display_data"
    },
    {
     "data": {
      "application/vnd.jupyter.widget-view+json": {
       "model_id": "",
       "version_major": 2,
       "version_minor": 0
      },
      "text/plain": [
       "FrontLeft:   0%|          | 0/50 [00:00<?, ?it/s]"
      ]
     },
     "metadata": {},
     "output_type": "display_data"
    },
    {
     "data": {
      "application/vnd.jupyter.widget-view+json": {
       "model_id": "",
       "version_major": 2,
       "version_minor": 0
      },
      "text/plain": [
       "FrontRight:   0%|          | 0/50 [00:00<?, ?it/s]"
      ]
     },
     "metadata": {},
     "output_type": "display_data"
    },
    {
     "data": {
      "application/vnd.jupyter.widget-view+json": {
       "model_id": "",
       "version_major": 2,
       "version_minor": 0
      },
      "text/plain": [
       "Top:   0%|          | 0/50 [00:00<?, ?it/s]"
      ]
     },
     "metadata": {},
     "output_type": "display_data"
    },
    {
     "data": {
      "application/vnd.jupyter.widget-view+json": {
       "model_id": "3a0c618290334def8fcf21bff56e84c2",
       "version_major": 2,
       "version_minor": 0
      },
      "text/plain": [
       "framesets:   0%|          | 0/100 [00:00<?, ?it/s]"
      ]
     },
     "metadata": {},
     "output_type": "display_data"
    }
   ],
   "source": [
    "tsc.run(labelling_sets=labelling_sets)"
   ]
  },
  {
   "cell_type": "code",
   "execution_count": null,
   "id": "8527294b",
   "metadata": {},
   "outputs": [],
   "source": []
  }
 ],
 "metadata": {
  "kernelspec": {
   "display_name": "Python (peromoseq)",
   "language": "python",
   "name": "peromoseq"
  },
  "language_info": {
   "codemirror_mode": {
    "name": "ipython",
    "version": 3
   },
   "file_extension": ".py",
   "mimetype": "text/x-python",
   "name": "python",
   "nbconvert_exporter": "python",
   "pygments_lexer": "ipython3",
   "version": "3.10.13"
  }
 },
 "nbformat": 4,
 "nbformat_minor": 5
}
